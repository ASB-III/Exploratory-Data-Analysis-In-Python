{
 "cells": [
  {
   "cell_type": "markdown",
   "metadata": {},
   "source": [
    "# EDA Prior to Fitting a Classification Model\n",
    "### Learn about recommended EDA steps before fitting a classification model.\n",
    "\n",
    "\n",
    "# Introduction\n",
    "Similar to regression models, it is important to conduct EDA before fitting a classification model. An EDA should check the assumptions of the classification model, inspect how the data are coded, and check for strong relationships between features. In this article, we will explore some of the EDA techniques that are generally employed prior to fitting a classification model.\n",
    "\n",
    "\n",
    "# Data\n",
    "Suppose we want to build a model to predict whether a patient has heart disease or not based on other characteristics about them. We have downloaded a dataset from the UCI Machine Learning Repository about heart disease which contains patient information such as:\n",
    "\n",
    "\n",
    "- age: age in years\n",
    "- sex: male (1) or female (0)\n",
    "- cp: chest pain type\n",
    "- trestbps: resting blood pressure (mm Hg)\n",
    "- chol: cholesterol level\n",
    "- fbs: fasting blood sugar level (normal or not)\n",
    "- restecg: resting electrocardiograph results\n",
    "- thalach: maximum heart rate from an exercise test\n",
    "- exang: presence of exercise-induced angina\n",
    "- oldpeak: ST depression induced by exercise relative to rest\n",
    "- slope: slope of peak exercise ST segment\n",
    "- ca: number of vessels colored by flourosopy (0 through 3)\n",
    "- thal: type of defect (3, 6 or 7)\n",
    "\n",
    "\n",
    "The response variable for this analysis will be heart_disease, which we have condensed down to either 0 (if the patient does not have heart disease) or 1 (the patient does have heart disease).\n",
    "\n",
    "EDA is extremely useful to better understand which patient attributes are highly related to heart disease, and ultimately to build a classification model that can accurately predict whether someone has heart disease based on their measurements. By exploring the data, we may be able to see which variables — or which combination of variables — provide the most information about whether or not the patient has heart disease.\n",
    "\n",
    "# Preview the data\n",
    "Similar to EDA prior to a regression model, it is good to begin EDA with inspecting the first few rows of data:"
   ]
  },
  {
   "cell_type": "code",
   "execution_count": null,
   "metadata": {},
   "outputs": [],
   "source": [
    "print(heart.head())"
   ]
  },
  {
   "cell_type": "code",
   "execution_count": null,
   "metadata": {},
   "outputs": [],
   "source": [
    "\tage\tsex\tcp\ttrestbps\tchol\tfbs\trestecg\tthalach\texang\toldpeak\tslope\tca\tthal\theart_disease\n",
    "0\t63\t1\t1\t145\t233\t1\t2\t150\t0\t2.3\t3\t0\t6\t0\n",
    "1\t67\t1\t4\t160\t286\t0\t2\t108\t1\t1.5\t2\t3\t3\t2\n",
    "2\t67\t1\t4\t120\t229\t0\t2\t129\t1\t2.6\t2\t2\t7\t1\n",
    "3\t37\t1\t3\t130\t250\t0\t0\t187\t0\t3.5\t3\t0\t3\t0\n",
    "4\t41\t0\t2\t130\t204\t0\t2\t172\t0\t1.4\t1\t0\t3\t0"
   ]
  },
  {
   "cell_type": "markdown",
   "metadata": {},
   "source": [
    "By looking at the first rows of data, we can note that all of the columns appear to contain numbers. We can quickly check for missing values and data types by using .info():"
   ]
  },
  {
   "cell_type": "code",
   "execution_count": null,
   "metadata": {},
   "outputs": [],
   "source": [
    "print(heart.info())"
   ]
  },
  {
   "cell_type": "markdown",
   "metadata": {},
   "source": [
    "Output:"
   ]
  },
  {
   "cell_type": "markdown",
   "metadata": {},
   "source": [
    "Data columns (total 14 columns):\n",
    " #   Column         Non-Null Count  Dtype  \n",
    "---  ------         --------------  -----  \n",
    " 0   age            303 non-null    int64  \n",
    " 1   sex            303 non-null    int64  \n",
    " 2   cp             303 non-null    int64  \n",
    " 3   trestbps       303 non-null    int64  \n",
    " 4   chol           303 non-null    int64  \n",
    " 5   fbs            303 non-null    int64  \n",
    " 6   restecg        303 non-null    int64  \n",
    " 7   thalach        303 non-null    int64  \n",
    " 8   exang          303 non-null    int64  \n",
    " 9   oldpeak        303 non-null    float64\n",
    " 10  slope          303 non-null    int64  \n",
    " 11  ca             303 non-null    object \n",
    " 12  thal           303 non-null    object \n",
    " 13  heart_disease  303 non-null    int64  \n",
    "dtypes: float64(1), int64(11), object(2)"
   ]
  },
  {
   "cell_type": "markdown",
   "metadata": {},
   "source": [
    "We can see that all columns have a count of “303 non-null” values, meaning there are no blank spaces in the dataset. However, there can still be other ways that missing data can be hiding in the data. For example, ca and thal are object data types, indicating that there is at least one character in each of these columns which are preventing the variable from being read as a numeric data type. This could be either an input mistake (such as the letter “o” in place of a “0”), or it can be an indication of how missing data were handled. Depending on which model program is used, you may have to find and remove the observations with characters before proceeding with the model.\n",
    "\n",
    "We also want to make sure to check how categorical data is encoded before proceeding with model fitting. For example, cp is the patient’s chest pain type and is indicated by a number between 1 and 4. These numbers are intended to be treated as groups, so this variable should be changed into an object before continuing into the analysis.\n",
    "\n",
    "# Pair plot\n",
    "We can explore the relationships between the different numeric variables using a pair plot. If we also color the observations based on heart disease status, we can simultaneously get a sense for a) which features are most associated with heart disease status and b) whether there are any pairs of features that are jointly useful for determining heart disease status:"
   ]
  },
  {
   "cell_type": "markdown",
   "metadata": {},
   "source": [
    "![](https://static-assets.codecademy.com/Courses/EDA/pairplot1.svg)"
   ]
  },
  {
   "cell_type": "markdown",
   "metadata": {},
   "source": [
    "In this pair plot, we are looking for patterns between the two color groups. Looking at the density plots along the diagonal, there are no features that cleanly separate the groups (age has the most separation). However, looking at the scatterplot for age and thalach (maximum heart rate from an exercise test), there is more clear separation. It appears that patients who are old and have low thalach are more likely to be diagnosed with heart disease than patients who are young and have high thalach. This suggests that we want to make sure both of these features are included in our model.\n",
    "\n",
    "# Correlation heat map\n",
    "Similar to linear regression, some classification models assume no multicollinearity in the data, meaning that two highly correlated predictors should not be included in the model. We can check this assumption by looking at a correlation heat map:"
   ]
  },
  {
   "cell_type": "markdown",
   "metadata": {},
   "source": [
    "![](https://static-assets.codecademy.com/Courses/EDA/heatmap1.svg)"
   ]
  },
  {
   "cell_type": "markdown",
   "metadata": {},
   "source": [
    "There is no set value for what counts as “highly correlated”, however a general rule is a correlation of 0.7 (or -0.7). There are no pairs of features with a correlation of 0.7 or higher, so we do not need to consider leaving any features out of our model based on multicollinearity.\n",
    "\n",
    "# Further exploration\n",
    "You can use more complex visualizations to examine the relationships between 2 or more features and the response variable at the same time. For example, the following boxplots show the relationship between oldpeak, slope, and heart_disease:"
   ]
  },
  {
   "cell_type": "markdown",
   "metadata": {},
   "source": [
    "![](https://static-assets.codecademy.com/Courses/EDA/boxplot1.svg)"
   ]
  },
  {
   "cell_type": "markdown",
   "metadata": {},
   "source": [
    "In this boxplot, we can see a pretty distinct difference between those with heart disease and those without at slope level 3. Seeing this distinction indicates that on average oldpeak is connected to heart disease at different slope levels. This gives insight that it might be beneficial to include an interaction term between oldpeak and slope in a linear regression model.\n",
    "\n",
    "# Classification model results\n",
    "After this EDA, we can run a principal component analysis (PCA), which attempts to identify which features (or combination of features) are highly related to heart disease. Ideal results of a PCA show one or more pairs of principal components with some separation between the colored groups:\n",
    "\n",
    "![](https://www.codecademy.com/courses/eda-exploratory-data-analysis-python/articles/pca_pairplot.svg)\n",
    "\n",
    "This is a pair plot showing the results of a 5-principal component analysis\n",
    "\n",
    "We can see here that there are not any clear separations, which would indicate that this is not an effective analysis. However, we might use the weights of the components to further explore relationships between features and use that in other analyses.\n",
    "\n",
    "# Conclusion\n",
    "Exploring the data in the ways outlined above will help prepare you to build an effective classification model. These steps ensure that the data is properly coded and can be useful for both feature selection and model tuning."
   ]
  }
 ],
 "metadata": {
  "interpreter": {
   "hash": "126de395fc5ab05c9b404d5156ac230f2dc2d73638f7037ba66d30fa539ce6ef"
  },
  "kernelspec": {
   "display_name": "Python 3.10.1 64-bit",
   "language": "python",
   "name": "python3"
  },
  "language_info": {
   "name": "python",
   "version": "3.10.1"
  },
  "orig_nbformat": 4
 },
 "nbformat": 4,
 "nbformat_minor": 2
}
