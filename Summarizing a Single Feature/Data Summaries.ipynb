{
 "cells": [
  {
   "cell_type": "markdown",
   "metadata": {},
   "source": [
    "# DATA SUMMARIES\n",
    "## Introduction\n",
    "Before diving into formal analysis with a dataset, it is often helpful to perform some initial investigations of the data through [exploratory data analysis (EDA)](https://en.wikipedia.org/wiki/Exploratory_data_analysis) to get a better sense of what you will be working with. Basic summary statistics and visualizations are important components of EDA as they allow us to condense a large amount of information into a small set of numbers or graphics that can be easily interpreted.\n",
    "\n",
    "This lesson focuses on univariate summaries, where we explore each variable separately. This is useful for answering questions about each individual feature. Variables can typically be classified as quantitative (i.e., numeric) or categorical (i.e., discrete). Depending on its type, we may want to choose different summary metrics and visuals to use.\n",
    "\n",
    "Let’s say we have the following dataset on New York City rental listings imported into a pandas DataFrame (subsetted from the [StreetEasy dataset](https://www.codecademy.com/content-items/d19f2f770877c419fdbfa64ddcc16edc)):"
   ]
  },
  {
   "cell_type": "code",
   "execution_count": null,
   "metadata": {},
   "outputs": [],
   "source": [
    "import pandas as pd\n",
    " \n",
    "# Import dataset\n",
    "rentals = pd.read_csv('streeteasy.csv')\n",
    " \n",
    "# Preview first 5 rows\n",
    "print(rentals.head())"
   ]
  },
  {
   "cell_type": "markdown",
   "metadata": {},
   "source": [
    "rent|size_sqft|borough\n",
    "----|---------|-------\n",
    "2550|480|Manhattan\n",
    "11500|2000|Manhattan\n",
    "3000|1000|Queens\n",
    "4500|916|Manhattan\n",
    "4795|975|Manhattan"
   ]
  },
  {
   "cell_type": "markdown",
   "metadata": {},
   "source": [
    "As seen, we have two quantitative variables (rent and size_sqft) and one categorical variable (borough). The pandas library offers a handy method .describe() for displaying some of the most common summary statistics for the columns in a DataFrame. By default, the result only includes numeric columns, but we can specify include='all' to the method to display categorical ones as well:"
   ]
  },
  {
   "cell_type": "code",
   "execution_count": null,
   "metadata": {},
   "outputs": [],
   "source": [
    "# Display summary statistics for all columns\n",
    "print(rentals.describe(include='all'))"
   ]
  },
  {
   "cell_type": "markdown",
   "metadata": {},
   "source": [
    "--|rent|size_sqft|borough\n",
    "----|----|-----|--------|\n",
    "count|5000.000000|5000.000000|5000\n",
    "unique|NaN|NaN|3\n",
    "top|NaN|NaN|Manhattan\n",
    "freq|NaN|NaN|3539\n",
    "mean|4536.920800|920.101400|NaN\n",
    "std|2929.838953|440.150464|NaN\n",
    "min|1250.000000|250.000000|NaN\n",
    "25%|2750.000000|633.000000|NaN\n",
    "50%|3600.000000|800.000000|NaN\n",
    "75%|5200.000000|1094.000000|NaN\n",
    "max|20000.000000|4800.000000|NaN"
   ]
  },
  {
   "cell_type": "markdown",
   "metadata": {},
   "source": [
    "This is a great way to get an overview of all the variables in a dataset. Notice how different statistics are displayed depending on the variable type. In the rest of the lesson, we’ll look more closely at the common ways to summarize and visualize quantitative and categorical variables."
   ]
  },
  {
   "cell_type": "markdown",
   "metadata": {},
   "source": [
    "## Instructions\n",
    "##### 1. In script.py, we’ve imported a dataset containing information on the budget and earnings of movies from various genres into a DataFrame called movies.\n",
    "\n",
    "Start by inspecting the first 5 rows of movies using the .head() method and print the result.\n",
    "\n",
    "How many quantitative and categorical variables do you see?\n",
    "\n",
    "\n",
    "`Hint`<br>\n",
    "`Besides the movie title column, there are 3 quantitative variables (production_budget, domestic_gross, worldwide_gross) and 2 categorical variables (mpaa_rating, genre).`\n",
    "\n",
    "##### 2. Use the .describe() method to display the summary statistics for movies and print the result. Make sure to show statistics for all columns in the DataFrame.\n",
    "\n",
    "What kinds of metrics are displayed for quantitative columns versus categorical columns?\n",
    "\n",
    "\n",
    "`Hint`<br>\n",
    "`Summary statistics like mean, standard deviation, and percentiles are well-suited for describing quantitative variables, while categorical variables can be summarized by the count and frequency of their distinct categorical values.`"
   ]
  },
  {
   "cell_type": "code",
   "execution_count": null,
   "metadata": {},
   "outputs": [],
   "source": [
    "import pandas as pd\n",
    "\n",
    "movies = pd.read_csv('movies.csv')\n",
    "\n",
    "# Print the first 5 rows \n",
    "print(movies.head())\n",
    "\n",
    "# Print the summary statistics for all columns\n",
    "print(movies.describe(include = 'all'))"
   ]
  },
  {
   "cell_type": "markdown",
   "metadata": {},
   "source": [
    "# Central Tendency for Quantitative Data\n",
    "For quantitative variables, we often want to describe the central tendency, or the “typical” value of a variable. For example, what is the typical cost of rent in New York City?\n",
    "\n",
    "\n",
    "There are several common measures of central tendency:\n",
    "\n",
    "\n",
    "- Mean: The average value of the variable, calculated as the sum of all values divided by the \n",
    "- number of values.\n",
    "- Median: The middle value of the variable when sorted.\n",
    "- Mode: The most frequent value of the variable.\n",
    "- Trimmed mean: The mean excluding x percent of the lowest and highest data points.\n",
    "\n",
    "\n",
    "For our rentals DataFrame with a column named rent that contains rental prices, we can calculate the central tendency statistics listed above as follows:"
   ]
  },
  {
   "cell_type": "code",
   "execution_count": null,
   "metadata": {},
   "outputs": [],
   "source": [
    "# Mean\n",
    "rentals.rent.mean()\n",
    " \n",
    "# Median\n",
    "rentals.rent.median()\n",
    " \n",
    "# Mode\n",
    "rentals.rent.mode()\n",
    " \n",
    "# Trimmed mean\n",
    "from scipy.stats import trim_mean\n",
    "trim_mean(rentals.rent, proportiontocut=0.1)  # trim extreme 10%"
   ]
  },
  {
   "cell_type": "markdown",
   "metadata": {},
   "source": [
    "Instructions\n",
    "##### 1. Using the same movies DataFrame from the last exercise, find the mean production_budget for all movies and save it to a variable called mean_budget. Print mean_budget to see the result.\n",
    "\n",
    "##### 2. Save the median budget to a variable called med_budget and print the result.\n",
    "\n",
    "##### 3. Save the mode to a variable called mode_budget and print the result.\n",
    "\n",
    "How do the mean, median, and mode of movie budgets compare to each other?\n",
    "\n",
    "\n",
    "`Hint`<br>\n",
    "`The median and mode for production_budget are the same at $20M, indicating that is both the middle value and the most frequently occurring value. The mean is quite a bit higher at around $33M, suggesting there may be some outlier movies with extremely high budgets that are pulling the average upward.`\n",
    "\n",
    "##### 4. Find the mean of the budget after removing 20% of the lowest and highest data points. Save the trimmed mean to a variable called trmean_budget and print the result.\n",
    "\n",
    "How does trimming the most extreme data points affect the mean budget?\n",
    "\n",
    "\n",
    "`Hint` <br>\n",
    "`The trimmed mean is just under $24M, which is much lower compared to the original mean of $33M and also much closer to the median and mode values. This makes sense because the mean is affected by outliers, so removing the extreme values can bring the mean closer to what would be considered a representative, “typical” budget value.`"
   ]
  },
  {
   "cell_type": "code",
   "execution_count": null,
   "metadata": {},
   "outputs": [],
   "source": [
    "import pandas as pd\n",
    "\n",
    "movies = pd.read_csv('movies.csv')\n",
    "\n",
    "# Save the mean to mean_budget\n",
    "mean_budget = movies.production_budget.mean()\n",
    "print(mean_budget)\n",
    "\n",
    "# Save the median to med_budget\n",
    "med_budget = movies.production_budget.median()\n",
    "print(med_budget)\n",
    "\n",
    "# Save the mode to mode_budget\n",
    "mode_budget = movies.production_budget.mode()\n",
    "print(mode_budget)\n",
    "\n",
    "# Save the trimmed mean to trmean_budget\n",
    "from scipy.stats import trim_mean\n",
    "trmean_budget = trim_mean(movies.production_budget, proportiontocut = 0.2)\n",
    "\n",
    "from scipy.stats import trim_mean\n",
    "\n",
    "trmean_budget = trim_mean(movies.production_budget, proportiontocut=0.2)\n",
    "print(trmean_budget)\n",
    "\n"
   ]
  },
  {
   "cell_type": "markdown",
   "metadata": {},
   "source": [
    "# Spread for Quantitative Data\n",
    "The spread of a quantitative variable describes the amount of variability. This is important because it provides context for measures of central tendency. For example, if there is a lot of variability in New York City rent prices, we can be less certain that the mean or median price is representative of what the typical rent is.\n",
    "\n",
    "There are several common measures of spread:\n",
    "\n",
    "- Range: The difference between the maximum and minimum values of a variable.\n",
    "- Interquartile range (IQR): The difference between the 75th and 25th percentile values.\n",
    "- Variance: The average of the squared distance from each data point to the mean.\n",
    "- Standard deviation (SD): The square root of the variance.\n",
    "- Mean absolute deviation (MAD): The mean absolute value of the distance between each data point and the mean.\n",
    "\n",
    "\n",
    "For our rentals DataFrame, we can calculate the spread for the rent column as follows:"
   ]
  },
  {
   "cell_type": "code",
   "execution_count": null,
   "metadata": {},
   "outputs": [],
   "source": [
    "# Range\n",
    "rentals.rent.max() - rentals.rent.min()\n",
    " \n",
    "# Interquartile range\n",
    "rentals.rent.quantile(0.75) - rentals.rent.quantile(0.25)\n",
    " \n",
    "from scipy.stats import iqr\n",
    "iqr(rentals.rent)  # alternative way\n",
    " \n",
    "# Variance\n",
    "rentals.rent.var()\n",
    " \n",
    "# Standard deviation\n",
    "rentals.rent.std()\n",
    " \n",
    "# Mean absolute deviation\n",
    "rentals.rent.mad()"
   ]
  },
  {
   "cell_type": "markdown",
   "metadata": {},
   "source": [
    "## Instructions\n",
    "1. Using the movies DataFrame, find the range for production_budget and save it to a variable called range_budget. Print range_budget to see the result.\n",
    "\n",
    "2. Save the interquartile range for budget to a variable called iqr_budget and print the result.\n",
    "\n",
    "3. Save the variance to a variable called var_budget and print the result.\n",
    "\n",
    "4. Save the standard deviation to a variable called std_budget and print the result.\n",
    "\n",
    "5. Save the mean absolute deviation to a variable called mad_budget and print the result."
   ]
  },
  {
   "cell_type": "code",
   "execution_count": null,
   "metadata": {},
   "outputs": [],
   "source": [
    "import pandas as pd\n",
    "\n",
    "movies = pd.read_csv('movies.csv')\n",
    "\n",
    "# Save the range to range_budget\n",
    "range_budget = movies.production_budget.max() - movies.production_budget.min()\n",
    "print(range_budget)\n",
    "\n",
    "# Save the interquartile range to iqr_budget\n",
    "iqr_budget = movies.production_budget.quantile(0.75) - movies.production_budget.quantile(0.25)\n",
    "print(iqr_budget)\n",
    "\n",
    "# Save the variance to var_budget\n",
    "var_budget = movies.production_budget.var()\n",
    "print(var_budget)\n",
    "\n",
    "# Save the standard deviation to std_budget\n",
    "std_budget = movies.production_budget.std()\n",
    "print(std_budget)\n",
    "\n",
    "# Save the mean absolute deviation to mad_budget\n",
    "mad_budget = movies.production_budget.mad()\n",
    "print(mad_budget)\n"
   ]
  },
  {
   "cell_type": "markdown",
   "metadata": {},
   "source": [
    "# Visualizing Quantitative Variables\n",
    "While summary statistics are certainly helpful for exploring and quantifying a feature, we might find it hard to wrap our minds around a bunch of numbers. This is why data visualization is such a powerful element of EDA.\n",
    "\n",
    "For quantitative variables, boxplots and histograms are two common visualizations. These plots are useful because they simultaneously communicate information about minimum and maximum values, central location, and spread. Histograms can additionally illuminate patterns that can impact an analysis (e.g., skew or multimodality).\n",
    "\n",
    "Python’s seaborn library, built on top of matplotlib, offers the boxplot() and histplot() functions to easily plot data from a pandas DataFrame:"
   ]
  },
  {
   "cell_type": "code",
   "execution_count": null,
   "metadata": {},
   "outputs": [],
   "source": [
    "import matplotlib.pyplot as plt \n",
    "import seaborn as sns\n",
    " \n",
    "# Boxplot for rent\n",
    "sns.boxplot(x='rent', data=rentals)\n",
    "plt.show()\n",
    "plt.close()"
   ]
  },
  {
   "cell_type": "markdown",
   "metadata": {},
   "source": [
    "![](https://static-assets.codecademy.com/Courses/EDA/Data_Summaries/boxplot.svg)"
   ]
  },
  {
   "cell_type": "code",
   "execution_count": null,
   "metadata": {},
   "outputs": [],
   "source": [
    "# Histogram for rent\n",
    "sns.histplot(x='rent', data=rentals)\n",
    "plt.show()\n",
    "plt.close()\n"
   ]
  },
  {
   "cell_type": "markdown",
   "metadata": {},
   "source": [
    "![](https://static-assets.codecademy.com/Courses/EDA/Data_Summaries/histplot.svg)"
   ]
  },
  {
   "cell_type": "markdown",
   "metadata": {},
   "source": [
    "## Instructions\n",
    "##### 1. Using the movies DataFrame, create a boxplot for production_budget using the boxplot() function from seaborn. Don’t forget to display the plot using plt.show() and close the plot using plt.close().\n",
    "\n",
    "##### 2. Create a histogram for production_budget using the histplot() function from seaborn.\n",
    "\n",
    "From the plots, what do you notice about the distribution of movie budgets?\n",
    "\n",
    "\n",
    "`Hint`<br>\n",
    "`Both plots show that the distribution of movie budgets is skewed to the right, with some outlier movies having extremely high budgets. This is consistent with the high mean budget value we saw earlier, since the mean is affected by skewness and outliers.`"
   ]
  },
  {
   "cell_type": "code",
   "execution_count": null,
   "metadata": {},
   "outputs": [],
   "source": [
    "import codecademylib3\n",
    "import pandas as pd\n",
    "import matplotlib.pyplot as plt\n",
    "import seaborn as sns\n",
    "\n",
    "movies = pd.read_csv('movies.csv')\n",
    "\n",
    "# Create a boxplot for movie budget \n",
    "\n",
    "sns.boxplot(x='production_budget', data=movies)\n",
    "plt.show()\n",
    "plt.close()\n",
    "\n",
    "# Create a histogram for movie budget\n",
    "sns.histplot(x='production_budget', data=movies)\n",
    "plt.show()\n",
    "plt.close()\n"
   ]
  },
  {
   "cell_type": "markdown",
   "metadata": {},
   "source": [
    "# Value Counts for Categorical Data\n",
    "When it comes to categorical variables, the measures of central tendency and spread that worked for describing numeric variables, like mean and standard deviation, generally becomes unsuitable when we’re dealing with discrete values. Unlike numbers, categorical values are not continuous and oftentimes do not have an intrinsic ordering.\n",
    "\n",
    "Instead, a good way to summarize categorical variables is to generate a frequency table containing the count of each distinct value. For example, we may be interested to know how many of the New York City rental listings are from each borough. Related, we can also find which borough has the most listings.\n",
    "\n",
    "The pandas library offers the .value_counts() method for generating the counts of all values in a DataFrame column:"
   ]
  },
  {
   "cell_type": "code",
   "execution_count": null,
   "metadata": {},
   "outputs": [],
   "source": [
    "# Counts of rental listings in each borough\n",
    "df.borough.value_counts()"
   ]
  },
  {
   "cell_type": "markdown",
   "metadata": {},
   "source": [
    "Output:"
   ]
  },
  {
   "cell_type": "code",
   "execution_count": null,
   "metadata": {},
   "outputs": [],
   "source": [
    "Manhattan    3539\n",
    "Brooklyn     1013\n",
    "Queens        448"
   ]
  },
  {
   "cell_type": "markdown",
   "metadata": {},
   "source": [
    "By default, it returns the results sorted in descending order by count, where the top element is the mode, or the most frequently appearing value. In this case, the mode is Manhattan with 3,539 rental listings."
   ]
  },
  {
   "cell_type": "markdown",
   "metadata": {},
   "source": [
    "## Instructions\n",
    "##### 1. Using the movies DataFrame, find the number of movies in each genre and save the counts to a variable called genre_counts. Print genre_counts to see the result."
   ]
  },
  {
   "cell_type": "code",
   "execution_count": null,
   "metadata": {},
   "outputs": [],
   "source": [
    "import pandas as pd\n",
    "\n",
    "movies = pd.read_csv('movies.csv')\n",
    "\n",
    "# Save the counts to genre_counts\n",
    "\n",
    "genre_counts = movies.genre.value_counts()\n",
    "print(genre_counts)"
   ]
  },
  {
   "cell_type": "markdown",
   "metadata": {},
   "source": [
    "# Value Proportions for Categorical Data\n",
    "A counts table is one approach for exploring categorical variables, but sometimes it is useful to also look at the proportion of values in each category. For example, knowing that there are 3,539 rental listings in Manhattan is hard to interpret without any context about the counts in the other categories. On the other hand, knowing that Manhattan listings make up 71% of all New York City listings tells us a lot more about the relative frequency of this category.\n",
    "\n",
    "We can calculate the proportion for each category by dividing its count by the total number of values for that variable:"
   ]
  },
  {
   "cell_type": "code",
   "execution_count": null,
   "metadata": {},
   "outputs": [],
   "source": [
    "# Proportions of rental listings in each borough\n",
    "rentals.borough.value_counts() / len(rentals.borough)"
   ]
  },
  {
   "cell_type": "markdown",
   "metadata": {},
   "source": [
    "Output:"
   ]
  },
  {
   "cell_type": "code",
   "execution_count": null,
   "metadata": {},
   "outputs": [],
   "source": [
    "Manhattan    0.7078\n",
    "Brooklyn     0.2026\n",
    "Queens       0.0896"
   ]
  },
  {
   "cell_type": "markdown",
   "metadata": {},
   "source": [
    "Alternatively, we could also obtain the proportions by specifying normalize=True to the .value_counts() method:"
   ]
  },
  {
   "cell_type": "code",
   "execution_count": null,
   "metadata": {},
   "outputs": [],
   "source": [
    "df.borough.value_counts(normalize=True)"
   ]
  },
  {
   "cell_type": "markdown",
   "metadata": {},
   "source": [
    "## Instructions\n",
    "##### 1. Using the movies DataFrame, find the proportion of movies in each genre and save them to a variable called genre_props. Print genre_props to see the result."
   ]
  },
  {
   "cell_type": "code",
   "execution_count": null,
   "metadata": {},
   "outputs": [],
   "source": [
    "import pandas as pd\n",
    "\n",
    "movies = pd.read_csv('movies.csv')\n",
    "\n",
    "# Save the proportions to genre_props\n",
    "genre_props = movies.genre.value_counts(normalize=True)\n",
    "print(genre_props)\n"
   ]
  },
  {
   "cell_type": "markdown",
   "metadata": {},
   "source": [
    "## Visualizing Categorical Variables\n",
    "For categorical variables, bar charts and pie charts are common options for visualizing the count (or proportion) of values in each category. They can also convey the relative frequencies of each category.\n",
    "\n",
    "Python’s seaborn library offers several functions that can create bar charts. The simplest for plotting the counts is countplot():"
   ]
  },
  {
   "cell_type": "code",
   "execution_count": null,
   "metadata": {},
   "outputs": [],
   "source": [
    "# Bar chart for borough\n",
    "sns.countplot(x='borough', data=rentals)\n",
    "plt.show()\n",
    "plt.close()"
   ]
  },
  {
   "cell_type": "markdown",
   "metadata": {},
   "source": [
    "![](https://static-assets.codecademy.com/Courses/EDA/Data_Summaries/countplot.svg)"
   ]
  },
  {
   "cell_type": "markdown",
   "metadata": {},
   "source": [
    "There are currently no functions in the seaborn library for creating a pie chart, but the pandas library provides a convenient ![wrapper function](https://pandas.pydata.org/pandas-docs/stable/reference/api/pandas.Series.plot.pie.html) around matplotlib‘s pie() function that can generate a pie chart from any column in a DataFrame:"
   ]
  },
  {
   "cell_type": "code",
   "execution_count": null,
   "metadata": {},
   "outputs": [],
   "source": [
    "# Pie chart for borough\n",
    "rentals.borough.value_counts().plot.pie()\n",
    "plt.show()\n",
    "plt.close()"
   ]
  },
  {
   "cell_type": "markdown",
   "metadata": {},
   "source": [
    "![](https://static-assets.codecademy.com/Courses/EDA/Data_Summaries/pieplot.svg)"
   ]
  },
  {
   "cell_type": "markdown",
   "metadata": {},
   "source": [
    "In general, many data analysts avoid pie charts because people are better at visually comparing areas of rectangles than wedges of a pie. For a variable with a small number of categories (i.e., fewer than three), a pie chart is a reasonable choice; however, for more complex data, a bar chart is usually preferable.\n",
    "\n",
    "## Instructions\n",
    "##### 1. Using the movies DataFrame, create a bar chart for genre using the countplot() function from seaborn. Don’t forget to display the plot using plt.show() and close the plot using plt.close().\n",
    "\n",
    "##### 2. Create a pie chart for genre using the .pie() method from pandas.\n",
    "\n",
    "From the plots, what do you notice about the relative frequencies of movie genres?\n",
    "\n",
    "\n",
    "`Hint` <br>\n",
    "`From the plots, we can see that Drama movies appear most frequently and is the mode for genre. Horror movies appear least frequently in the dataset.`"
   ]
  },
  {
   "cell_type": "code",
   "execution_count": null,
   "metadata": {},
   "outputs": [],
   "source": [
    "import codecademylib3\n",
    "import matplotlib.pyplot as plt \n",
    "import seaborn as sns\n",
    "import pandas as pd\n",
    "\n",
    "movies = pd.read_csv('movies.csv')\n",
    "\n",
    "# Create a bar chart for movie genre \n",
    "sns.countplot(x='genre', data=movies)\n",
    "plt.show()\n",
    "plt.close()\n",
    "\n",
    "# Create a pie chart for movie genre\n",
    "movies.genre.value_counts().plot.pie()\n",
    "plt.show()\n",
    "plt.close()\n"
   ]
  },
  {
   "cell_type": "markdown",
   "metadata": {},
   "source": [
    "# Review\n",
    "In this lesson, you’ve learned about the common ways to summarize and visualize quantitative and categorical variables for the purpose of EDA.\n",
    "\n",
    "- We can use .describe(include='all') to quickly display common summary statistics for all columns in a pandas DataFrame.\n",
    "- For quantitative variables, measures of central tendency (e.g., mean, median, mode) and spread (e.g., range, variance, standard deviation) are good ways to summarize the data. Boxplots and histograms are often used for visualization.\n",
    "- For categorical variables, the relative frequencies of each category can be summarized using a table of counts or proportions. Bar charts and pie charts are often used for visualization.\n",
    "Being able to use the appropriate metrics and visuals to explore the variables in your dataset can help you to draw insights from your data and prepare for more rigorous analysis and modeling down the road."
   ]
  }
 ],
 "metadata": {
  "interpreter": {
   "hash": "126de395fc5ab05c9b404d5156ac230f2dc2d73638f7037ba66d30fa539ce6ef"
  },
  "kernelspec": {
   "display_name": "Python 3.10.1 64-bit",
   "language": "python",
   "name": "python3"
  },
  "language_info": {
   "codemirror_mode": {
    "name": "ipython",
    "version": 3
   },
   "file_extension": ".py",
   "mimetype": "text/x-python",
   "name": "python",
   "nbconvert_exporter": "python",
   "pygments_lexer": "ipython3",
   "version": "3.10.1"
  },
  "orig_nbformat": 4
 },
 "nbformat": 4,
 "nbformat_minor": 2
}
