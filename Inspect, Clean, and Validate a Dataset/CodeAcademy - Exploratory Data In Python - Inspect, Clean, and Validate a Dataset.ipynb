{
 "cells": [
  {
   "cell_type": "markdown",
   "metadata": {},
   "source": [
    "# EDA: Inspect, Clean, and Validate a Dataset\n",
    "### Learn how EDA can inform the data cleaning process."
   ]
  },
  {
   "cell_type": "markdown",
   "metadata": {},
   "source": [
    "# Introduction\n",
    "\n",
    "\n",
    "One of the most challenging parts of data cleaning is diagnosing data issues and figuring out how to most effectively address them. In order to accomplish this, exploratory data analysis (EDA) can be an extremely useful tool. In this article, we’ll walk through an example dataset to demonstrate how EDA can inform the initial data inspection, cleaning, and validation process.\n",
    "\n",
    "\n",
    "While this article serves as an introduction to EDA for data cleaning, it is important to note that every dataset is different, and therefore will require different exploration. EDA is all about following the data, verifying your assumptions, and investigating anything that is unexpected.\n",
    "\n",
    "\n",
    "# Initial Data Inspection\n",
    "\n",
    "\n",
    "Before analysis or cleaning, it is useful to print a few rows of data. This helps ensure that the data is properly loaded. It also allows us to compare the observed data to the data dictionary and determine whether the coding appears to match our expectations. For example, let’s load and inspect the first few rows of a dataset of heart disease patients (downloaded from the UCI Machine Learning Repository )."
   ]
  },
  {
   "cell_type": "code",
   "execution_count": null,
   "metadata": {},
   "outputs": [],
   "source": [
    "import pandas as pd\n",
    "heart = pd.read_csv('processed.cleveland.data.csv')\n",
    "print(heart.head())"
   ]
  },
  {
   "cell_type": "markdown",
   "metadata": {},
   "source": [
    "Output:"
   ]
  },
  {
   "cell_type": "markdown",
   "metadata": {},
   "source": [
    "![](https://static-assets.codecademy.com/Courses/EDA/heart_head.png)"
   ]
  },
  {
   "cell_type": "markdown",
   "metadata": {},
   "source": [
    "There are a few things we might want to inspect. For example, the data dictionary gives the following information about the cp column:\n",
    "\n",
    "\n",
    "cp: chest pain type\n",
    "\n",
    "\n",
    "- Value 1: typical angina\n",
    "- Value 2: atypical angina\n",
    "- Value 3: non-anginal pain\n",
    "- Value 4: asymptomatic\n",
    "\n",
    "\n",
    "Based on this information, it’s not necessarily clear whether the data is going to be coded as numerical values (eg., 1, 2, 3, or 4) or with strings (eg., 'typical angina'). Data inspection allows us to clarify that this column contains numerical values.\n",
    "\n",
    "\n",
    "Similarly, there is some conflicting information in the data dictionary about the target column (note: we renamed this column as heart_disease before loading it, but it was originally coded as num). The list of features contains the following information about this column:\n",
    "\n",
    "\n",
    "num: diagnosis of heart disease (angiographic disease status)\n",
    "\n",
    "\n",
    "- Value 0: < 50% diameter narrowing\n",
    "- Value 1: > 50% diameter narrowing\n",
    "\n",
    "\n",
    "However, the initial data description suggests that the target field is integer valued from 0-4 where 0 indicates no heart disease and values 1-4 indicate presence of heart disease.\n",
    "\n",
    "\n",
    "By inspecting the first few rows of data, we see at least one instance of the value 2 in the heart_disease column. This suggests that the values probably range from 0-4 instead of just 0-1. We could verify this with further exploration (eg., by using heart.heart_disease.value_counts() to get a table of values in this column).\n",
    "\n",
    "\n",
    "# Data Information\n",
    "\n",
    "\n",
    "Once we’ve taken a first look at some data, a common next step is to address questions such as:\n",
    "\n",
    "\n",
    "- How many (non-null) observations do we have?\n",
    "- How many unique columns/features do we have?\n",
    "- Which columns (if any) contain missing data?\n",
    "- What is the data type of each column?\n",
    "\n",
    "\n",
    "Using pandas, we can easily address these questions using the .info() method. For example:"
   ]
  },
  {
   "cell_type": "code",
   "execution_count": null,
   "metadata": {},
   "outputs": [],
   "source": [
    "print(heart.info())"
   ]
  },
  {
   "cell_type": "markdown",
   "metadata": {},
   "source": [
    "Output:"
   ]
  },
  {
   "cell_type": "code",
   "execution_count": null,
   "metadata": {},
   "outputs": [],
   "source": [
    "<class 'pandas.core.frame.DataFrame'>\n",
    "RangeIndex: 303 entries, 0 to 302\n",
    "Data columns (total 14 columns):\n",
    " #   Column         Non-Null Count  Dtype  \n",
    "---  ------         --------------  -----  \n",
    " 0   age            303 non-null    float64\n",
    " 1   sex            303 non-null    float64\n",
    " 2   cp             303 non-null    float64\n",
    " 3   trestbps       303 non-null    float64\n",
    " 4   chol           303 non-null    float64\n",
    " 5   fbs            303 non-null    float64\n",
    " 6   restecg        303 non-null    float64\n",
    " 7   thalach        303 non-null    float64\n",
    " 8   exang          303 non-null    float64\n",
    " 9   oldpeak        303 non-null    float64\n",
    " 10  slope          303 non-null    float64\n",
    " 11  ca             303 non-null    object \n",
    " 12  thal           303 non-null    object \n",
    " 13  heart_disease  303 non-null    int64  \n",
    "dtypes: float64(11), int64(1), object(2)\n",
    "memory usage: 33.3+ KB"
   ]
  },
  {
   "cell_type": "markdown",
   "metadata": {},
   "source": [
    "There are a few interesting pieces of information that we can glean from this output:\n",
    "\n",
    "\n",
    "- There are 303 rows and 14 columns of data\n",
    "- At first glance, there are no null (i.e., missing) values in any column (we’ll come back to this)\n",
    "- The ca and thal columns have a dtype of object (which suggests that they are strings), even though we saw in our initial inspection that these columns appear to contain numerical values\n",
    "\n",
    "\n",
    "To investigate the unexpected output here, we might want to take a look at the unique values in the ca column:"
   ]
  },
  {
   "cell_type": "code",
   "execution_count": null,
   "metadata": {},
   "outputs": [],
   "source": [
    "print(heart.ca.unique())"
   ]
  },
  {
   "cell_type": "markdown",
   "metadata": {},
   "source": [
    "Output:"
   ]
  },
  {
   "cell_type": "code",
   "execution_count": null,
   "metadata": {},
   "outputs": [],
   "source": [
    "array(['0.0', '3.0', '2.0', '1.0', '?'], dtype=object)"
   ]
  },
  {
   "cell_type": "markdown",
   "metadata": {},
   "source": [
    "We note that at least one row contains a '?' in this column. We can probably assume that this indicates mis-coded missing data. The '?' also probably forced the column to be coded as a string because there is no obvious way to cast a '?' to a numerical value.\n",
    "\n",
    "\n",
    "Given this information, we now have more to do! We can replace any instance of '?' with np.NaN, change the data type of this column back to a float or int, and then re-print the heart.info() to determine how how many missing values we’ve got. Then, we probably want to do a similar inspection of the thal column."
   ]
  },
  {
   "cell_type": "markdown",
   "metadata": {},
   "source": [
    "# Inspecting Missing Data\n",
    "\n",
    "\n",
    "After identifying that there is some missing data and converting it to a format that Python can recognize, it’s often a good idea to take a closer look at those rows. Sometimes, we can find clues as to why the data is missing, which can help us make decisions about whether to get rid of the rows altogether or impute the missing values somehow."
   ]
  },
  {
   "cell_type": "code",
   "execution_count": null,
   "metadata": {},
   "outputs": [],
   "source": [
    "heart[heart.isnull().any(axis=1)]"
   ]
  },
  {
   "cell_type": "markdown",
   "metadata": {},
   "source": [
    "Output:"
   ]
  },
  {
   "cell_type": "markdown",
   "metadata": {},
   "source": [
    "![](https://static-assets.codecademy.com/Courses/EDA/missing_data_heart.png)"
   ]
  },
  {
   "cell_type": "markdown",
   "metadata": {},
   "source": [
    "Looking at this output, we note that there is no overlap between the rows with missing ca data and missing thal data. This suggests that these patients are missing ca and thal information for different reasons. We don’t see any immediate clues as to why the data is missing in the first place, but we can inspect this further once we start digging into individual features."
   ]
  },
  {
   "cell_type": "markdown",
   "metadata": {},
   "source": [
    "# Data Exploration in Real-Time\n",
    "If you’d like to watch us inspect this dataset in real-time, feel free to checkout the livestream recording below:"
   ]
  },
  {
   "cell_type": "markdown",
   "metadata": {},
   "source": [
    "<iframe width=\"856\" height=\"482\" src=\"https://www.youtube.com/embed/YwadRm2sfpQ\" title=\"YouTube video player\" frameborder=\"0\" allow=\"accelerometer; autoplay; clipboard-write; encrypted-media; gyroscope; picture-in-picture\" allowfullscreen></iframe>"
   ]
  },
  {
   "cell_type": "markdown",
   "metadata": {},
   "source": [
    "If you’d like to play with the data yourself, you can download the code and data from our Github repository. https://github.com/Codecademy/Master-Statistics-Live-Series\n",
    "\n",
    "# References\n",
    "This data is downloaded from the UCI Machine Learning Repository:\n",
    "\n",
    "Dua, D. and Graff, C. (2019). UCI Machine Learning Repository [http://archive.ics.uci.edu/ml]. Irvine, CA: University of California, School of Information and Computer Science.\n",
    "\n",
    "The principal investigators responsible for data collection were:\n",
    "\n",
    "1. Hungarian Institute of Cardiology. Budapest: Andras Janosi, M.D.\n",
    "2. University Hospital, Zurich, Switzerland: William Steinbrunn, M.D.\n",
    "3. University Hospital, Basel, Switzerland: Matthias Pfisterer, M.D.\n",
    "4. V.A. Medical Center, Long Beach and Cleveland Clinic Foundation: Robert Detrano, M.D., Ph.D"
   ]
  },
  {
   "cell_type": "markdown",
   "metadata": {},
   "source": []
  }
 ],
 "metadata": {
  "interpreter": {
   "hash": "126de395fc5ab05c9b404d5156ac230f2dc2d73638f7037ba66d30fa539ce6ef"
  },
  "kernelspec": {
   "display_name": "Python 3.10.1 64-bit",
   "language": "python",
   "name": "python3"
  },
  "language_info": {
   "name": "python",
   "version": "3.10.1"
  },
  "orig_nbformat": 4
 },
 "nbformat": 4,
 "nbformat_minor": 2
}
