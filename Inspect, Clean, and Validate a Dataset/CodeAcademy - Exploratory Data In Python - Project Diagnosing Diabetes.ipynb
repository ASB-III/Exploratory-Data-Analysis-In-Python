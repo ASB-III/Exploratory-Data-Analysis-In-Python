{
 "cells": [
  {
   "cell_type": "markdown",
   "metadata": {},
   "source": [
    "# EXPLORATORY DATA ANALYSIS IN PYTHON\n",
    "# EDA: Diagnosing Diabetes\n",
    "In this project, you’ll imagine you are a data scientist interested in exploring data that looks at how certain diagnostic factors affect the diabetes outcome of women patients.\n",
    "\n",
    "You will use your EDA skills to help inspect, clean, and validate the data.\n",
    "\n",
    "Note: This dataset is from the National Institute of Diabetes and Digestive and Kidney Diseases. It contains the following columns:\n",
    "\n",
    "- Pregnancies: Number of times pregnant\n",
    "- Glucose: Plasma glucose concentration a 2 hours in an oral glucose tolerance test\n",
    "- BloodPressure: Diastolic blood pressure\n",
    "- SkinThickness: Triceps skinfold thickness\n",
    "- Insulin: 2-Hour serum insulin\n",
    "- BMI: Body mass index\n",
    "- DiabetesPedigreeFunction: Diabetes pedigree function\n",
    "- Age: Age (years)\n",
    "- Outcome: Class variable (0 or 1)\n",
    "\n",
    "Let’s get started!"
   ]
  },
  {
   "cell_type": "markdown",
   "metadata": {},
   "source": [
    "# Tasks\n",
    "\n",
    "\n",
    "Mark the tasks as complete by checking them off\n",
    "\n",
    "\n",
    "Initial Inspection\n",
    "1.\n",
    "First, familiarize yourself with the dataset here.\n",
    "\n",
    "Look at each of the nine columns in the documentation.\n",
    "\n",
    "What do you expect each data type to be?\n",
    "\n",
    "\n",
    "<b>Hint\n",
    "\n",
    "\n",
    "Take a look at the structure of the data and each of the columns.</b>\n",
    "\n",
    "Here are the expected data types for each column:\n",
    "\n",
    "- Pregnancies: int64\n",
    "- Glucose: int64\n",
    "- BloodPressure: int64\n",
    "- SkinThickness: int64\n",
    "- Insulin: int64\n",
    "- BMI: float64\n",
    "- DiabetesPedigreeFunction: float64\n",
    "- Age: int64\n",
    "- Outcome: int64\n",
    "2. Next, let’s load in the diabetes data to start exploring.\n",
    "\n",
    "Load the data in a variable called diabetes_data and print the first few rows.\n",
    "\n",
    "Note: The data is stored in a file called diabetes.csv.\n",
    "\n",
    "\n",
    "<b>Hint\n",
    "\n",
    "\n",
    "Use Pandas to load in the data and then print out the first few rows:</b>"
   ]
  },
  {
   "cell_type": "code",
   "execution_count": null,
   "metadata": {},
   "outputs": [],
   "source": [
    "diabetes_data = pd.read_csv('diabetes.csv')\n",
    "print(diabetes_data.head())"
   ]
  },
  {
   "cell_type": "markdown",
   "metadata": {},
   "source": [
    "3. How many columns (features) does the data contain?\n",
    "\n",
    "\n",
    "<B>Hint\n",
    "\n",
    "\n",
    "There are 9 columns in diabetes_data.\n",
    "\n",
    "One method to find the number of columns is to use .columns:"
   ]
  },
  {
   "cell_type": "code",
   "execution_count": null,
   "metadata": {},
   "outputs": [],
   "source": [
    "print(len(diabetes_data.columns))"
   ]
  },
  {
   "cell_type": "markdown",
   "metadata": {},
   "source": [
    "<b>which outputs:"
   ]
  },
  {
   "cell_type": "code",
   "execution_count": null,
   "metadata": {},
   "outputs": [],
   "source": [
    "9"
   ]
  },
  {
   "cell_type": "markdown",
   "metadata": {},
   "source": [
    "<B>Another method to find the number of columns is to use .shape, which prints out the full dimensions of the data:"
   ]
  },
  {
   "cell_type": "code",
   "execution_count": null,
   "metadata": {},
   "outputs": [],
   "source": [
    "(768, 9)"
   ]
  },
  {
   "cell_type": "markdown",
   "metadata": {},
   "source": [
    "4. How many rows (observations) does the data contain?\n",
    "\n",
    "\n",
    "<B>Hint\n",
    "\n",
    "\n",
    "There are 768 rows in diabetes_data.\n",
    "\n",
    "One method to find the number of rows is to print the following:"
   ]
  },
  {
   "cell_type": "code",
   "execution_count": null,
   "metadata": {},
   "outputs": [],
   "source": [
    "print(len(diabetes_data))"
   ]
  },
  {
   "cell_type": "markdown",
   "metadata": {},
   "source": [
    "which outputs:"
   ]
  },
  {
   "cell_type": "code",
   "execution_count": null,
   "metadata": {},
   "outputs": [],
   "source": [
    "768"
   ]
  },
  {
   "cell_type": "markdown",
   "metadata": {},
   "source": [
    "Another method to find the number of rows is to use .shape, which prints out the full dimensions of the data:"
   ]
  },
  {
   "cell_type": "code",
   "execution_count": null,
   "metadata": {},
   "outputs": [],
   "source": [
    "(768, 9)"
   ]
  },
  {
   "cell_type": "markdown",
   "metadata": {},
   "source": [
    "### Further Inspection\n",
    "5. Let’s inspect diabetes_data further.\n",
    "\n",
    "Do any of the columns in the data contain null (missing) values?\n",
    "\n",
    "\n",
    "<b>Hint\n",
    "\n",
    "\n",
    "To find whether any columns contain missing data, you can use the .isnull().sum() method:\n",
    "\n"
   ]
  },
  {
   "cell_type": "code",
   "execution_count": null,
   "metadata": {},
   "outputs": [],
   "source": [
    "print(diabetes_data.isnull().sum())"
   ]
  },
  {
   "cell_type": "markdown",
   "metadata": {},
   "source": [
    "The output of this code is:"
   ]
  },
  {
   "cell_type": "code",
   "execution_count": null,
   "metadata": {},
   "outputs": [],
   "source": [
    "Pregnancies                 0\n",
    "Glucose                     0\n",
    "BloodPressure               0\n",
    "SkinThickness               0\n",
    "Insulin                     0\n",
    "BMI                         0\n",
    "DiabetesPedigreeFunction    0\n",
    "Age                         0\n",
    "Outcome                     0\n",
    "dtype: int64"
   ]
  },
  {
   "cell_type": "markdown",
   "metadata": {},
   "source": [
    "Alternatively, you can use the .info() method, which will print out a concise summary of the DataFrame:"
   ]
  },
  {
   "cell_type": "code",
   "execution_count": null,
   "metadata": {},
   "outputs": [],
   "source": [
    "print(diabetes_data.info())"
   ]
  },
  {
   "cell_type": "markdown",
   "metadata": {},
   "source": [
    "The output should look like:"
   ]
  },
  {
   "cell_type": "code",
   "execution_count": null,
   "metadata": {},
   "outputs": [],
   "source": [
    "<class 'pandas.core.frame.DataFrame'>\n",
    "RangeIndex: 768 entries, 0 to 767\n",
    "Data columns (total 9 columns):\n",
    " #   Column                    Non-Null Count  Dtype  \n",
    "---  ------                    --------------  -----  \n",
    " 0   Pregnancies               768 non-null    int64  \n",
    " 1   Glucose                   768 non-null    int64  \n",
    " 2   BloodPressure             768 non-null    int64  \n",
    " 3   SkinThickness             768 non-null    int64  \n",
    " 4   Insulin                   768 non-null    int64  \n",
    " 5   BMI                       768 non-null    float64\n",
    " 6   DiabetesPedigreeFunction  768 non-null    float64\n",
    " 7   Age                       768 non-null    int64  \n",
    " 8   Outcome                   768 non-null    object  \n",
    "dtypes: float64(2), int64(7)\n",
    "memory usage: 54.1 KB\n",
    "None"
   ]
  },
  {
   "cell_type": "markdown",
   "metadata": {},
   "source": [
    "According to the output, there are no columns with null values.\n",
    "\n",
    "But is this really true?"
   ]
  },
  {
   "cell_type": "markdown",
   "metadata": {},
   "source": [
    "6. If you answered no to the question above, not so fast!\n",
    "\n",
    "While it’s technically true that none of the columns contain null values, that doesn’t necessarily mean that the data isn’t missing any values.\n",
    "\n",
    "When exploring data, you should always question your assumptions and try to dig deeper.\n",
    "\n",
    "To investigate further, calculate summary statistics on diabates_data using the .describe() method.\n",
    "\n",
    "\n",
    "<b>Hint\n",
    "To calculate summary statistics on diabates_data, use the .describe() method:"
   ]
  },
  {
   "cell_type": "code",
   "execution_count": null,
   "metadata": {},
   "outputs": [],
   "source": [
    "print(diabetes_data.describe())"
   ]
  },
  {
   "cell_type": "markdown",
   "metadata": {},
   "source": [
    "7. Looking at the summary statistics, do you notice anything odd about the following columns?\n",
    "\n",
    "- Glucose\n",
    "- BloodPressure\n",
    "- SkinThickness\n",
    "- Insulin\n",
    "- BMI\n",
    "\n",
    "<b>Hint\n",
    "If you take a look at the minimum values for these five columns, you’ll notice that they are all 0.\n",
    "\n",
    "How can Blood Pressure or BMI be 0? That makes no sense! These values also seem to be way off from their respective medians and means, another indicator that something is off.\n",
    "\n",
    "One way to interpret this is that these are missing values in the data.\n",
    "</b>\n",
    "\n",
    "8. Do you spot any other outliers in the data?\n",
    "\n",
    "\n",
    "<B>Hint\n",
    "In addition to the 0 values that show up for the five columns above, there appear to be additional outliers, such as:\n",
    "\n",
    "The maximum value of the Insulin column is 846, which is abnormally high.\n",
    "The maximum value of the Pregnancies column is 17. While having 17 pregnancies is not impossible, this case might be something to look further into to determine its accuracy.\n",
    "As you can see, EDA helps inform the data cleaning process by helping catch things that aren’t immediately obvious.\n",
    "</b>\n",
    "\n",
    "9. Let’s see if we can get a more accurate view of the missing values in the data.\n",
    "\n",
    "Use the following code to replace the instances of 0 with NaN in the five columns mentioned:"
   ]
  },
  {
   "cell_type": "code",
   "execution_count": null,
   "metadata": {},
   "outputs": [],
   "source": [
    "diabetes_data[['Glucose','BloodPressure','SkinThickness','Insulin','BMI']] = diabetes_data[['Glucose','BloodPressure','SkinThickness','Insulin','BMI']].replace(0,np.NaN)"
   ]
  },
  {
   "cell_type": "markdown",
   "metadata": {},
   "source": [
    "<b>Hint\n",
    "\n",
    "\n",
    "Since 0 is a non-null value, replacing these instances with NaN makes it easier to find possible missing values in these columns."
   ]
  },
  {
   "cell_type": "markdown",
   "metadata": {},
   "source": [
    "10. Next, check for missing (null) values in all of the columns just like you did in Step 5.\n",
    "\n",
    "Now how many missing values are there?\n",
    "\n",
    "\n",
    "<b>Hint\n",
    "\n",
    "\n",
    "To get the number of null values for each of the columns you can use the .isnull().sum() method:"
   ]
  },
  {
   "cell_type": "code",
   "execution_count": null,
   "metadata": {},
   "outputs": [],
   "source": [
    "print(diabetes_data.isnull().sum())"
   ]
  },
  {
   "cell_type": "markdown",
   "metadata": {},
   "source": [
    "`The output looks like:`"
   ]
  },
  {
   "cell_type": "code",
   "execution_count": null,
   "metadata": {},
   "outputs": [],
   "source": [
    "Pregnancies                   0\n",
    "Glucose                       5\n",
    "BloodPressure                35\n",
    "SkinThickness               227\n",
    "Insulin                     374\n",
    "BMI                          11\n",
    "DiabetesPedigreeFunction      0\n",
    "Age                           0\n",
    "Outcome                       0\n",
    "dtype: int64"
   ]
  },
  {
   "cell_type": "markdown",
   "metadata": {},
   "source": [
    "`Alternatively, you can use the .info() method, which will print out a concise summary of the DataFrame:`"
   ]
  },
  {
   "cell_type": "code",
   "execution_count": null,
   "metadata": {},
   "outputs": [],
   "source": [
    "print(diabetes_data.info())"
   ]
  },
  {
   "cell_type": "markdown",
   "metadata": {},
   "source": [
    "`The output should look like:`"
   ]
  },
  {
   "cell_type": "code",
   "execution_count": null,
   "metadata": {},
   "outputs": [],
   "source": [
    "<class 'pandas.core.frame.DataFrame'>\n",
    "RangeIndex: 768 entries, 0 to 767\n",
    "Data columns (total 9 columns):\n",
    "Pregnancies                 768 non-null int64\n",
    "Glucose                     763 non-null float64\n",
    "BloodPressure               733 non-null float64\n",
    "SkinThickness               541 non-null float64\n",
    "Insulin                     394 non-null float64\n",
    "BMI                         757 non-null float64\n",
    "DiabetesPedigreeFunction    768 non-null float64\n",
    "Age                         768 non-null int64\n",
    "Outcome                     768 non-null object\n",
    "dtypes: float64(6), int64(2), object(1)\n",
    "memory usage: 54.1+ KB\n",
    "None"
   ]
  },
  {
   "cell_type": "markdown",
   "metadata": {},
   "source": [
    "`As you can see from the output, some values in the data do seem to be missing, even though an initial look at the data told us something different.`\n",
    "\n",
    "`For example, the SkinThickness column has 227 instances of 0 out of 768 rows, meaning that nearly 30% of the values in this column might be missing.`\n",
    "\n",
    "`Note: you might choose to deal with these values differently in your analysis, but the important point here is that EDA allows you to dig deeper into the data and help inform you which parts need cleaning.`"
   ]
  },
  {
   "cell_type": "markdown",
   "metadata": {},
   "source": [
    "11. Let’s take a closer look at these rows to get a better idea of why some data might be missing.\n",
    "\n",
    "Print out all of the rows that contain missing (null) values."
   ]
  },
  {
   "cell_type": "markdown",
   "metadata": {},
   "source": [
    "<b>Hint\n",
    "\n",
    "\n",
    "To print out the rows with missing values, you can use the following code:"
   ]
  },
  {
   "cell_type": "code",
   "execution_count": null,
   "metadata": {},
   "outputs": [],
   "source": [
    "print(diabetes_data[diabetes_data.isnull().any(axis=1)])"
   ]
  },
  {
   "cell_type": "markdown",
   "metadata": {},
   "source": [
    "12. Go through the rows with missing data. Do you notice any patterns or overlaps between the missing data?\n",
    "\n",
    "\n",
    "`Hint`<br>\n",
    "\n",
    "\n",
    "`One thing you might notice is that most rows with missing data have missing values in more than one column. In fact, every single row with at least one missing value also has a missing value in the insulin column. This is a clue as to why this data is missing! If patients did not have their insulin measured, why might they also not have had these other measurements taken?`\n",
    "\n",
    "`Depending on how much data is missing, you might choose to remove specific rows or impute the missing values somehow.`"
   ]
  },
  {
   "cell_type": "markdown",
   "metadata": {},
   "source": [
    "13. Next, take a closer look at the data types of each column in diabetes_data.\n",
    "\n",
    "\n",
    "Does the result match what you would expect?\n",
    "\n",
    "`Hint`<br>\n",
    "`To print the data types of each column, you can use .dtypes:`"
   ]
  },
  {
   "cell_type": "code",
   "execution_count": null,
   "metadata": {},
   "outputs": [],
   "source": [
    "print(diabetes_data.dtypes)"
   ]
  },
  {
   "cell_type": "markdown",
   "metadata": {},
   "source": [
    "`The outlook should look like:`"
   ]
  },
  {
   "cell_type": "markdown",
   "metadata": {},
   "source": [
    "Pregnancies                   int64\n",
    "Glucose                     float64\n",
    "BloodPressure               float64\n",
    "SkinThickness               float64\n",
    "Insulin                     float64\n",
    "BMI                         float64\n",
    "DiabetesPedigreeFunction    float64\n",
    "Age                           int64\n",
    "Outcome                      object\n",
    "dtype: object"
   ]
  },
  {
   "cell_type": "markdown",
   "metadata": {},
   "source": [
    "`Alternatively, you can use the .info() method, which will print out a concise summary of the DataFrame with the data types of each column included:`"
   ]
  },
  {
   "cell_type": "code",
   "execution_count": null,
   "metadata": {},
   "outputs": [],
   "source": [
    "print(diabetes_data.info())"
   ]
  },
  {
   "cell_type": "markdown",
   "metadata": {},
   "source": [
    "`The output should look like this:`"
   ]
  },
  {
   "cell_type": "code",
   "execution_count": null,
   "metadata": {},
   "outputs": [],
   "source": [
    "<class 'pandas.core.frame.DataFrame'>\n",
    "RangeIndex: 768 entries, 0 to 767\n",
    "Data columns (total 9 columns):\n",
    " #   Column                    Non-Null Count  Dtype  \n",
    "---  ------                    --------------  -----  \n",
    " 0   Pregnancies               768 non-null    int64  \n",
    " 1   Glucose                   768 non-null    int64  \n",
    " 2   BloodPressure             768 non-null    int64  \n",
    " 3   SkinThickness             768 non-null    int64  \n",
    " 4   Insulin                   768 non-null    int64  \n",
    " 5   BMI                       768 non-null    float64\n",
    " 6   DiabetesPedigreeFunction  768 non-null    float64\n",
    " 7   Age                       768 non-null    int64  \n",
    " 8   Outcome                   768 non-null    object  \n",
    "dtypes: float64(2), int64(7)\n",
    "memory usage: 54.1 KB\n",
    "None"
   ]
  },
  {
   "cell_type": "markdown",
   "metadata": {},
   "source": [
    "`It looks like the Outcome column is of type object (string) even though in our initial inspection we expected it to be of type int64.\n",
    "\n",
    "Let’s figure out why this might be.`"
   ]
  },
  {
   "cell_type": "markdown",
   "metadata": {},
   "source": [
    "14. To figure out why the Outcome column is of type object (string) instead of type int64, print out the unique values in the Outcome column.\n",
    "\n",
    "\n",
    "`Hint`<br>\n",
    "`To print out the unique values of Outcome, you can use the .unique() method:`"
   ]
  },
  {
   "cell_type": "code",
   "execution_count": null,
   "metadata": {},
   "outputs": [],
   "source": [
    "print(diabetes_data.Outcome.unique())"
   ]
  },
  {
   "cell_type": "markdown",
   "metadata": {},
   "source": [
    "`You should see the following output:`"
   ]
  },
  {
   "cell_type": "code",
   "execution_count": null,
   "metadata": {},
   "outputs": [],
   "source": [
    "['1' '0' 'O']"
   ]
  },
  {
   "cell_type": "markdown",
   "metadata": {},
   "source": [
    "`Notice that we have instances of the character 'O' in addition to the number 0.\n",
    "\n",
    "The documentation tells us that the value of the Outcome column should either be a 0 or a 1, so it seems likely that instances of the character 'O' are misentries.`\n",
    "\n",
    "15. How might you resolve this issue?\n",
    "\n",
    "\n",
    "`Hint`<br>\n",
    "`A possible next step would be to replace instances of 'O' with 0 and convert the Outcome column to type int64.`\n",
    "\n",
    "\n",
    "#### Next Steps\n",
    "16. Congratulations! In this project, you saw how EDA can help with the initial data inspection and cleaning process. This is an important step as it helps to keep your datasets clean and reliable.\n",
    "\n",
    "\n",
    "Here are some ways you might extend this project if you’d like:\n",
    "\n",
    "\n",
    "- Use .value_counts() to more fully explore the values in each column.\n",
    "- Investigate other outliers in the data that may be easily overlooked.\n",
    "- Instead of changing the 0 values in the five columns to NaN, try replacing the values with the median or mean of each column."
   ]
  },
  {
   "cell_type": "markdown",
   "metadata": {},
   "source": [
    "<class 'pandas.core.frame.DataFrame'>\n",
    "RangeIndex: 768 entries, 0 to 767\n",
    "Data columns (total 9 columns):\n",
    " #   Column                    Non-Null Count  Dtype  \n",
    "---  ------                    --------------  -----  \n",
    " 0   Pregnancies               768 non-null    int64  \n",
    " 1   Glucose                   768 non-null    int64  \n",
    " 2   BloodPressure             768 non-null    int64  \n",
    " 3   SkinThickness             768 non-null    int64  \n",
    " 4   Insulin                   768 non-null    int64  \n",
    " 5   BMI                       768 non-null    float64\n",
    " 6   DiabetesPedigreeFunction  768 non-null    float64\n",
    " 7   Age                       768 non-null    int64  \n",
    " 8   Outcome                   768 non-null    object  \n",
    "dtypes: float64(2), int64(7)\n",
    "memory usage: 54.1 KB\n",
    "None"
   ]
  },
  {
   "cell_type": "markdown",
   "metadata": {},
   "source": [
    "It looks like the Outcome column is of type object (string) even though in our initial inspection we expected it to be of type int64.\n",
    "\n",
    "Let’s figure out why this might be."
   ]
  },
  {
   "cell_type": "markdown",
   "metadata": {},
   "source": [
    "#### 14. To figure out why the Outcome column is of type object (string) instead of type int64, print out the unique values in the Outcome column."
   ]
  },
  {
   "cell_type": "code",
   "execution_count": null,
   "metadata": {},
   "outputs": [],
   "source": [
    "import codecademylib3\n",
    "import pandas as pd\n",
    "import numpy as np\n",
    "\n",
    "# code goes here\n",
    "#task 2\n",
    "diabetes_data = pd.read_csv('diabetes.csv')\n",
    "print(diabetes_data.head())\n",
    "\n",
    "#task 3\n",
    "print(len(diabetes_data.columns))\n",
    "#print(len(diabetes_data.shape))\n",
    "\n",
    "#task 4\n",
    "print(len(diabetes_data))\n",
    "#print(len(diabetes_data.shape))\n",
    "\n",
    "#task 5 \n",
    "print(diabetes_data.isnull().sum())\n",
    "print(diabetes_data.info())\n",
    "\n",
    "#task 6\n",
    "print(diabetes_data.describe())\n",
    "\n",
    "#task 9\n",
    "diabetes_data[['Glucose', 'BloodPressure', 'SkinThickness', 'Insulin', 'BMI']] = diabetes_data[['Glucose', 'BloodPressure', 'SkinThickness', 'Insulin', 'BMI']].replace(0,np.NaN)\n",
    "\n",
    "#task 10\n",
    "print(diabetes_data.isnull().sum())\n",
    "print(diabetes_data.info())\n",
    "\n",
    "#task 11\n",
    "print(diabetes_data[diabetes_data.isnull().any(axis=1)])\n",
    "\n",
    "#task 13\n",
    "print(diabetes_data.dtypes)\n",
    "print(diabetes_data.info())\n",
    "\n",
    "#task 14\n",
    "print(diabetes_data.Outcome.unique())\n",
    "\n",
    "#task 15\n",
    "diabetes_data[['Outcome']] = diabetes_data[['Outcome']].replace('O', '0')\n",
    "print(diabetes_data.Outcome.unique())\n",
    "\n",
    "#task 16\n",
    "print(diabetes_data.Outcome.value_counts())\n"
   ]
  }
 ],
 "metadata": {
  "interpreter": {
   "hash": "126de395fc5ab05c9b404d5156ac230f2dc2d73638f7037ba66d30fa539ce6ef"
  },
  "kernelspec": {
   "display_name": "Python 3.10.1 64-bit",
   "language": "python",
   "name": "python3"
  },
  "language_info": {
   "codemirror_mode": {
    "name": "ipython",
    "version": 3
   },
   "file_extension": ".py",
   "mimetype": "text/x-python",
   "name": "python",
   "nbconvert_exporter": "python",
   "pygments_lexer": "ipython3",
   "version": "3.10.1"
  },
  "orig_nbformat": 4
 },
 "nbformat": 4,
 "nbformat_minor": 2
}
