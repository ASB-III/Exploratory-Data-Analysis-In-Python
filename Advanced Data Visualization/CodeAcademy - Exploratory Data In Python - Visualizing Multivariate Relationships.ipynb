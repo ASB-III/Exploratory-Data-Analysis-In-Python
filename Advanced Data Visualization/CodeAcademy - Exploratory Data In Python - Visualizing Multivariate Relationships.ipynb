{
 "cells": [
  {
   "cell_type": "markdown",
   "metadata": {},
   "source": [
    "# Visualizing Multivariate Relationships\n",
    "#### An introduction to exploring and visualizing multivariate relationships\n",
    "\n",
    "## Introduction\n",
    "Exploring multivariate relationships is an important skill to have as a data analyst or scientist. You might be familiar with univariate (one variable) and bivariate (two variables) analysis. However, datasets often contain more than two features, so it’s important to be able to explore and visualize multiple variables at a time.\n",
    "\n",
    "In this article, you will learn how to visualize multivariate relationships using:\n",
    "\n",
    "- Scatter plots with visual cues\n",
    "- Grouped box plots\n",
    "- Multi-dimensional plots\n",
    "Let’s get started!\n",
    "\n",
    "## Scatter plots with visual cues\n",
    "One way to represent multivariate relationships is to use visual cues such as colors, shapes, and sizes in a scatter plot. Let’s demonstrate an example using life expectancy data from the World Health Organization.\n",
    "\n",
    "First, let’s load in the data:"
   ]
  },
  {
   "cell_type": "code",
   "execution_count": null,
   "metadata": {},
   "outputs": [],
   "source": [
    "# import libraries\n",
    "import pandas as pd\n",
    "import seaborn as sns\n",
    "import matplotlib.pyplot as plt \n",
    " \n",
    "# load in health data\n",
    "health_data = pd.read_csv('life_expectancy_data.csv')"
   ]
  },
  {
   "cell_type": "markdown",
   "metadata": {},
   "source": [
    "Next, let’s create a scatter plot using Python’s seaborn library to visualize the relationship between years of education and life expectancy:"
   ]
  },
  {
   "cell_type": "code",
   "execution_count": null,
   "metadata": {},
   "outputs": [],
   "source": [
    "# create scatter plot\n",
    "sns.scatterplot(x = 'Schooling', y = 'LifeExpectancy', data = health_data)\n",
    "plt.show()"
   ]
  },
  {
   "cell_type": "markdown",
   "metadata": {},
   "source": [
    "![](https://static-assets.codecademy.com/Courses/EDA/Multivariate/scatterplot1.svg)"
   ]
  },
  {
   "cell_type": "markdown",
   "metadata": {},
   "source": [
    "It is clear from this chart that there is a positive relationship between years of schooling and life expectancy.\n",
    "\n",
    "Let’s make this analysis more interesting by adding a third variable to the scatter plot using color as a visual cue. We can do this by passing in a hue argument:"
   ]
  },
  {
   "cell_type": "code",
   "execution_count": null,
   "metadata": {},
   "outputs": [],
   "source": [
    "# scatter plot with a visual cue\n",
    "sns.scatterplot(x = 'Schooling', y = 'LifeExpectancy', hue = 'Status', palette = 'bright', data = health_data)\n",
    "plt.show()"
   ]
  },
  {
   "cell_type": "markdown",
   "metadata": {},
   "source": [
    "![](https://static-assets.codecademy.com/Courses/EDA/Multivariate/scatterplot2.svg)"
   ]
  },
  {
   "cell_type": "markdown",
   "metadata": {},
   "source": [
    "This multivariate visualization provides much more insight than the bivariate visualization above. For example, we can see that:\n",
    "\n",
    "\n",
    "- Years of education and life expectancy have a positive relationship\n",
    "- Individuals in developed countries have more years of schooling than individuals in developing countries\n",
    "- The life expectancy in developed countries is greater than the life expectancy in developing countries\n",
    "\n",
    "\n",
    "Even though it’s possible to add more variables using additional visual cues, it’s not always a great idea to do so. For example, let’s try adding a fourth variable to this visualization using shapes as a visual cue:"
   ]
  },
  {
   "cell_type": "code",
   "execution_count": null,
   "metadata": {},
   "outputs": [],
   "source": [
    "# scatter plot with four variables\n",
    "sns.scatterplot(x = 'Schooling', y = 'LifeExpectancy', hue = 'Status', style = 'Year', data = health_data)\n",
    "plt.show()"
   ]
  },
  {
   "cell_type": "markdown",
   "metadata": {},
   "source": [
    "![](https://static-assets.codecademy.com/Courses/EDA/Multivariate/scatterplot3.svg)"
   ]
  },
  {
   "cell_type": "markdown",
   "metadata": {},
   "source": [
    "This chart is overloaded with information and is difficult to read. You always want to make sure your charts are readable and easy to interpret. Generally, anything beyond three variables in a scatter plot is probably too much for the human eye to process.\n",
    "\n",
    "## Grouped box plots\n",
    "Grouped box plots can be used to visualize two categorical variables and a quantitative variable. Having the box plots side-by-side can help you gain useful insights.\n",
    "\n",
    "For example, let’s take a look at Stack Overflow’s Developer Survey data to learn more about how salary is related to education level and gender.\n",
    "\n",
    "First, let’s load in the data:"
   ]
  },
  {
   "cell_type": "code",
   "execution_count": null,
   "metadata": {},
   "outputs": [],
   "source": [
    "# load in salary data\n",
    "salary_data = pd.read_csv('survey_data.csv')"
   ]
  },
  {
   "cell_type": "markdown",
   "metadata": {},
   "source": [
    "Next, let’s create a box plot to show the relationship between education and compensation:"
   ]
  },
  {
   "cell_type": "code",
   "execution_count": null,
   "metadata": {},
   "outputs": [],
   "source": [
    "# box plot showing relationship between education and compenstation\n",
    "sns.boxplot(x = \"Education\", y = \"CompTotal\", palette = \"pastel\", data = salary_data)\n",
    "plt.show()"
   ]
  },
  {
   "cell_type": "markdown",
   "metadata": {},
   "source": [
    "![](https://static-assets.codecademy.com/Courses/EDA/Multivariate/boxplot1.svg)"
   ]
  },
  {
   "cell_type": "markdown",
   "metadata": {},
   "source": [
    "This chart gives us the relationship between education and compensation, but let’s take it a step further to see whether men and women are paid equally. We can use the argument hue to group by gender:"
   ]
  },
  {
   "cell_type": "code",
   "execution_count": null,
   "metadata": {},
   "outputs": [],
   "source": [
    "# side-by-side box plots grouped by gender\n",
    "sns.boxplot(x = \"Education\", y = \"CompTotal\", hue = \"Gender\", palette = \"pastel\", data = salary_data)\n",
    "plt.show()"
   ]
  },
  {
   "cell_type": "markdown",
   "metadata": {},
   "source": [
    "![](https://static-assets.codecademy.com/Courses/EDA/Multivariate/boxplot2.svg)"
   ]
  },
  {
   "cell_type": "markdown",
   "metadata": {},
   "source": [
    "This grouped box plot allows us to compare salaries for men and women with the same level of education.\n",
    "\n",
    "We can see that among adults in the Less than bachelor's, Bachelor's Education, Master's, and PhD groups, men tend to earn a higher median salary than women with the same level of education; however, this pattern is reversed for men and women with Professional degrees.\n",
    "\n",
    "## Multi-dimensional plots\n",
    "Another way to represent multivariate relationships is to use multi-dimensional plots. For example, if we want to represent three variables in a dataset we can create a 3D scatter plot.\n",
    "\n",
    "We will use the Python graphing library Plotly to load in a dataset and create an interactive 3D plot.\n",
    "\n",
    "Let’s load in the iris dataset and visualize the relationship between sepal_length, sepal_width, and petal_width for three different iris species:"
   ]
  },
  {
   "cell_type": "code",
   "execution_count": null,
   "metadata": {},
   "outputs": [],
   "source": [
    "# import library\n",
    "import plotly.express as px\n",
    " \n",
    "# load in iris data\n",
    "df = px.data.iris()\n",
    " \n",
    "# create 3D scatter plot\n",
    "fig = px.scatter_3d(df, x='sepal_length', y='sepal_width', z='petal_width', color='species')\n",
    "fig.show()"
   ]
  },
  {
   "cell_type": "markdown",
   "metadata": {},
   "source": [
    "This code outputs a 3D scatter plot that looks like this:"
   ]
  },
  {
   "cell_type": "markdown",
   "metadata": {},
   "source": [
    "![](https://static-assets.codecademy.com/Courses/EDA/Multivariate/3Dplot.gif)"
   ]
  },
  {
   "cell_type": "markdown",
   "metadata": {},
   "source": [
    "Notice how there are now three axes instead of two, allowing you to see your data in a new dimension.\n",
    "\n",
    "3D plots allow you to see relationships that might not be visible in 2D, such as clusters. Interactive graphing libraries such as Plotly allow you to rotate the plot to see points from different angles and zoom into specific areas of interest.\n",
    "\n",
    "The downside of 3D plots is that they can be difficult to read in two dimensions. That means that if you need to write a paper report, a 3D plot might not be the best idea.\n",
    "\n",
    "## Review\n",
    "Datasets often contain many features, which we can use in a model to make predictions or run an analysis. Therefore, it’s important to be able to understand and visualize multiple relationships at once.\n",
    "\n",
    "In this article, you learned how to represent multivariate data using:\n",
    "\n",
    "- Scatter plots with visual cues\n",
    "- Grouped box plots\n",
    "- Multi-dimensional plots\n",
    "You are now better equipped to create more meaningful visualizations and to think beyond just simple univariate and bivariate terms.\n",
    "\n",
    "At the same time, it’s also important to recognize that adding too much to a single visualization makes it more difficult to understand relationships, so there’s a limit to what we can explore all at once."
   ]
  }
 ],
 "metadata": {
  "interpreter": {
   "hash": "126de395fc5ab05c9b404d5156ac230f2dc2d73638f7037ba66d30fa539ce6ef"
  },
  "kernelspec": {
   "display_name": "Python 3.10.1 64-bit",
   "language": "python",
   "name": "python3"
  },
  "language_info": {
   "codemirror_mode": {
    "name": "ipython",
    "version": 3
   },
   "file_extension": ".py",
   "mimetype": "text/x-python",
   "name": "python",
   "nbconvert_exporter": "python",
   "pygments_lexer": "ipython3",
   "version": "3.10.1"
  },
  "orig_nbformat": 4
 },
 "nbformat": 4,
 "nbformat_minor": 2
}
