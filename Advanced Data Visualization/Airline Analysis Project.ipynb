{
 "cells": [
  {
   "cell_type": "markdown",
   "metadata": {},
   "source": [
    "# Airline Analysis\n",
    "In this project, you’ll imagine that you work for a travel agency and need to know the ins and outs of airline prices for your clients. You want to make sure that you can find the best deal for your client and help them to understand how airline prices change based on different factors.\n",
    "\n",
    "\n",
    "You decide to look into your favorite airline. The data include:\n",
    "\n",
    "\n",
    "- miles: miles traveled through the flight\n",
    "- passengers: number of passengers on the flight\n",
    "- delay: take-off delay in minutes\n",
    "- inflight_meal: is there a meal included in the flight?\n",
    "- inflight_entertainment: are there free entertainment systems for each seat?\n",
    "- inflight_wifi: is there complimentary wifi on the flight?\n",
    "- day_of_week: day of the week of the flight\n",
    "- weekend: did this flight take place on a weekend\n",
    "- coach_price: the average price paid for a coach ticket\n",
    "- firstclass_price: the average price paid for first-class seats\n",
    "- hours: how many hours the flight took\n",
    "- redeye: was this flight a redeye (overnight)?\n",
    "\n",
    "\n",
    "In this project, you’ll explore a dataset for the first time and get to know each of these features. Keep in mind that there’s no one right way to address each of these questions. The goal is simply to explore and get to know the data using whatever methods come to mind.\n",
    "\n",
    "\n",
    "You will work in the script.py tab in the workspace. Note that there is a solution.py tab which contains solution code for the project. We highly recommend that you complete the project on your own without checking the solution, but feel free to take a look if you get stuck or if you want to compare answers when you’re done. Note that the solution code may take 15-20 seconds to run.\n",
    "\n",
    "\n",
    "In order to get the plots to appear correctly in the workspace, you’ll need to show and then clear each plot before creating the next one using the following code:"
   ]
  },
  {
   "cell_type": "code",
   "execution_count": null,
   "metadata": {},
   "outputs": [],
   "source": [
    "plt.show() # Show the plot"
   ]
  },
  {
   "cell_type": "markdown",
   "metadata": {},
   "source": [
    "Clearing the plot will not erase the plot from view, it will just create a new space for the following graphic."
   ]
  },
  {
   "cell_type": "markdown",
   "metadata": {},
   "source": [
    "# Univariate Analysis\n",
    "##### 1. What do coach ticket prices look like? What are the high and low values? What would be considered average? Does $500 seem like a good price for a coach ticket?\n",
    "\n",
    "\n",
    "`Hint` <br>\n",
    "`To start, you could try making a histogram or a boxplot of coach_price using the seaborn histplot() or boxplot() function. Remember to show and clear the plot using:`"
   ]
  },
  {
   "cell_type": "code",
   "execution_count": null,
   "metadata": {},
   "outputs": [],
   "source": [
    "plt.show() # Show the plot\n",
    "plt.clf() # Clear the plot"
   ]
  },
  {
   "cell_type": "markdown",
   "metadata": {},
   "source": [
    "`After plotting, you could calculate the mean and median of this column using the pandas methods .mean() and .median().`\n",
    "\n",
    "`Once you’ve created at least one visualization and calculated some summary statistics for the column, think about where $500 falls in the distribution of coach_price: Is it close to the mean or median (in the center of the histogram or box plot)? Or is it far away (in the tail of the histogram or box plot)?`\n",
    "\n",
    "##### 2. Now visualize the coach ticket prices for flights that are 8 hours long. What are the high, low, and average prices for 8-hour-long flights? Does a $500 ticket seem more reasonable than before?\n",
    "\n",
    "\n",
    "`Hint` <br>\n",
    "`You can subset the data within the desired plotting function. For example, if we wanted to plot the histogram of coach flight prices for flights with less than 200 passengers, we would use this code:`"
   ]
  },
  {
   "cell_type": "code",
   "execution_count": null,
   "metadata": {},
   "outputs": [],
   "source": [
    "sns.histplot(flight.coach_prices[flight.passengers <= 200])\n",
    "plt.show() # Show the plot\n",
    "plt.clf() # Clear the plot"
   ]
  },
  {
   "cell_type": "markdown",
   "metadata": {},
   "source": [
    "`You can calculate the mean or median of a subset of data using a similar method:`"
   ]
  },
  {
   "cell_type": "code",
   "execution_count": null,
   "metadata": {},
   "outputs": [],
   "source": [
    "np.mean(flight.coach_prices[flight.passengers <= 200])"
   ]
  },
  {
   "cell_type": "markdown",
   "metadata": {},
   "source": [
    "`Once you’ve correctly plotted coach ticket prices for flights that are 8 hours long as well as some summary statistics, think about where $500 now falls in the distribution: Is it close or far from the center of the plot? Is $500 closer to the summary statistics than it was before? This would indicate a more normal or reasonable price.`\n",
    "\n",
    "##### 3. How are flight delay times distributed? Let’s say there is a short amount of time between two connecting flights, and a flight delay would put the client at risk of missing their connecting flight. You want to better understand how often there are large delays so you can correctly set up connecting flights. What kinds of delays are typical?\n",
    "\n",
    "\n",
    "`Hint` <Br>\n",
    "`If you plot a histogram of flight delay times, you’ll see that this visualization is difficult to read because of extreme outliers. Try subsetting the data to only include flight delays at a lower, more reasonable value to be able to see the distribution. Use the method mentioned in the hint of Task 2 to subset your data to specific ranges.`\n",
    "\n",
    "`It may take some trial-and-error to settle on a value as your cut-off, so you may have to try a few different values until one seems right.`\n",
    "\n",
    "`After subsetting the data by delay times, we can see that a 10-minute delay is fairly common for this airline. You will want to keep that in consideration when setting up a connecting flight.`\n",
    "\n",
    "# Bivariate Analysis\n",
    "##### 4. Create a visualization that shows the relationship between coach and first-class prices. What is the relationship between these two prices? Do flights with higher coach prices always have higher first-class prices as well?\n",
    "\n",
    "\n",
    "`Hint` <br>\n",
    "`If you make a simple scatterplot between coach prices and first-class prices, you will see that there are too many data points which makes it difficult to see the nuanced relationship between these two features. You might try changing the opacity on the points to see if the mass of data points is extra packed in a certain area. You could also try taking a random sample from the data set to see what a less busy version of this plot may look like.`\n",
    "\n",
    "`But what might be the most helpful could be adding a LOWESS smoother through the plot. This can be done using the following code:`\n",
    "\n"
   ]
  },
  {
   "cell_type": "code",
   "execution_count": null,
   "metadata": {},
   "outputs": [],
   "source": [
    "sns.lmplot(x = x_var, y = y_var, data = flight, line_kws={'color': 'black'}, lowess=True)"
   ]
  },
  {
   "cell_type": "markdown",
   "metadata": {},
   "source": [
    "`This shows the relationship between the features on the x and y-axis. You can do this with either the full dataset or the random sample (which might make the image quicker to produce while keeping the same shape of the collection of plots).`\n",
    "\n",
    "\n",
    "##### 5. What is the relationship between coach prices and inflight features— inflight meal, inflight entertainment, and inflight WiFi? Which features are associated with the highest increase in price?\n",
    "\n",
    "\n",
    "`Hint` <br>\n",
    "`By the end of this task, you should have three separate histograms: one for each of the three in-flight features.`\n",
    "\n",
    "`You might start exploring these features using histograms. However, regular histograms of coach prices won’t show the differences in price by whether or not the flight has certain features. One way you can distinguish the inflight features is by using hue. This will color the histogram by the individual feature and you can see the difference between the distributions.`\n",
    "\n",
    "`You might also try using side-by-side boxplots for each inflight feature. This would show the difference in the median and spread between the flights that have an inflight feature and those that do not.`\n",
    "\n",
    "##### 6. How does the number of passengers change in relation to the length of flights?\n",
    "\n",
    "\n",
    "`Hint` <br>\n",
    "`You might start with a scatterplot of hours and passengers, but you would see that there are too many points in the same place, making it difficult to get information from the plot. You might want to add jitter to help spread the points out and better understand density. If the plot is still too dense to really interpret, you might consider using a subset of data instead of the full dataset.`\n",
    "\n",
    "`One thing you might notice at this point is that there are significantly fewer data points at 6 and 8 hours compared to the other hours. This is an interesting observation to notice and you might explore this fact further.`\n",
    "\n",
    "`Another thing you might notice is that there is a break in the distribution of passengers around 180 (very few flights have around 180 passengers). You might consider exploring the data points with more than 180 passengers separate from data points with less than 180 passengers and see if any trends emerge.`\n",
    "\n",
    "# Multivariate Analysis\n",
    "##### 7. Visualize the relationship between coach and first-class prices on weekends compared to weekdays.\n",
    "\n",
    "\n",
    "`Hint` <br>\n",
    "`The scatterplot showing the relationship between coach and first-class prices doesn’t show the difference between weekend flights and weekday flights. Changing the color of points by weekend status using hue will help visualize this relationship.`\n",
    "\n",
    "`As noted before, this is a really dense scatterplot, so you might consider using a subset of data to make it easier to see relationships in the data.`\n",
    "\n",
    "`We can see that on average, weekend tickets are more expensive than weekday tickets. However, based on this plot it seems like it’s easier to get a good deal on a first-class ticket on a weekday than on a weekend: the price difference between first-class and coach level tickets is larger on the weekend than on a weekday.`\n",
    "\n",
    "##### 8. How do coach prices differ for redeyes and non-redeyes on each day of the week?\n",
    "\n",
    "\n",
    "`Hint` <br>\n",
    "`A regular boxplot of coach prices by day of the week shows some relationship between weekday and weekend prices, but nothing about redeye flights. You can use hue to separate each day into two groups: redeyes and regular flights on that day of the week.`\n",
    "\n",
    "`We can see more clearly that the difference between redeyes and non-redeyes is pretty much the same on any day of the week, though on average weekend flights cost more than weekday flights.`"
   ]
  },
  {
   "cell_type": "code",
   "execution_count": null,
   "metadata": {},
   "outputs": [],
   "source": [
    "import pandas as pd\n",
    "import numpy as np\n",
    "import seaborn as sns\n",
    "import statsmodels\n",
    "import matplotlib.pyplot as plt\n",
    "import math\n",
    "import codecademylib3\n",
    "\n",
    "\n",
    "## Read in Data\n",
    "flight = pd.read_csv(\"flight.csv\")\n",
    "print(flight.head())\n",
    "\n",
    "## Task 1\n",
    "print(np.mean(flight.coach_price))\n",
    "print(np.median(flight.coach_price))\n",
    "\n",
    "sns.histplot(flight.coach_price)\n",
    "plt.show()\n",
    "plt.clf()\n",
    "\n",
    "## Task 2\n",
    "print(np.mean(flight.coach_price[flight.hours == 8]))\n",
    "print(np.median(flight.coach_price[flight.hours == 8]))\n",
    "\n",
    "sns.histplot(flight.coach_price[flight.hours == 8])\n",
    " \n",
    "plt.show()\n",
    "plt.clf()\n",
    "\n",
    "## Task 3\n",
    "sns.histplot(flight.delay[flight.delay <=500])\n",
    "plt.show()\n",
    "plt.clf()\n",
    " \n",
    "\n",
    "## Task 4\n",
    "perc = 0.1\n",
    "flight_sub = flight.sample(n = int(flight.shape[0]*perc))\n",
    " \n",
    "sns.lmplot(x = \"coach_price\", y = \"firstclass_price\", data = flight_sub, line_kws={'color': 'black'}, lowess=True)\n",
    "plt.show()\n",
    "plt.clf()\n",
    "\n",
    "## Task 5\n",
    "sns.histplot(flight, x = \"coach_price\", hue = flight.inflight_meal)\n",
    "plt.show()\n",
    "plt.clf()\n",
    "sns.histplot(flight, x = \"coach_price\", hue = flight.inflight_entertainment)\n",
    "plt.show()\n",
    "plt.clf()\n",
    "sns.histplot(flight, x = \"coach_price\", hue = flight.inflight_wifi)\n",
    "plt.show()\n",
    "plt.clf()\n",
    "\n",
    "## Task 6\n",
    "#scatter_kws={\"s\": 5, \"alpha\":0.2}\n",
    "sns.lmplot(\"hours\", \"passengers\", data = flight_sub, x_jitter = .25, y_jitter = .25, scatter_kws={\"s\":5, \"alpha\":0.2}, fit_reg = False)\n",
    "plt.show()\n",
    "plt.clf()\n",
    "\n",
    "## Task 7\n",
    "sns.lmplot(x ='coach_price', y='firstclass_price', hue = 'weekend', data = flight_sub, fit_reg= False)\n",
    "plt.show()\n",
    "plt.clf()\n",
    "\n",
    "## Task 8\n",
    "sns.boxplot(x ='day_of_week', y='coach_price', hue = 'redeye', data = flight)\n",
    "plt.show()\n",
    "plt.clf()\n"
   ]
  }
 ],
 "metadata": {
  "interpreter": {
   "hash": "126de395fc5ab05c9b404d5156ac230f2dc2d73638f7037ba66d30fa539ce6ef"
  },
  "kernelspec": {
   "display_name": "Python 3.10.1 64-bit",
   "language": "python",
   "name": "python3"
  },
  "language_info": {
   "codemirror_mode": {
    "name": "ipython",
    "version": 3
   },
   "file_extension": ".py",
   "mimetype": "text/x-python",
   "name": "python",
   "nbconvert_exporter": "python",
   "pygments_lexer": "ipython3",
   "version": "3.10.1"
  },
  "orig_nbformat": 4
 },
 "nbformat": 4,
 "nbformat_minor": 2
}
