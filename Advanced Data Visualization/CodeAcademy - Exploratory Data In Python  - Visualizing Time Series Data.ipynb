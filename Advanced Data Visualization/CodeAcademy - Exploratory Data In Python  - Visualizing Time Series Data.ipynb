{
 "cells": [
  {
   "cell_type": "markdown",
   "metadata": {},
   "source": [
    "## Visualizing Time Series Data\n",
    "### An introduction to exploring and visualizing time series data\n",
    "\n",
    "Data represented in a single point in time is known as cross-sectional data. As a data scientist or analyst, sometimes you might encounter data that is collected over periods of time, known as time series data.\n",
    "\n",
    "Time series data shows up in the real world quite often. For example, weather readings, company stock prices, and sales data are all examples of data that can be tracked over time. Therefore, it’s important that you are able to explore and visualize data with a time component.\n",
    "\n",
    "In this article, you will learn how to explore time series data using:\n",
    "\n",
    "- ine plots\n",
    "- Box plots\n",
    "- Heatmaps\n",
    "- Lag plots\n",
    "- Autocorrelation plots\n",
    "Let’s get started!\n",
    "\n",
    "## Line Plot\n",
    "A line plot is a simple and commonly used plot for visualizing time series data.\n",
    "\n",
    "In a line plot, time is usually on the x-axis and the observation values are on the y-axis. Let’s show an example of this plot using sales data for a small business over a five-year period.\n",
    "\n",
    "First, let’s import several useful Python libraries and load in our data:"
   ]
  },
  {
   "cell_type": "code",
   "execution_count": null,
   "metadata": {},
   "outputs": [],
   "source": [
    "# import libraries\n",
    "import pandas as pd \n",
    "import matplotlib.pyplot as plt\n",
    "import seaborn as sns\n",
    " \n",
    "# load in data\n",
    "sales_data = pd.read_csv('sales_data.csv')\n",
    " \n",
    "# peek at first few rows of data\n",
    "sales_data.head()"
   ]
  },
  {
   "cell_type": "markdown",
   "metadata": {},
   "source": [
    "Here are the first few rows of the sales data:\n",
    "\n",
    "---|date|sales\n",
    "---|---|---\n",
    "0|2016-01-01|2000.0\n",
    "1|2016-01-02|1700.0\n",
    "2|2016-01-03|1800.0\n",
    "3|2016-01-04|1400.0\n",
    "4|2016-01-05|1500.0\n",
    "\n",
    "Let’s create a line plot of the data, with date on the x-axis and sales on the y-axis:"
   ]
  },
  {
   "cell_type": "code",
   "execution_count": null,
   "metadata": {},
   "outputs": [],
   "source": [
    "# convert string to datetime64\n",
    "sales_data['date'] = sales_data['date'].apply(pd.to_datetime)\n",
    "sales_data.set_index('date', inplace=True)\n",
    " \n",
    "# create line plot of sales data\n",
    "plt.plot(sales_data['date'], sales_data['sales'])\n",
    "plt.xlabel(\"Date\")\n",
    "plt.ylabel(\"Sales (USD)\")\n",
    "plt.show()"
   ]
  },
  {
   "cell_type": "markdown",
   "metadata": {},
   "source": [
    "\n",
    "![](https://static-assets.codecademy.com/Courses/EDA/Time_Series/lineplot.svg)"
   ]
  },
  {
   "cell_type": "markdown",
   "metadata": {},
   "source": [
    "Notice how we can see the trend of the data over time. Looking at the chart, it seems that:\n",
    "\n",
    "- Sales are seasonal, peaking at the beginning and end of each year, and slowing down in the middle of each year.\n",
    "- Sales don’t seem to show signs of growth over time. This appears to be a stagnant business.\n",
    "## Box Plot\n",
    "When working with time series data, box plots can be useful to see the distribution of values grouped by time interval.\n",
    "\n",
    "For example, let’s create a box plot for each year of sales and put them side-to-side for comparison:"
   ]
  },
  {
   "cell_type": "code",
   "execution_count": null,
   "metadata": {},
   "outputs": [],
   "source": [
    "# extract year from date column\n",
    "sales_data['year'] = sales_data['date'].dt.year\n",
    " \n",
    "# box plot grouped by year\n",
    "sns.boxplot(data = sales_data, x = 'year', y = 'sales')\n",
    "plt.show()"
   ]
  },
  {
   "cell_type": "markdown",
   "metadata": {},
   "source": [
    "![](https://static-assets.codecademy.com/Courses/EDA/Time_Series/boxplot.svg)"
   ]
  },
  {
   "cell_type": "markdown",
   "metadata": {},
   "source": [
    "For each year of the sales data, we can easily see useful information such as median sales, the highest and lowest sales, the interquartile range of our data, and any outliers.\n",
    "\n",
    "Median sales for each year (represented by the horizontal line in each box) are quite stable, suggesting that sales are not growing over time.\n",
    "\n",
    "## Heatmap\n",
    "We can also use a heatmap to compare observations between time intervals in time series data.\n",
    "\n",
    "For example, let’s create a density heatmap with year on the y-axis and month on the x-axis:"
   ]
  },
  {
   "cell_type": "code",
   "execution_count": null,
   "metadata": {},
   "outputs": [],
   "source": [
    "# calculate total sales for each month\n",
    "sales = sales_data.groupby(['year', 'month']).sum()\n",
    " \n",
    "# re-format the data for the heat-map\n",
    "sales_mnth_yr = sales.reset_index().pivot(index='year', columns='month', values='sales')\n",
    " \n",
    "# create heatmap\n",
    "sns.heatmap(sales_mnth_yr, cbar_kws={'label': 'Total Sales'})\n",
    "plt.title('Sales Over Time')\n",
    "plt.xlabel('Month')\n",
    "plt.ylabel('Year')\n",
    "plt.show()"
   ]
  },
  {
   "cell_type": "markdown",
   "metadata": {},
   "source": [
    "![](https://static-assets.codecademy.com/Courses/EDA/Time_Series/heatmap_mnth_year_sales.svg)"
   ]
  },
  {
   "cell_type": "markdown",
   "metadata": {},
   "source": [
    "Recall that in a heatmap, as the color gets brighter and moves from dark purple to yellow, the total sales in the corresponding cell is higher.\n",
    "\n",
    "Here, we see once again that the sales are pretty consistent year after year and also exhibit seasonality.\n",
    "\n",
    "## Lag Scatter Plot\n",
    "We can use a lag scatter plot to explore the relationship between an observation and a lag of that observation.\n",
    "\n",
    "In a time series, a lag is a previous observation:\n",
    "\n",
    "The observation at a previous time step (the smallest time interval for which we have distinct measurements) is called lag 1\n",
    "- The observation at two times ago is called lag 2, etc.\n",
    "- In the sales dataset, we have a different sales value for each day. Therefore, the lag 1 value for any particular day is equal to the sales on the previous day. The lag 2 value is the sales two days ago, etc.\n",
    "\n",
    "Python’s pandas has a built-in lag_plot function which plots the observation at time t on the x-axis and the lag 1 observation (t+1) on the y-axis:"
   ]
  },
  {
   "cell_type": "code",
   "execution_count": null,
   "metadata": {},
   "outputs": [],
   "source": [
    "# import lag_plot function\n",
    "from pandas.plotting import lag_plot\n",
    " \n",
    "# lag scatter plot\n",
    "lag_plot(sales_data)\n",
    "plt.show()"
   ]
  },
  {
   "cell_type": "markdown",
   "metadata": {},
   "source": [
    "![](https://static-assets.codecademy.com/Courses/EDA/Time_Series/lagplot.svg)"
   ]
  },
  {
   "cell_type": "markdown",
   "metadata": {},
   "source": [
    "How can we interpret a lag scatter plot?\n",
    "\n",
    "- If the points move from the bottom left to the top right, this indicates a positive correlation between observations and their lag 1 values. For example, high sales on one day are associated with high sales on the previous day.\n",
    "- If the points move from the top left to the bottom right, this indicates a negative correlation between observations and their lag 1 values. For example, high sales on one day are associated with low sales on the previous day and vice versa.\n",
    "- If there is no identifiable structure in the lag plot, this indicates the data is random, and there is no association between values at consecutive time points. For example, sales on one day tell you no information about expected sales on the following day.\n",
    "Exploring the relationship between an observation and a lag of that observation is useful for helping us determine whether a dataset is random.\n",
    "\n",
    "Since the points in the sales data move along a diagonal line from the bottom left to the top right, this indicates that our data is not random and there is a positive correlation between observations and their lag 1 values.\n",
    "\n",
    "## Autocorrelation Plot\n",
    "An autocorrelation plot is used to show whether the elements of a time series are positively correlated, negatively correlated, or independent of each other.\n",
    "\n",
    "Python’s pandas has a built-in autocorrelation_plot() function:"
   ]
  },
  {
   "cell_type": "code",
   "execution_count": null,
   "metadata": {},
   "outputs": [],
   "source": [
    "# import autocorrelation function\n",
    "from pandas.plotting import autocorrelation_plot\n",
    " \n",
    "# autocorrelation plot\n",
    "autocorrelation_plot(sales_data)\n",
    "plt.show()"
   ]
  },
  {
   "cell_type": "markdown",
   "metadata": {},
   "source": [
    "![](https://static-assets.codecademy.com/Courses/EDA/Time_Series/autocorrelation.png)"
   ]
  },
  {
   "cell_type": "markdown",
   "metadata": {},
   "source": [
    "In the autocorrelation plot above, lag is on the x-axis and the value of the autocorrelation, which ranges from -1 to 1, is on the y-axis. A value near 0 indicates a weak correlation while values closer to -1 and 1 indicate a strong correlation.\n",
    "\n",
    "Notice how the autocorrelation plot for the sales data forms waves, oscillating between strong negative and positive correlation. These waves suggest that our dataset exhibits seasonality.\n",
    "\n",
    "Also, notice how the autocorrelation decreases over time. This indicates that sales tend to be similar on consecutive days, but sales from three years ago are less associated with today’s sales than sales from one year ago.\n",
    "\n",
    "## Review\n",
    "As a data analyst or scientist, you will often work with data that changes over time.\n",
    "\n",
    "In this article, you got a brief introduction to exploring and visualizing time series data using:\n",
    "\n",
    "- Line plots\n",
    "- Box plots\n",
    "- Heatmaps\n",
    "- Lag plots\n",
    "- Autocorrelation plots\n",
    "Moving forward, you are now better equipped to explore and visualize data with a time component."
   ]
  }
 ],
 "metadata": {
  "interpreter": {
   "hash": "126de395fc5ab05c9b404d5156ac230f2dc2d73638f7037ba66d30fa539ce6ef"
  },
  "kernelspec": {
   "display_name": "Python 3.10.1 64-bit",
   "language": "python",
   "name": "python3"
  },
  "language_info": {
   "name": "python",
   "version": "3.10.1"
  },
  "orig_nbformat": 4
 },
 "nbformat": 4,
 "nbformat_minor": 2
}
