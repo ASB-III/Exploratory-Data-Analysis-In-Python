{
 "cells": [
  {
   "cell_type": "markdown",
   "metadata": {},
   "source": [
    "# AGGREGATES IN PANDAS\n",
    "## Introduction\n",
    "In this lesson, you will learn about aggregates in Pandas. An aggregate statistic is a way of creating a single number that describes a group of numbers. Common aggregate statistics include mean, median, and standard deviation.\n",
    "\n",
    "You will also learn how to rearrange a DataFrame into a pivot table, which is a great way to compare data across two dimensions.\n",
    "\n",
    "\n",
    "## Instructions\n",
    "\n",
    "\n",
    "Examine the Pandas code displayed to the right in a Jupyter Notebook. For now, don’t worry about understanding every line. These are just some examples of what you’ll be able to do by the end of this lesson!\n",
    "\n",
    "When you’re ready, continue to the next exercise!"
   ]
  },
  {
   "cell_type": "markdown",
   "metadata": {},
   "source": [
    "https://content.codecademy.com/courses/learn-pandas/Pandas%2BExample%2Bfor%2BPandas%2BAggregates.html"
   ]
  },
  {
   "cell_type": "markdown",
   "metadata": {},
   "source": [
    "What can we do with Pandas Aggregates?\n",
    "In this example, we'll be working with data from ShoeFly.com, a fictional online shoe store."
   ]
  },
  {
   "cell_type": "code",
   "execution_count": null,
   "metadata": {},
   "outputs": [],
   "source": [
    "# Before we analyze anything, we need to import pandas\n",
    "# and load our data\n",
    "import pandas as pd\n",
    "\n",
    "df = pd.read_csv('shoefly_page_visits.csv')"
   ]
  },
  {
   "cell_type": "markdown",
   "metadata": {},
   "source": [
    "Let's examine the first 10 rows of our data!"
   ]
  },
  {
   "cell_type": "code",
   "execution_count": null,
   "metadata": {},
   "outputs": [],
   "source": [
    "df.head(10)"
   ]
  },
  {
   "cell_type": "markdown",
   "metadata": {},
   "source": [
    "---|id|first_name|last_name|email|month|utm_source\n",
    "---|---|---|---|---|---|----\n",
    "0|10043|Louis|Koch|LouisKoch43@gmail.com|3 - March|yahoo\n",
    "1|10150|Bruce|Webb|BruceWebb44@outlook.com|3 - March|twitter\n",
    "2|10155|Nicholas|Hoffman|Nicholas.Hoffman@gmail.com|2 - February|google\n",
    "3|10178|William|Key|William.Key@outlook.com|3 - March|yahoo\n",
    "4|10208|Karen|Bass|KB4971@gmail.com|2 - February|google\n",
    "5|10260|Benjamin|Ochoa|Benjamin.Ochoa@outlook.com|1 - January|twitter\n",
    "6|10271|Gerald|Aguilar|Gerald.Aguilar@gmail.com|3 - March|google\n",
    "7|10278|Melissa|Lambert|Melissa.Lambert@gmail.com|2 - February|email\n",
    "8|10320|Adam|Strickland|Adam.Strickland@gmail.com|3 - March|email\n",
    "9|10389|Ethan|Payne|EthanPayne26@outlook.com|2 - February|facebook"
   ]
  },
  {
   "cell_type": "markdown",
   "metadata": {},
   "source": [
    "Notice that there's a column called \"utm_source\". This column tells us the website that sent users to ShoeFly.com. There's also a column called \"month\", which tells us the month in which this user visited ShoeFly.com.\n",
    "\n",
    "We want to know how our sources have changed from month to month. Let's investigate!"
   ]
  },
  {
   "cell_type": "code",
   "execution_count": null,
   "metadata": {},
   "outputs": [],
   "source": [
    "# This command shows us how many users visited the site from different sources in different months.\n",
    "df.groupby(['month', 'utm_source']).id.count().reset_index()"
   ]
  },
  {
   "cell_type": "markdown",
   "metadata": {},
   "source": [
    "---|month|utm_source|id\n",
    "---|---|---|----\n",
    "0|1 - January|email|43\n",
    "1|1 - January|facebook|404\n",
    "2|1 - January|google|127\n",
    "3|1 - January|twitter|164\n",
    "4|1 - January|yahoo|262\n",
    "5|2 - February|email|147\n",
    "6|2 - February|facebook|263\n",
    "7|2 - February|google|196\n",
    "8|2 - February|twitter|154\n",
    "9|2 - February|yahoo|240\n",
    "10|3 - March|email|272\n",
    "11|3 - March|facebook|156\n",
    "12|3 - March|google|220\n",
    "13|3 - March|twitter|97\n",
    "14|3 - March|yahoo|255"
   ]
  },
  {
   "cell_type": "code",
   "execution_count": null,
   "metadata": {},
   "outputs": [],
   "source": [
    "# This command shows us how many users visited the site from different sources in different months.\n",
    "df.groupby(['month', 'utm_source']).id.count()\\\n",
    "    .reset_index()\\\n",
    "    .pivot(columns='month', index='utm_source', values='id')"
   ]
  },
  {
   "cell_type": "markdown",
   "metadata": {},
   "source": [
    "month|1 - January|2 - February|3 - March\n",
    "---|---|---|----\n",
    "utm_source|||\n",
    "email|43|147|272\n",
    "facebook|404|263|156\n",
    "google|127|196|220\n",
    "twitter|164|154|97\n",
    "yahoo|262|240|255"
   ]
  },
  {
   "cell_type": "markdown",
   "metadata": {},
   "source": [
    "Over the course of these three months, it looks like we got more visits from \"email\" and \"google\", but fewer visits from \"facebook\" and \"twitter\". The number of visits from \"yahoo\" stayed mostly the same."
   ]
  },
  {
   "cell_type": "markdown",
   "metadata": {},
   "source": [
    "# Calculating Column Statistics\n",
    "Aggregate functions summarize many data points (i.e., a column of a dataframe) into a smaller set of values.\n",
    "\n",
    "Some examples of this type of calculation include:\n",
    "\n",
    "- The DataFrame customers contains the names and ages of all of your customers. You want to find the median age:"
   ]
  },
  {
   "cell_type": "code",
   "execution_count": null,
   "metadata": {},
   "outputs": [],
   "source": [
    "print(customers.age)\n",
    ">> [23, 25, 31, 35, 35, 46, 62]\n",
    "print(customers.age.median())\n",
    ">> 35"
   ]
  },
  {
   "cell_type": "markdown",
   "metadata": {},
   "source": [
    "- The DataFrame shipments contains address information for all shipments that you’ve sent out in the past year. You want to know how many different states you have shipped to (and how many shipments went to the same state)."
   ]
  },
  {
   "cell_type": "code",
   "execution_count": null,
   "metadata": {},
   "outputs": [],
   "source": [
    "print(shipments.state)\n",
    ">> ['CA', 'CA', 'CA', 'CA', 'NY', 'NY', 'NJ', 'NJ', 'NJ', 'NJ', 'NJ', 'NJ', 'NJ']\n",
    "print(shipments.state.nunique())\n",
    ">> 3\n"
   ]
  },
  {
   "cell_type": "markdown",
   "metadata": {},
   "source": [
    "- The DataFrame inventory contains a list of types of t-shirts that your company makes. You want a list of the colors that your shirts come in."
   ]
  },
  {
   "cell_type": "markdown",
   "metadata": {},
   "source": [
    "print(inventory.color)\n",
    ">> ['blue', 'blue', 'blue', 'blue', 'blue', 'green', 'green', 'orange', 'orange', 'orange']\n",
    "print(inventory.color.unique())\n",
    ">> ['blue', 'green', 'orange']"
   ]
  },
  {
   "cell_type": "markdown",
   "metadata": {},
   "source": [
    "The general syntax for these calculations is:"
   ]
  },
  {
   "cell_type": "code",
   "execution_count": null,
   "metadata": {},
   "outputs": [],
   "source": [
    "df.column_name.command()"
   ]
  },
  {
   "cell_type": "markdown",
   "metadata": {},
   "source": [
    "The following table summarizes some common commands:\n",
    "\n",
    "Command|Description\n",
    "---|---\n",
    "mean|Average of all values in column\n",
    "std|Standard deviation\n",
    "median|Median\n",
    "max|Maximum value in column\n",
    "min|Minimum value in column\n",
    "count|Number of values in column\n",
    "nunique|Number of unique values in column\n",
    "unique|List of unique values in column"
   ]
  },
  {
   "cell_type": "markdown",
   "metadata": {},
   "source": [
    "Instructions\n",
    "1.\n",
    "Once more, we’ll revisit our orders from ShoeFly.com. Our new batch of orders is in the DataFrame orders. Examine the first 10 rows using the following code:"
   ]
  },
  {
   "cell_type": "code",
   "execution_count": null,
   "metadata": {},
   "outputs": [],
   "source": [
    "print(orders.head(10))"
   ]
  },
  {
   "cell_type": "markdown",
   "metadata": {},
   "source": [
    "##### 2. Our finance department wants to know the price of the most expensive pair of shoes purchased. Save your answer to the variable most_expensive.\n",
    "\n",
    "\n",
    "`Hint` <br>\n",
    "`The most expensive pair of shoes would be the one with the maximum value of price.`\n",
    "\n",
    "##### 3. Our fashion department wants to know how many different colors of shoes we are selling. Save your answer to the variable num_colors.\n",
    "\n",
    "\n",
    "`Hint` <br>\n",
    "`Try calculating the nunique of shoe_color.`"
   ]
  },
  {
   "cell_type": "code",
   "execution_count": null,
   "metadata": {},
   "outputs": [],
   "source": [
    "import codecademylib3\n",
    "import pandas as pd\n",
    "\n",
    "orders = pd.read_csv('orders.csv')\n",
    "\n",
    "print(orders.head(10))\n",
    "\n",
    "most_expensive = orders.price.max()\n",
    "print(most_expensive)\n",
    "\n",
    "num_colors = orders.shoe_color.nunique()\n",
    "print(num_colors)"
   ]
  },
  {
   "cell_type": "markdown",
   "metadata": {},
   "source": [
    "# Calculating Aggregate Functions I\n",
    "When we have a bunch of data, we often want to calculate aggregate statistics (mean, standard deviation, median, percentiles, etc.) over certain subsets of the data.\n",
    "\n",
    "Suppose we have a grade book with columns student, assignment_name, and grade. The first few lines look like this:"
   ]
  },
  {
   "cell_type": "markdown",
   "metadata": {},
   "source": [
    "tudent|assignment_name|grade\n",
    "---|---|---\n",
    "Amy|Assignment 1|75\n",
    "Amy|Assignment 2|35\n",
    "Bob|Assignment 1|99\n",
    "Bob|Assignment 2|35\n"
   ]
  },
  {
   "cell_type": "markdown",
   "metadata": {},
   "source": [
    "We want to get an average grade for each student across all assignments. We could do some sort of loop, but Pandas gives us a much easier option: the method .groupby.\n",
    "\n",
    "For this example, we’d use the following command:"
   ]
  },
  {
   "cell_type": "code",
   "execution_count": null,
   "metadata": {},
   "outputs": [],
   "source": [
    "grades = df.groupby('student').grade.mean()"
   ]
  },
  {
   "cell_type": "markdown",
   "metadata": {},
   "source": [
    "The output might look something like this:"
   ]
  },
  {
   "cell_type": "markdown",
   "metadata": {},
   "source": [
    "student|grade\n",
    "---|---\n",
    "Amy|80\n",
    "Bob|90\n",
    "Chris|75\n"
   ]
  },
  {
   "cell_type": "markdown",
   "metadata": {},
   "source": [
    "In general, we use the following syntax to calculate aggregates:"
   ]
  },
  {
   "cell_type": "code",
   "execution_count": null,
   "metadata": {},
   "outputs": [],
   "source": [
    "df.groupby('column1').column2.measurement()"
   ]
  },
  {
   "cell_type": "markdown",
   "metadata": {},
   "source": [
    "where:\n",
    "\n",
    "- column1 is the column that we want to group by ('student' in our example)\n",
    "- column2 is the column that we want to perform a measurement on (grade in our example)\n",
    "- measurement is the measurement function we want to apply (mean in our example)"
   ]
  },
  {
   "cell_type": "markdown",
   "metadata": {},
   "source": [
    "## Instructions\n",
    "##### 1. Let’s return to our orders data from ShoeFly.com.\n",
    "\n",
    "In the previous exercise, our finance department wanted to know the most expensive shoe that we sold.\n",
    "\n",
    "Now, they want to know the most expensive shoe for each shoe_type (i.e., the most expensive boot, the most expensive ballet flat, etc.).\n",
    "\n",
    "Save your answer to the variable pricey_shoes."
   ]
  },
  {
   "cell_type": "markdown",
   "metadata": {},
   "source": [
    "`Hint` <br>\n",
    "`If you wanted to find the least expensive shoes, you’d use the following code:`"
   ]
  },
  {
   "cell_type": "markdown",
   "metadata": {},
   "source": [
    "orders.groupby('shoe_type').price.min()"
   ]
  },
  {
   "cell_type": "markdown",
   "metadata": {},
   "source": [
    "##### 2. Examine the object that you just created using:"
   ]
  },
  {
   "cell_type": "code",
   "execution_count": null,
   "metadata": {},
   "outputs": [],
   "source": [
    "print(pricey_shoes)"
   ]
  },
  {
   "cell_type": "markdown",
   "metadata": {},
   "source": [
    "##### 3. What type of object is pricey_shoes?\n",
    "\n",
    "Enter the following code to check:"
   ]
  },
  {
   "cell_type": "code",
   "execution_count": null,
   "metadata": {},
   "outputs": [],
   "source": [
    "print(type(pricey_shoes))"
   ]
  },
  {
   "cell_type": "code",
   "execution_count": null,
   "metadata": {},
   "outputs": [],
   "source": [
    "import codecademylib3\n",
    "import pandas as pd\n",
    "\n",
    "orders = pd.read_csv('orders.csv')\n",
    " \n",
    "pricey_shoes = orders.groupby('shoe_type').price.max()\n",
    "print(pricey_shoes)\n",
    "\n",
    "print(type(pricey_shoes))"
   ]
  },
  {
   "cell_type": "markdown",
   "metadata": {},
   "source": [
    "# Calculating Aggregate Functions II\n",
    "After using groupby, we often need to clean our resulting data.\n",
    "\n",
    "As we saw in the previous exercise, the groupby function creates a new Series, not a DataFrame. For our ShoeFly.com example, the indices of the Series were different values of shoe_type, and the name property was price.\n",
    "\n",
    "Usually, we’d prefer that those indices were actually a column. In order to get that, we can use reset_index(). This will transform our Series into a DataFrame and move the indices into their own column.\n",
    "\n",
    "Generally, you’ll always see a groupby statement followed by reset_index:"
   ]
  },
  {
   "cell_type": "code",
   "execution_count": null,
   "metadata": {},
   "outputs": [],
   "source": [
    "df.groupby('column1').column2.measurement()\n",
    "    .reset_index()"
   ]
  },
  {
   "cell_type": "markdown",
   "metadata": {},
   "source": [
    "When we use groupby, we often want to rename the column we get as a result. For example, suppose we have a DataFrame teas containing data on types of tea:"
   ]
  },
  {
   "cell_type": "markdown",
   "metadata": {},
   "source": [
    "id|tea|category|caffeine|price\n",
    "---|---|---|---|---\n",
    "0|earl grey|black|38|3\n",
    "1|english breakfast|black|41|3\n",
    "2|irish breakfast|black|37|2.5\n",
    "3|jasmine|green|23|4.5\n",
    "4|matcha|green|48|5\n",
    "5|camomile|herbal|0|3"
   ]
  },
  {
   "cell_type": "markdown",
   "metadata": {},
   "source": [
    "We want to find the number of each category of tea we sell. We can use:"
   ]
  },
  {
   "cell_type": "code",
   "execution_count": null,
   "metadata": {},
   "outputs": [],
   "source": [
    "teas_counts = teas.groupby('category').id.count().reset_index()"
   ]
  },
  {
   "cell_type": "markdown",
   "metadata": {},
   "source": [
    "This yields a DataFrame that looks like:"
   ]
  },
  {
   "cell_type": "markdown",
   "metadata": {},
   "source": [
    "---|category|id\n",
    "---|----|----\n",
    "0|black|3\n",
    "1|green|4\n",
    "2|herbal|8\n",
    "3|white|2"
   ]
  },
  {
   "cell_type": "markdown",
   "metadata": {},
   "source": [
    "The new column contains the counts of each category of tea sold. We have 3 black teas, 4 green teas, and so on. However, this column is called id because we used the id column of teas to calculate the counts. We actually want to call this column counts. Remember that we can rename columns:"
   ]
  },
  {
   "cell_type": "code",
   "execution_count": null,
   "metadata": {},
   "outputs": [],
   "source": [
    "teas_counts = teas_counts.rename(columns={\"id\": \"counts\"})"
   ]
  },
  {
   "cell_type": "markdown",
   "metadata": {},
   "source": [
    "Our DataFrame now looks like:"
   ]
  },
  {
   "cell_type": "markdown",
   "metadata": {},
   "source": [
    "---|category|counts\n",
    "---|----|----\n",
    "0|black|3\n",
    "1|green|4\n",
    "2|herbal|8\n",
    "3|white|2"
   ]
  },
  {
   "cell_type": "markdown",
   "metadata": {},
   "source": [
    "Instructions\n",
    "##### 1. Modify your code from the previous exercise so that it ends with reset_index, which will change pricey_shoes into a DataFrame.\n",
    "\n",
    "##### 2. Examine the object that you’ve just created using the following code:"
   ]
  },
  {
   "cell_type": "code",
   "execution_count": null,
   "metadata": {},
   "outputs": [],
   "source": [
    "print(pricey_shoes)"
   ]
  },
  {
   "cell_type": "markdown",
   "metadata": {},
   "source": [
    "##### 3. Now, what type of object is pricey_shoes?\n",
    "\n",
    "Enter the following code to check:"
   ]
  },
  {
   "cell_type": "code",
   "execution_count": null,
   "metadata": {},
   "outputs": [],
   "source": [
    "print(type(pricey_shoes))"
   ]
  },
  {
   "cell_type": "code",
   "execution_count": null,
   "metadata": {},
   "outputs": [],
   "source": [
    "import codecademylib3\n",
    "import pandas as pd\n",
    "\n",
    "orders = pd.read_csv('orders.csv')\n",
    "\n",
    "pricey_shoes = orders.groupby('shoe_type').price.max().reset_index()\n",
    "print(pricey_shoes)\n",
    "\n",
    "print(type(pricey_shoes))"
   ]
  },
  {
   "cell_type": "markdown",
   "metadata": {},
   "source": [
    "# Calculating Aggregate Functions III\n",
    "Sometimes, the operation that you want to perform is more complicated than mean or count. In those cases, you can use the apply method and lambda functions, just like we did for individual column operations. Note that the input to our lambda function will always be a list of values.\n",
    "\n",
    "\n",
    "A great example of this is calculating percentiles. Suppose we have a DataFrame of employee information called df that has the following columns:\n",
    "\n",
    "\n",
    "- id: the employee’s id number\n",
    "- name: the employee’s name\n",
    "- wage: the employee’s hourly wage\n",
    "- category: the type of work that the employee does\n",
    "\n",
    "\n",
    "Our data might look something like this:"
   ]
  },
  {
   "cell_type": "markdown",
   "metadata": {},
   "source": [
    "id|name|wage|category\n",
    "---|---|---|---\n",
    "10131|Sarah Carney|39|product\n",
    "14189|Heather Carey|17|design\n",
    "15004|Gary Mercado|33|marketing\n",
    "11204|Cora Copaz|27|design"
   ]
  },
  {
   "cell_type": "markdown",
   "metadata": {},
   "source": [
    "If we want to calculate the 75th percentile (i.e., the point at which 75% of employees have a lower wage and 25% have a higher wage) for each category, we can use the following combination of apply and a lambda function:"
   ]
  },
  {
   "cell_type": "code",
   "execution_count": null,
   "metadata": {},
   "outputs": [],
   "source": [
    "# np.percentile can calculate any percentile over an array of values\n",
    "high_earners = df.groupby('category').wage\n",
    "    .apply(lambda x: np.percentile(x, 75))\n",
    "    .reset_index()"
   ]
  },
  {
   "cell_type": "markdown",
   "metadata": {},
   "source": [
    "The output, high_earners might look like this:"
   ]
  },
  {
   "cell_type": "markdown",
   "metadata": {},
   "source": [
    "---|category|wage\n",
    "---|---|---\n",
    "0|design|23\n",
    "1|marketing|35\n",
    "2|product|48"
   ]
  },
  {
   "cell_type": "markdown",
   "metadata": {},
   "source": [
    "## Instructions\n",
    "##### 1. Once more, we’ll return to the data from ShoeFly.com. Our Marketing team says that it’s important to have some affordably priced shoes available for every color of shoe that we sell.\n",
    "\n",
    "Let’s calculate the 25th percentile for shoe price for each shoe_color to help Marketing decide if we have enough cheap shoes on sale. Save the data to the variable cheap_shoes.\n",
    "\n",
    "Note: Be sure to use reset_index() at the end of your query so that cheap_shoes is a DataFrame.\n",
    "\n",
    "##### 2. Display cheap_shoes using print."
   ]
  },
  {
   "cell_type": "code",
   "execution_count": null,
   "metadata": {},
   "outputs": [],
   "source": [
    "import codecademylib3\n",
    "import numpy as np\n",
    "import pandas as pd\n",
    "\n",
    "orders = pd.read_csv('orders.csv')\n",
    "\n",
    "cheap_shoes = orders.groupby('shoe_color').price.apply(lambda x: np.percentile(x, 25)).reset_index()\n",
    "print(cheap_shoes)"
   ]
  },
  {
   "cell_type": "markdown",
   "metadata": {},
   "source": [
    "# Calculating Aggregate Functions IV\n",
    "Sometimes, we want to group by more than one column. We can easily do this by passing a list of column names into the groupby method.\n",
    "\n",
    "Imagine that we run a chain of stores and have data about the number of sales at different locations on different days:"
   ]
  },
  {
   "cell_type": "markdown",
   "metadata": {},
   "source": [
    "Location|Date|Day of Week|Total Sales\n",
    "-|-|-|-\n",
    "West Village|February 1|W|400\n",
    "West Village|February 2|Th|450\n",
    "Chelsea|February 1|W|375\n",
    "Chelsea|February 2|Th|390"
   ]
  },
  {
   "cell_type": "markdown",
   "metadata": {},
   "source": [
    "We suspect that sales are different at different locations on different days of the week. In order to test this hypothesis, we could calculate the average sales for each store on each day of the week across multiple months. The code would look like this:"
   ]
  },
  {
   "cell_type": "code",
   "execution_count": null,
   "metadata": {},
   "outputs": [],
   "source": [
    "df.groupby(['Location', 'Day of Week'])['Total Sales'].mean().reset_index()"
   ]
  },
  {
   "cell_type": "markdown",
   "metadata": {},
   "source": [
    "The results might look something like this:"
   ]
  },
  {
   "cell_type": "markdown",
   "metadata": {},
   "source": [
    "Location|Day of Week|Total Sales\n",
    "-|-|-\n",
    "Chelsea|M|402.50\n",
    "Chelsea|Tu|422.75\n",
    "Chelsea|W|452.00\n",
    "…||\n",
    "West Village|M|390\n",
    "West Village|Tu|400"
   ]
  },
  {
   "cell_type": "markdown",
   "metadata": {},
   "source": [
    "## Instructions\n",
    "##### 1. At ShoeFly.com, our Purchasing team thinks that certain shoe_type/shoe_color combinations are particularly popular this year (for example, blue ballet flats are all the rage in Paris).\n",
    "\n",
    "Create a DataFrame with the total number of shoes of each shoe_type/shoe_color combination purchased. Save it to the variable shoe_counts.\n",
    "\n",
    "You should be able to do this using groupby and count().\n",
    "\n",
    "Note: When we’re using count(), it doesn’t really matter which column we perform the calculation on. You should use id in this example, but we would get the same answer if we used shoe_type or last_name.\n",
    "\n",
    "Remember to use reset_index() at the end of your code!\n",
    "\n",
    "\n",
    "`Hint` <br>\n",
    "`If we wanted to count the number of shoes of each shoe_color purchased, we’d use the following code:`"
   ]
  },
  {
   "cell_type": "code",
   "execution_count": null,
   "metadata": {},
   "outputs": [],
   "source": [
    "orders.groupby('shoe_color').id\\\n",
    "      .count().reset_index()"
   ]
  },
  {
   "cell_type": "markdown",
   "metadata": {},
   "source": [
    "##### 2. Display shoe_counts using print."
   ]
  },
  {
   "cell_type": "code",
   "execution_count": null,
   "metadata": {},
   "outputs": [],
   "source": [
    "import codecademylib3\n",
    "import numpy as np\n",
    "import pandas as pd\n",
    "\n",
    "orders = pd.read_csv('orders.csv')\n",
    "\n",
    "shoe_counts = orders.groupby(['shoe_type', 'shoe_color']).id.count().reset_index()\n",
    "print(shoe_counts)"
   ]
  },
  {
   "cell_type": "markdown",
   "metadata": {},
   "source": [
    "# Pivot Tables\n",
    "When we perform a groupby across multiple columns, we often want to change how our data is stored. For instance, recall the example where we are running a chain of stores and have data about the number of sales at different locations on different days:"
   ]
  },
  {
   "cell_type": "markdown",
   "metadata": {},
   "source": [
    "Location|Date|Day of Week|Total Sales\n",
    "-|-|-|-\n",
    "West Village|February 1|W|400\n",
    "West Village|February 2|Th|450\n",
    "Chelsea|February 1|W|375\n",
    "Chelsea|February 2|Th|390\n"
   ]
  },
  {
   "cell_type": "markdown",
   "metadata": {},
   "source": [
    "We suspected that there might be different sales on different days of the week at different stores, so we performed a groupby across two different columns (Location and Day of Week). This gave us results that looked like this:"
   ]
  },
  {
   "cell_type": "markdown",
   "metadata": {},
   "source": [
    "Location|Day of Week|Total Sales\n",
    "-|-|-\n",
    "Chelsea|M|300\n",
    "Chelsea|Tu|310\n",
    "Chelsea|W|320\n",
    "Chelsea|Th|290\n",
    "…||\n",
    "West Village|Th|400\n",
    "West Village|F|390\n",
    "West Village|Sa|250"
   ]
  },
  {
   "cell_type": "markdown",
   "metadata": {},
   "source": [
    "In order to test our hypothesis, it would be more useful if the table was formatted like this:"
   ]
  },
  {
   "cell_type": "markdown",
   "metadata": {},
   "source": [
    "Location|M|Tu|W|Th|F|Sa|Su\n",
    "---|---|---|---|---|---|---|----\n",
    "Chelsea|400|390|250|275|300|150|175\n",
    "West Village|300|310|350|400|390|250|200\n",
    "…|||||||"
   ]
  },
  {
   "cell_type": "markdown",
   "metadata": {},
   "source": [
    "Reorganizing a table in this way is called pivoting. The new table is called a pivot table.\n",
    "\n",
    "In Pandas, the command for pivot is:"
   ]
  },
  {
   "cell_type": "code",
   "execution_count": null,
   "metadata": {},
   "outputs": [],
   "source": [
    "df.pivot(columns='ColumnToPivot',\n",
    "         index='ColumnToBeRows',\n",
    "         values='ColumnToBeValues')"
   ]
  },
  {
   "cell_type": "markdown",
   "metadata": {},
   "source": [
    "For our specific example, we would write the command like this:"
   ]
  },
  {
   "cell_type": "code",
   "execution_count": null,
   "metadata": {},
   "outputs": [],
   "source": [
    "# First use the groupby statement:\n",
    "unpivoted = df.groupby(['Location', 'Day of Week'])['Total Sales'].mean().reset_index()\n",
    "# Now pivot the table\n",
    "pivoted = unpivoted.pivot(\n",
    "    columns='Day of Week',\n",
    "    index='Location',\n",
    "    values='Total Sales')"
   ]
  },
  {
   "cell_type": "markdown",
   "metadata": {},
   "source": [
    "Just like with groupby, the output of a pivot command is a new DataFrame, but the indexing tends to be “weird”, so we usually follow up with .reset_index()."
   ]
  },
  {
   "cell_type": "markdown",
   "metadata": {},
   "source": [
    "Instructions\n",
    "1.\n",
    "In the previous example, you created a DataFrame with the total number of shoes of each shoe_type/shoe_color combination purchased for ShoeFly.com.\n",
    "\n",
    "The purchasing manager complains that this DataFrame is confusing.\n",
    "\n",
    "Make it easier for her to compare purchases of different shoe colors of the same shoe type by creating a pivot table. Save your results to the variable shoe_counts_pivot.\n",
    "\n",
    "Your table should look like this:"
   ]
  },
  {
   "cell_type": "markdown",
   "metadata": {},
   "source": [
    "shoe_type|black|brown|navy|red|white\n",
    "--|--|--|--|--|--\n",
    "ballet flats|…|…|…|…|…\n",
    "sandals|…|…|…|…|…\n",
    "stilettos|…|…|…|…|…\n",
    "wedges|…|…|…|…|…"
   ]
  },
  {
   "cell_type": "markdown",
   "metadata": {},
   "source": [
    "Remember to use reset_index() at the end of your code!"
   ]
  },
  {
   "cell_type": "markdown",
   "metadata": {},
   "source": [
    "`Hint` <br>\n",
    "`The index should be shoe_type and the columns should be shoe_color.`\n",
    "\n",
    "`The values should be id, the column that actually represents the counts of each shoe_type/shoe_color combination.`\n",
    "\n",
    "##### 2. Display shoe_counts_pivot using print.\n",
    "\n"
   ]
  },
  {
   "cell_type": "code",
   "execution_count": null,
   "metadata": {},
   "outputs": [],
   "source": [
    "import codecademylib3\n",
    "import numpy as np\n",
    "import pandas as pd\n",
    "\n",
    "orders = pd.read_csv('orders.csv')\n",
    "\n",
    "shoe_counts = orders.groupby(['shoe_type', 'shoe_color']).id.count().reset_index()\n",
    "shoe_counts_pivot = shoe_counts.pivot(\n",
    "  columns = 'shoe_color',\n",
    "  index = 'shoe_type',\n",
    "  values = 'id').reset_index()\n",
    "\n",
    "  print(shoe_counts_pivot)"
   ]
  },
  {
   "cell_type": "markdown",
   "metadata": {},
   "source": [
    "# Review\n",
    "This lesson introduced you to aggregates in Pandas. You learned:\n",
    "\n",
    "How to perform aggregate statistics over individual rows with the same value using groupby.\n",
    "How to rearrange a DataFrame into a pivot table, a great way to compare data across two dimensions."
   ]
  },
  {
   "cell_type": "markdown",
   "metadata": {},
   "source": [
    "# Instructions\n",
    "##### 1. Let’s examine some more data from ShoeFly.com. This time, we’ll be looking at data about user visits to the website (the same dataset that you saw in the introduction to this lesson).\n",
    "\n",
    "The data is a DataFrame called user_visits. Use print and head() to examine the first few rows of the DataFrame.\n",
    "\n",
    "\n",
    "`Hint` <br>\n",
    "`Paste the following code into script.py:`"
   ]
  },
  {
   "cell_type": "code",
   "execution_count": null,
   "metadata": {},
   "outputs": [],
   "source": [
    "print(user_visits.head())"
   ]
  },
  {
   "cell_type": "markdown",
   "metadata": {},
   "source": [
    "##### 2. The column utm_source contains information about how users got to ShoeFly’s homepage. For instance, if utm_source = Facebook, then the user came to ShoeFly by clicking on an ad on Facebook.com.\n",
    "\n",
    "Use a groupby statement to calculate how many visits came from each of the different sources. Save your answer to the variable click_source.\n",
    "\n",
    "Remember to use reset_index()!\n",
    "\n",
    "\n",
    "`Hint` <br>\n",
    "`Remember that count is a good way to find out how many rows have the same value for a given column. You can apply count to any column and it will give the same result.`\n",
    "\n",
    "`For instance, if we were grouping by month and wanted to count visits per month, we could use:`"
   ]
  },
  {
   "cell_type": "markdown",
   "metadata": {},
   "source": []
  },
  {
   "cell_type": "code",
   "execution_count": null,
   "metadata": {},
   "outputs": [],
   "source": [
    "user_visits.groupby('month').id.count()\\\n",
    "           .reset_index()"
   ]
  },
  {
   "cell_type": "markdown",
   "metadata": {},
   "source": [
    "##### 3. Paste the following code into script.py so that you can see the results of your previous groupby:"
   ]
  },
  {
   "cell_type": "code",
   "execution_count": null,
   "metadata": {},
   "outputs": [],
   "source": [
    "print(click_source)\n"
   ]
  },
  {
   "cell_type": "markdown",
   "metadata": {},
   "source": [
    "##### 4. Our Marketing department thinks that the traffic to our site has been changing over the past few months. Use groupby to calculate the number of visits to our site from each utm_source for each month. Save your answer to the variable click_source_by_month.\n",
    "\n",
    "\n",
    "`Hint`\n",
    "`You’ll need to group by both month and utm_source.`\n",
    "\n",
    "##### 5. The head of Marketing is complaining that this table is hard to read. Use pivot to create a pivot table where the rows are utm_source and the columns are month. Save your results to the variable click_source_by_month_pivot.\n",
    "\n",
    "\n",
    "It should look something like this:"
   ]
  },
  {
   "cell_type": "markdown",
   "metadata": {},
   "source": [
    "utm_source|1 - January|2 - February|3 - March\n",
    "-|-|-|--\n",
    "email|…|…|…\n",
    "facebook|…|…|…\n",
    "google|…|…|…\n",
    "twitter|…|…|…\n",
    "yahoo|…|…|…"
   ]
  },
  {
   "cell_type": "markdown",
   "metadata": {},
   "source": [
    "##### 6. View your pivot table by pasting the following code into script.py:"
   ]
  },
  {
   "cell_type": "code",
   "execution_count": null,
   "metadata": {},
   "outputs": [],
   "source": [
    "print(click_source_by_month_pivot)"
   ]
  },
  {
   "cell_type": "code",
   "execution_count": null,
   "metadata": {},
   "outputs": [],
   "source": [
    "import codecademylib3\n",
    "import pandas as pd\n",
    "\n",
    "user_visits = pd.read_csv('page_visits.csv')\n",
    "\n",
    "# Part 1.\n",
    "print(user_visits.head(10))\n",
    "\n",
    "# Part 2.\n",
    "click_source = user_visits.groupby('utm_source').id.count().reset_index()\n",
    "\n",
    "#Part 3.\n",
    "print(click_source)\n",
    "\n",
    "#Part 4.\n",
    "click_source_by_month = user_visits.groupby(['utm_source', 'month']).id.count().reset_index()\n",
    "\n",
    "#print(click_source_by_month)\n",
    "\n",
    "#Part 5.\n",
    "click_source_by_month_pivot = click_source_by_month.pivot(\n",
    "\tcolumns = 'month',\n",
    "\tindex = 'utm_source',\n",
    "\tvalues = 'id').reset_index()\n",
    "\n",
    "#Part 6.\n",
    "print(click_source_by_month_pivot)\n"
   ]
  }
 ],
 "metadata": {
  "interpreter": {
   "hash": "126de395fc5ab05c9b404d5156ac230f2dc2d73638f7037ba66d30fa539ce6ef"
  },
  "kernelspec": {
   "display_name": "Python 3.10.1 64-bit",
   "language": "python",
   "name": "python3"
  },
  "language_info": {
   "codemirror_mode": {
    "name": "ipython",
    "version": 3
   },
   "file_extension": ".py",
   "mimetype": "text/x-python",
   "name": "python",
   "nbconvert_exporter": "python",
   "pygments_lexer": "ipython3",
   "version": "3.10.1"
  },
  "orig_nbformat": 4
 },
 "nbformat": 4,
 "nbformat_minor": 2
}
