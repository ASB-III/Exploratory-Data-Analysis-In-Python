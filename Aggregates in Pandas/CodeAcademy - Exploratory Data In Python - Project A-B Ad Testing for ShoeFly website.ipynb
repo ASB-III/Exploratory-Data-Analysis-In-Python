{
 "cells": [
  {
   "cell_type": "markdown",
   "metadata": {},
   "source": [
    "# EXPLORATORY DATA ANALYSIS IN PYTHON\n",
    "## A/B Testing for ShoeFly.com\n",
    "Our favorite online shoe store, ShoeFly.com is performing an A/B Test. They have two different versions of an ad, which they have placed in emails, as well as in banner ads on Facebook, Twitter, and Google. They want to know how the two ads are performing on each of the different platforms on each day of the week. Help them analyze the data using aggregate measures.\n",
    "\n",
    "If you get stuck during this project or would like to see an experienced developer work through it, click “Get Unstuck“ to see a project walkthrough video.\n",
    "\n",
    "## Tasks\n",
    "\n",
    "\n",
    "### Analyzing Ad Sources\n",
    "##### 1. Examine the first few rows of ad_clicks.\n",
    "\n",
    "\n",
    "`Hint` <br>\n",
    "`Try pasting the following code:`"
   ]
  },
  {
   "cell_type": "code",
   "execution_count": null,
   "metadata": {},
   "outputs": [],
   "source": [
    "print(ad_clicks.head())"
   ]
  },
  {
   "cell_type": "markdown",
   "metadata": {},
   "source": [
    "##### 2. Your manager wants to know which ad platform is getting you the most views.\n",
    "\n",
    "How many views (i.e., rows of the table) came from each utm_source?\n",
    "\n",
    "\n",
    "`Hint` <br>\n",
    "`Try using the following code:`"
   ]
  },
  {
   "cell_type": "code",
   "execution_count": null,
   "metadata": {},
   "outputs": [],
   "source": [
    "ad_clicks.groupby('utm_source')\\\n",
    "    .user_id.count()\\\n",
    "    .reset_index()"
   ]
  },
  {
   "cell_type": "markdown",
   "metadata": {},
   "source": [
    "##### 3. If the column ad_click_timestamp is not null, then someone actually clicked on the ad that was displayed.\n",
    "\n",
    "Create a new column called is_click, which is True if ad_click_timestamp is not null and False otherwise.\n",
    "\n",
    "\n",
    "`Hint` <br>\n",
    "`Try using the following code:`"
   ]
  },
  {
   "cell_type": "code",
   "execution_count": null,
   "metadata": {},
   "outputs": [],
   "source": [
    "ad_clicks['is_click'] = ~ad_clicks\\\n",
    "   .ad_click_timestamp.isnull()"
   ]
  },
  {
   "cell_type": "markdown",
   "metadata": {},
   "source": [
    "`The ~ is a NOT operator, and isnull() tests whether or not the value of ad_click_timestamp is null.`\n",
    "\n",
    "##### 4. We want to know the percent of people who clicked on ads from each utm_source.\n",
    "\n",
    "Start by grouping by utm_source and is_click and counting the number of user_id‘s in each of those groups. Save your answer to the variable clicks_by_source.\n",
    "\n",
    "\n",
    "`Hint` <br>\n",
    "`Try using the following code:`"
   ]
  },
  {
   "cell_type": "code",
   "execution_count": null,
   "metadata": {},
   "outputs": [],
   "source": [
    "clicks_by_source = ad_clicks\\\n",
    "   .groupby(['utm_source',\n",
    "             'is_click'])\\\n",
    "   .user_id.count()\\\n",
    "   .reset_index()"
   ]
  },
  {
   "cell_type": "markdown",
   "metadata": {},
   "source": [
    "##### 5. Now let’s pivot the data so that the columns are is_click (either True or False), the index is utm_source, and the values are user_id.\n",
    "\n",
    "Save your results to the variable clicks_pivot.\n",
    "\n",
    "\n",
    "`Hint` <br>\n",
    "`Try using the following code:`"
   ]
  },
  {
   "cell_type": "code",
   "execution_count": null,
   "metadata": {},
   "outputs": [],
   "source": [
    "clicks_pivot = clicks_by_source\\\n",
    "   .pivot(index='utm_source',\n",
    "          columns='is_click',\n",
    "          values='user_id')\\\n",
    "   .reset_index()"
   ]
  },
  {
   "cell_type": "markdown",
   "metadata": {},
   "source": [
    "##### 6. Create a new column in clicks_pivot called percent_clicked which is equal to the percent of users who clicked on the ad from each utm_source.\n",
    "\n",
    "Was there a difference in click rates for each source?\n",
    "\n",
    "\n",
    "`Hint` <br>\n",
    "`Try the following code:`"
   ]
  },
  {
   "cell_type": "code",
   "execution_count": null,
   "metadata": {},
   "outputs": [],
   "source": [
    "clicks_pivot['percent_clicked'] = \\\n",
    "   clicks_pivot[True] / \\\n",
    "   (clicks_pivot[True] + \n",
    "    clicks_pivot[False])"
   ]
  },
  {
   "cell_type": "markdown",
   "metadata": {},
   "source": [
    "`clicks_pivot[True] is the number of people who clicked (because is_click was True for those users)`\n",
    "\n",
    "`clicks_pivot[False] is the number of people who did not click (because is_click was False for those users)`\n",
    "\n",
    "`So, the percent of people who clicked would be (Total Who Clicked) / (Total Who Clicked + Total Who Did Not Click)`"
   ]
  },
  {
   "cell_type": "markdown",
   "metadata": {},
   "source": [
    "## Analyzing an A/B Test\n",
    "##### 7. The column experimental_group tells us whether the user was shown Ad A or Ad B.\n",
    "\n",
    "Were approximately the same number of people shown both ads?\n",
    "\n",
    "\n",
    "`Hint` <br>\n",
    "`We can group by experimental_group and count the number of users.`\n",
    "\n",
    "##### 8. Using the column is_click that we defined earlier, check to see if a greater percentage of users clicked on Ad A or Ad B.\n",
    "\n",
    "\n",
    "`Hint` <br>\n",
    "`Group by both experimental_group and is_click and count the number of user_id‘s.`\n",
    "\n",
    "`You might want to use a pivot table like we did for the utm_source exercises.`\n",
    "\n",
    "##### 9. The Product Manager for the A/B test thinks that the clicks might have changed by day of the week.\n",
    "\n",
    "Start by creating two DataFrames: a_clicks and b_clicks, which contain only the results for A group and B group, respectively.\n",
    "\n",
    "\n",
    "`Hint` <br>\n",
    "`To create a_clicks:`"
   ]
  },
  {
   "cell_type": "code",
   "execution_count": null,
   "metadata": {},
   "outputs": [],
   "source": [
    "a_clicks = ad_clicks[\n",
    "   ad_clicks.experimental_group\n",
    "   == 'A']"
   ]
  },
  {
   "cell_type": "markdown",
   "metadata": {},
   "source": [
    "##### 10. For each group (a_clicks and b_clicks), calculate the percent of users who clicked on the ad by day.\n",
    "\n",
    "\n",
    "`Hint` <br>\n",
    "`First, group by is_click and day. Next, pivot the data so that the columns are based on is_click. Finally, calculate the percent of people who clicked on the ad.`\n",
    "\n",
    "##### 11. Compare the results for A and B. What happened over the course of the week?\n",
    "\n",
    "Do you recommend that your company use Ad A or Ad B? A"
   ]
  },
  {
   "cell_type": "code",
   "execution_count": null,
   "metadata": {},
   "outputs": [],
   "source": [
    "import codecademylib3\n",
    "import pandas as pd\n",
    "\n",
    "ad_clicks = pd.read_csv('ad_clicks.csv')\n",
    "\n",
    "#task 1\n",
    "print(ad_clicks.head())\n",
    "\n",
    "#task 2\n",
    "most_views_by_platform = ad_clicks\\\n",
    "  .groupby('utm_source')\\\n",
    "  .user_id.count()\\\n",
    "  .reset_index()\n",
    "\n",
    "print(most_views_by_platform)\n",
    "\n",
    "#task 3\n",
    "# ~ will return False instead of True\n",
    "ad_clicks['is_click'] = ~ad_clicks\\\n",
    ".ad_click_timestamp.isnull()\n",
    "#print(ad_clicks.head())\n",
    "\n",
    "#task 4\n",
    "clicks_by_source_percentage = ad_clicks\\\n",
    "  .groupby(['utm_source',\n",
    "            'is_click'])\\\n",
    "  .user_id.count()\\\n",
    "  .reset_index()\n",
    "\n",
    "print(clicks_by_source_percentage)\n",
    "\n",
    "#task 5\n",
    "clicks_pivot = clicks_by_source_percentage\\\n",
    "  .pivot(index='utm_source',\n",
    "         columns='is_click',\n",
    "         values='user_id')\\\n",
    "  .reset_index()\n",
    "\n",
    "print(clicks_pivot)\n",
    "\n",
    "#task 6\n",
    "clicks_pivot['percent_clicked'] = \\\n",
    "clicks_pivot[True] / \\\n",
    "(clicks_pivot[True] + clicks_pivot[False])\n",
    "\n",
    "#task 7\n",
    "count_of_each_ad_shown = ad_clicks\\\n",
    ".groupby('experimental_group')\\\n",
    ".user_id\\\n",
    ".count()\\\n",
    ".reset_index()\n",
    "print(count_of_each_ad_shown)\n",
    "\n",
    "#Task 8\n",
    "print(ad_clicks\\\n",
    ".groupby(['experimental_group', 'is_click'])\\\n",
    ".user_id\\\n",
    ".count()\\\n",
    ".reset_index()\\\n",
    ".pivot(\n",
    "  index = 'experimental_group',\n",
    "  columns = 'is_click',\n",
    "  values = 'user_id'\n",
    "  )\\\n",
    ".reset_index()\n",
    ")\n",
    "\n",
    "#Task 9\n",
    "a_clicks = ad_clicks[ad_clicks.experimental_group == 'A']\n",
    "b_clicks = ad_clicks[ad_clicks.experimental_group == 'B']\n",
    "\n",
    "#task 10\n",
    "a_clicks_pivot = a_clicks\\\n",
    ".groupby(['is_click', 'day']).user_id\\\n",
    ".count()\\\n",
    ".reset_index()\\\n",
    ".pivot(\n",
    "  index = 'day',\n",
    "  columns = 'is_click',\n",
    "  values = 'user_id'\n",
    ")\\\n",
    ".reset_index()\n",
    "\n",
    "a_clicks_pivot['percent_clicked'] = a_clicks_pivot[True] / (a_clicks_pivot [True] + a_clicks_pivot[False])\n",
    "\n",
    "print(a_clicks_pivot)\n",
    "\n",
    "b_clicks_pivot = b_clicks\\\n",
    ".groupby(['is_click', 'day']).user_id\\\n",
    ".count()\\\n",
    ".reset_index()\\\n",
    ".pivot(\n",
    "  index = 'day',\n",
    "  columns = 'is_click',\n",
    "  values = 'user_id'\n",
    ")\\\n",
    ".reset_index()\n",
    "\n",
    "b_clicks_pivot['percent_clicked'] = b_clicks_pivot[True] / (b_clicks_pivot [True] + b_clicks_pivot[False])\n",
    "\n",
    "print(b_clicks_pivot)"
   ]
  }
 ],
 "metadata": {
  "interpreter": {
   "hash": "126de395fc5ab05c9b404d5156ac230f2dc2d73638f7037ba66d30fa539ce6ef"
  },
  "kernelspec": {
   "display_name": "Python 3.10.1 64-bit",
   "language": "python",
   "name": "python3"
  },
  "language_info": {
   "name": "python",
   "version": "3.10.1"
  },
  "orig_nbformat": 4
 },
 "nbformat": 4,
 "nbformat_minor": 2
}
