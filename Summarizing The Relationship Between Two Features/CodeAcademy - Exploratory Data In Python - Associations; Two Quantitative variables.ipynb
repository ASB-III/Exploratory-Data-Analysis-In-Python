{
 "cells": [
  {
   "cell_type": "markdown",
   "metadata": {},
   "source": [
    "# ASSOCIATIONS: TWO QUANTITATIVE VARIABLES\n",
    "## Introduction\n",
    "When associations exist between variables, it means that information about the value of one variable gives us information about the value of the other variable. In this lesson, we will cover ways of examining an association between two quantitative variables.\n",
    "\n",
    "\n",
    "Throughout the next few exercises, we’ll examine some data about Texas housing rentals on Craigslist — an online classifieds site. The data dictionary is as follows:\n",
    "\n",
    "\n",
    "- price: monthly rental price in U.S.D.\n",
    "- type: type of housing (eg., 'apartment', 'house', 'condo', etc.)\n",
    "- sqfeet: housing area, in square feet\n",
    "- beds: number of beds\n",
    "- baths: number of baths\n",
    "- lat: latitude\n",
    "- long: longitude\n",
    "\n",
    "\n",
    "Except for type, all of these variables are quantitative. Which pairs of variables do you think might be associated? For example, does knowing something about price give you any information about square footage?\n",
    "\n",
    "\n",
    "## Instructions\n",
    "##### 1. The dataset described above has been saved for you as a pandas dataframe named housing. Use the .head() method to print the first 10 rows and inspect some more of the data. What are some other quantitative variables that might be related to each other?\n",
    "\n",
    "\n",
    "`Hint` <br>\n",
    "`Use the .head() method as follows:`"
   ]
  },
  {
   "cell_type": "code",
   "execution_count": null,
   "metadata": {},
   "outputs": [],
   "source": [
    "housing.head(10)"
   ]
  },
  {
   "cell_type": "code",
   "execution_count": null,
   "metadata": {},
   "outputs": [],
   "source": [
    "import pandas as pd\n",
    "import codecademylib3\n",
    "\n",
    "\n",
    "housing = pd.read_csv('housing_sample.csv')\n",
    "\n",
    "#print the first 10 rows of data:]\n",
    "print(housing.head(10))"
   ]
  },
  {
   "cell_type": "markdown",
   "metadata": {},
   "source": [
    "# Scatter Plots\n",
    "One of the best ways to quickly visualize the relationship between quantitative variables is to plot them against each other in a scatter plot. This makes it easy to look for patterns or trends in the data. Let’s start by plotting the area of a rental against it’s monthly price to see if we can spot any patterns."
   ]
  },
  {
   "cell_type": "code",
   "execution_count": null,
   "metadata": {},
   "outputs": [],
   "source": [
    "plt.scatter(x = housing.price, y = housing.sqfeet)\n",
    "plt.xlabel('Rental Price (USD)')\n",
    "plt.ylabel('Area (Square Feet)')\n",
    "plt.show()"
   ]
  },
  {
   "cell_type": "markdown",
   "metadata": {},
   "source": [
    "![](https://static-assets.codecademy.com/Courses/Hypothesis-Testing/price_v_area.svg)"
   ]
  },
  {
   "cell_type": "markdown",
   "metadata": {},
   "source": [
    "While there’s a lot of variation in the data, it seems like more expensive housing tends to come with slightly more space. This suggests an association between these two variables.\n",
    "\n",
    "It’s important to note that different kinds of associations can lead to different patterns in a scatter plot. For example, the following plot shows the relationship between the age of a child in months and their weight in pounds. We can see that older children tend to weigh more but that the growth rate starts leveling off after 36 months:"
   ]
  },
  {
   "cell_type": "markdown",
   "metadata": {},
   "source": [
    "![](https://static-assets.codecademy.com/Courses/Hypothesis-Testing/weightvage.svg)"
   ]
  },
  {
   "cell_type": "markdown",
   "metadata": {},
   "source": [
    "If we don’t see any patterns in a scatter plot, we can probably guess that the variables are not associated. For example, a scatter plot like this would suggest no association:"
   ]
  },
  {
   "cell_type": "markdown",
   "metadata": {},
   "source": [
    "![](https://static-assets.codecademy.com/Courses/Hypothesis-Testing/no_association.svg)"
   ]
  },
  {
   "cell_type": "markdown",
   "metadata": {},
   "source": [
    "## Instructions\n",
    "##### 1. The housing data has been saved for you as a dataframe named housing in script.py. Create a scatter plot to see if there is an association between the area (sqfeet) of a rental and the number of bedrooms (beds). Do you think these variables are associated? If so, is the relationship what you expected?\n",
    "\n",
    "`Hint` <br>\n",
    "`Fill in the following code:`"
   ]
  },
  {
   "cell_type": "code",
   "execution_count": null,
   "metadata": {},
   "outputs": [],
   "source": [
    "plt.scatter(x = housing.beds, y = housing.___)\n",
    "plt.xlabel('Number of beds')\n",
    "plt.ylabel('Number of sqfeet')\n",
    "plt.show()"
   ]
  },
  {
   "cell_type": "code",
   "execution_count": null,
   "metadata": {},
   "outputs": [],
   "source": [
    "import pandas as pd\n",
    "import matplotlib.pyplot as plt \n",
    "import codecademylib3\n",
    "\n",
    "housing = pd.read_csv('housing_sample.csv')\n",
    "\n",
    "print(housing.head())\n",
    "\n",
    "#create your scatter plot here:\n",
    "plt.scatter(housing.beds, housing.sqfeet)\n",
    "plt.xlabel('Number of Beds')\n",
    "plt.ylabel('Area (Square Feet)')\n",
    "plt.show()"
   ]
  },
  {
   "cell_type": "markdown",
   "metadata": {},
   "source": [
    "# Exploring Covariance\n",
    "Beyond visualizing relationships, we can also use summary statistics to quantify the strength of certain associations. Covariance is a summary statistic that describes the strength of a linear relationship. A linear relationship is one where a straight line would best describe the pattern of points in a scatter plot.\n",
    "\n",
    "Covariance can range from negative infinity to positive infinity. A positive covariance indicates that a larger value of one variable is associated with a larger value of the other. A negative covariance indicates a larger value of one variable is associated with a smaller value of the other. A covariance of 0 indicates no linear relationship. Here are some examples:"
   ]
  },
  {
   "cell_type": "markdown",
   "metadata": {},
   "source": [
    "![](https://static-assets.codecademy.com/Courses/Hypothesis-Testing/covariance_fig2.svg)"
   ]
  },
  {
   "cell_type": "markdown",
   "metadata": {},
   "source": [
    "To calculate covariance, we can use the cov() function from NumPy, which produces a covariance matrix for two or more variables. A covariance matrix for two variables looks something like this:"
   ]
  },
  {
   "cell_type": "markdown",
   "metadata": {},
   "source": [
    "---|variable 1|variable 2\n",
    "---|---|---\n",
    "variable 1|variance(variable 1)|covariance\n",
    "variable 2|covariance|variance(variable 2)"
   ]
  },
  {
   "cell_type": "markdown",
   "metadata": {},
   "source": [
    "In python, we can calculate this matrix as follows:"
   ]
  },
  {
   "cell_type": "code",
   "execution_count": null,
   "metadata": {},
   "outputs": [],
   "source": [
    "cov_mat_price_sqfeet = np.cov(housing.price, housing.sqfeet)\n",
    "print(cov_mat_price_sqfeet)\n",
    "#output: \n",
    "[[184332.9  57336.2]\n",
    " [ 57336.2 122045.2]]"
   ]
  },
  {
   "cell_type": "markdown",
   "metadata": {},
   "source": [
    "Notice that the covariance appears twice in this matrix and is equal to 57336.2."
   ]
  },
  {
   "cell_type": "markdown",
   "metadata": {},
   "source": [
    "## Instructions\n",
    "##### 1. Use the cov() function from NumPy to calculate the covariance matrix for the sqfeet variable and the beds variable. Save the covariance matrix as cov_mat_sqfeet_beds and print it out.\n",
    "\n",
    "\n",
    "`Hint` <br>\n",
    "`Use the np.cov() function to calculate the covariance. Pass in the dataframe columns, housing.sqfeet and housing.beds. Save the result as cov_mat_sqfeet_beds.`\n",
    "\n",
    "##### 2. Print out the value stored in the variable cov_mat_sqfeet_beds.\n",
    "\n",
    "\n",
    "`Hint` <br>\n",
    "`Use the print() to print the value stored in the variable.`\n",
    "\n",
    "##### 3. Look at the covariance matrix you just printed and find the covariance of sqfeet and beds. Save that number as a variable named cov_sqfeet_beds.\n",
    "\n",
    "\n",
    "`Hint` <br>\n",
    "`Hint: Remember that the covariance matrix can be read as follows:`\n",
    "\n",
    "---|variable 1|variable 2\n",
    "---|---|---\n",
    "variable 1|variance(variable 1)|covariance\n",
    "variable 2|covariance|variance(variable 2)"
   ]
  },
  {
   "cell_type": "code",
   "execution_count": null,
   "metadata": {},
   "outputs": [],
   "source": [
    "import numpy as np\n",
    "import pandas as pd\n",
    "np.set_printoptions(suppress=True, precision = 1) \n",
    "\n",
    "housing = pd.read_csv('housing_sample.csv')\n",
    "\n",
    "# calculate and print covariance matrix:\n",
    "cov_mat_sqfeet_beds = np.cov(housing.beds, housing.sqfeet)\n",
    "print(cov_mat_sqfeet_beds)\n",
    "\n",
    "# store the covariance as cov_sqfeet_beds\n",
    "cov_sqfeet_beds = 228.2"
   ]
  },
  {
   "cell_type": "markdown",
   "metadata": {},
   "source": [
    "# Correlation- Part 1\n",
    "\n",
    "\n",
    "Like covariance, Pearson Correlation (often referred to simply as “correlation”) is a scaled form of covariance. It also measures the strength of a linear relationship, but ranges from -1 to +1, making it more interpretable.\n",
    "\n",
    "\n",
    "Highly associated variables with a positive linear relationship will have a correlation close to 1. Highly associated variables with a negative linear relationship will have a correlation close to -1. Variables that do not have a linear association (or a linear association with a slope of zero) will have correlations close to 0."
   ]
  },
  {
   "cell_type": "markdown",
   "metadata": {},
   "source": [
    "![](https://static-assets.codecademy.com/Courses/Hypothesis-Testing/correlation_fig_1-3.svg)"
   ]
  },
  {
   "cell_type": "markdown",
   "metadata": {},
   "source": [
    "The pearsonr() function from scipy.stats can be used to calculate correlation as follows:"
   ]
  },
  {
   "cell_type": "code",
   "execution_count": null,
   "metadata": {},
   "outputs": [],
   "source": [
    "from scipy.stats import pearsonr\n",
    "corr_price_sqfeet, p = pearsonr(housing.price, housing.sqfeet)\n",
    "print(corr_price_sqfeet) #output: 0.507"
   ]
  },
  {
   "cell_type": "markdown",
   "metadata": {},
   "source": [
    "Generally, a correlation larger than about .3 indicates a linear association. A correlation greater than about .6 suggestions a strong linear association."
   ]
  },
  {
   "cell_type": "markdown",
   "metadata": {},
   "source": [
    "## Instructions\n",
    "##### 1. Use the pearsonr function from scipy.stats to calculate the correlation between sqfeet and beds. Store the result in a variable named corr_sqfeet_beds and print out the result. How strong is the linear association between these variables?\n",
    "\n",
    "\n",
    "`Hint` <br>\n",
    "`Fill in the following code`"
   ]
  },
  {
   "cell_type": "code",
   "execution_count": null,
   "metadata": {},
   "outputs": [],
   "source": [
    "corr_sqfeet_beds, p = pearsonr(housing.sqfeet, ___)\n",
    "print(corr_sqfeet_beds)"
   ]
  },
  {
   "cell_type": "markdown",
   "metadata": {},
   "source": [
    "##### 2. Generate a scatter plot of sqfeet and beds again. Does the correlation value make sense?\n",
    "\n",
    "\n",
    "`Hint`\n",
    "`Fill in the following code:`"
   ]
  },
  {
   "cell_type": "code",
   "execution_count": null,
   "metadata": {},
   "outputs": [],
   "source": [
    "plt.xlabel('Number of beds')\n",
    "plt.ylabel('Number of sqfeet')\n",
    "plt.scatter(x = housing.beds, y = housing.___)\n",
    "plt.show()"
   ]
  },
  {
   "cell_type": "code",
   "execution_count": null,
   "metadata": {},
   "outputs": [],
   "source": [
    "import pandas as pd\n",
    "import matplotlib.pyplot as plt \n",
    "import codecademylib3\n",
    "from scipy.stats import pearsonr\n",
    "\n",
    "housing = pd.read_csv('housing_sample.csv')\n",
    "\n",
    "# calculate corr_sqfeet_beds and print it out:\n",
    "corr_sqfeet_beds, p = pearsonr(housing.sqfeet, housing.beds)\n",
    "print(corr_sqfeet_beds)\n",
    "\n",
    "# create the scatter plot here:\n",
    "plt.scatter(housing.beds, housing.sqfeet)\n",
    "plt.xlabel('Number of Beds')\n",
    "plt.ylabel('Area (Square Feet)')\n",
    "plt.show()"
   ]
  },
  {
   "cell_type": "markdown",
   "metadata": {},
   "source": [
    "# Correlation Part 2\n",
    "It’s important to note that there are some limitations to using correlation or covariance as a way of assessing whether there is an association between two variables. Because correlation and covariance both measure the strength of linear relationships with non-zero slopes, but not other kinds of relationships, correlation can be misleading.\n",
    "\n",
    "For example, the four scatter plots below all show pairs of variables with near-zero correlations. The bottom left image shows an example of a perfect linear association where the slope is zero (the line is horizontal). Meanwhile, the other three plots show non-linear relationships — if we drew a line through any of these sets of points, that line would need to be curved, not straight!\n",
    "\n",
    "![](https://static-assets.codecademy.com/Courses/Hypothesis-Testing/correlation_fig_2.svg)"
   ]
  },
  {
   "cell_type": "markdown",
   "metadata": {},
   "source": [
    "Instructions\n",
    "1.\n",
    "A simulated dataset named sleep has been loaded for you in script.py. The hypothetical data contains two columns:\n",
    "\n",
    "hours_sleep: the number of hours that a person slept\n",
    "performance: that person’s performance score on a physical task the next day\n",
    "Create a scatter plot of hours_sleep (on the x-axis) and performance (on the y-axis). What is the relationship between these variables?\n",
    "\n",
    "\n",
    "`Hint` <br>\n",
    "`Fill in the following code:`"
   ]
  },
  {
   "cell_type": "code",
   "execution_count": null,
   "metadata": {},
   "outputs": [],
   "source": [
    "plt.scatter(sleep.___, sleep.___)"
   ]
  },
  {
   "cell_type": "markdown",
   "metadata": {},
   "source": [
    "`More sleep appears to be associated with higher performance, up to about eight hours, after which more sleep is associated with poorer performance.`\n",
    "\n",
    "##### 2. Calculate the correlation for hours_sleep and performance and save the result as corr_sleep_performance. Then, print out corr_sleep_performance. Does the correlation accurately reflect the strength of the relationship between these variables?\n",
    "\n",
    "\n",
    "`Hint` <br>\n",
    "`The correlation is only 0.28 (a relatively small correlation), even though the variables seem to be clearly associated (there is a very clear pattern in the scatter plot).`"
   ]
  },
  {
   "cell_type": "code",
   "execution_count": null,
   "metadata": {},
   "outputs": [],
   "source": [
    "import pandas as pd\n",
    "import matplotlib.pyplot as plt \n",
    "import codecademylib3\n",
    "from scipy.stats import pearsonr\n",
    "\n",
    "sleep = pd.read_csv('sleep_performance.csv')\n",
    "\n",
    "# create your scatter plot here:\n",
    "plt.scatter(sleep.hours_sleep, sleep.performance)\n",
    "plt.xlabel('Number of Beds')\n",
    "plt.ylabel('Area (Square Feet)')\n",
    "plt.show()\n",
    "\n",
    "# calculate the correlation for `hours_sleep` and `performance`:\n",
    "corr_sleep_performance, p = pearsonr(sleep.hours_sleep, sleep.performance)\n",
    "print(corr_sleep_performance)"
   ]
  },
  {
   "cell_type": "markdown",
   "metadata": {},
   "source": [
    "# Review\n",
    "In this lesson we discussed several ways of examining an association between two quantitative variables. More specifically, we:\n",
    "\n",
    "- Used scatter plots to examine relationships between quantitative variables\n",
    "- Used covariance and correlation to quantify the strength of a linear relationship between two quantitative variables\n",
    "Note that the dataset used in this lesson was downloaded from kaggle.\n",
    "\n",
    "Instructions\n",
    "As a final exercise, a new dataset named penguins has been uploaded for you in script.py. This dataset contains various measurements for a sample of penguins. To practice the skills learned in this lesson, here are some things to try:\n",
    "\n",
    "- Inspect the first few rows of data.\n",
    "- Create a scatter plot of flipper length (flipper_length_mm) and body mass (body_mass_g).\n",
    "- Inspect your plot. What is the relationship between these variables?\n",
    "- Calculate the covariance for these two variables.\n",
    "- Calculate the correlation for these two variables. Does this number make sense given the plot you created?\n",
    "Solution code is available to you in solution.py if you want to compare your work."
   ]
  },
  {
   "cell_type": "code",
   "execution_count": null,
   "metadata": {},
   "outputs": [],
   "source": [
    "import numpy as np\n",
    "import pandas as pd\n",
    "import matplotlib.pyplot as plt \n",
    "import seaborn as sns\n",
    "import codecademylib3\n",
    "from scipy.stats import pearsonr\n",
    "np.set_printoptions(suppress=True, precision = 1) \n",
    "\n",
    "penguins = pd.read_csv('penguins.csv')\n",
    "\n",
    "#print the first few rows\n",
    "print(penguins.head())\n",
    "\n",
    "#create a scatter plot\n",
    "plt.scatter(penguins.flipper_length_mm, penguins.body_mass_g)\n",
    "plt.show()\n",
    "\n",
    "#calculate covariance:\n",
    "covariance_mat = np.cov(penguins.flipper_length_mm, penguins.body_mass_g)\n",
    "print(\"covariance matrix: \")\n",
    "print(covariance_mat)\n",
    "\n",
    "print(\"covariance: \", covariance_mat[1][0])\n",
    "\n",
    "#calculate correlation:\n",
    "correlation, p = pearsonr(penguins.flipper_length_mm, penguins.body_mass_g)\n",
    "print(\"correlation: \", correlation)"
   ]
  }
 ],
 "metadata": {
  "interpreter": {
   "hash": "126de395fc5ab05c9b404d5156ac230f2dc2d73638f7037ba66d30fa539ce6ef"
  },
  "kernelspec": {
   "display_name": "Python 3.10.1 64-bit",
   "language": "python",
   "name": "python3"
  },
  "language_info": {
   "codemirror_mode": {
    "name": "ipython",
    "version": 3
   },
   "file_extension": ".py",
   "mimetype": "text/x-python",
   "name": "python",
   "nbconvert_exporter": "python",
   "pygments_lexer": "ipython3",
   "version": "3.10.1"
  },
  "orig_nbformat": 4
 },
 "nbformat": 4,
 "nbformat_minor": 2
}
