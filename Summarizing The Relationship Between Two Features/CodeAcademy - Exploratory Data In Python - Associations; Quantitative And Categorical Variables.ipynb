{
 "cells": [
  {
   "cell_type": "markdown",
   "metadata": {},
   "source": [
    "# ASSOCIATIONS: QUANTITATIVE AND CATEGORICAL VARIABLES\n",
    "## Introduction\n",
    "Examining the relationship between variables can give us key insight into our data. In this lesson, we will cover ways of assessing the association between a quantitative variable and a categorical variable.\n",
    "\n",
    "\n",
    "In the next few exercises, we’ll explore a dataset that contains the following information about students at two portuguese schools:\n",
    "\n",
    "\n",
    "- school: the school each student attends, Gabriel Periera ('GP') or Mousinho da Silveria ('MS')\n",
    "- address: the location of the student’s home ('U' for urban and 'R' for rural)\n",
    "- absences: the number of times the student was absent during the school year\n",
    "- Mjob: the student’s mother’s job industry\n",
    "- Fjob: the student’s father’s job industry\n",
    "- G3: the student’s score on a math assessment, ranging from 0 to 20\n",
    "\n",
    "\n",
    "Suppose we want to know: Is a student’s score (G3) associated with their school (school)? If so, then knowing what - school a student attends gives us information about what their score is likely to be. For example, maybe students at one of the schools consistently score higher than students at the other school.\n",
    "\n",
    "\n",
    "To start answering this question, it is useful to save scores from each school in two separate lists:"
   ]
  },
  {
   "cell_type": "code",
   "execution_count": null,
   "metadata": {},
   "outputs": [],
   "source": [
    "scores_GP = students.G3[students.school == 'GP']\n",
    "scores_MS = students.G3[students.school == 'MS']"
   ]
  },
  {
   "cell_type": "markdown",
   "metadata": {},
   "source": [
    "## Instructions\n",
    "##### 1. The dataset described above has been saved for you in the workspace as a Pandas dataframe named students. Inspect the first five rows of students using the .head() method. Take a look at the other columns. Which are categorical and which are quantitative?\n",
    "\n",
    "\n",
    "`Hint` <br>\n",
    "`Fill in the following code:`"
   ]
  },
  {
   "cell_type": "code",
   "execution_count": null,
   "metadata": {},
   "outputs": [],
   "source": [
    "print(___.head())"
   ]
  },
  {
   "cell_type": "markdown",
   "metadata": {},
   "source": [
    "##### 2. Suppose that we want to know whether there is an association between student math scores (G3) and the student’s address (urban or rural). Separate out G3 scores into two separate lists: one for students who live in an urban location ('U') and one for students who live in a rural location ('R'). Name these lists scores_urban and scores_rural.\n",
    "\n",
    "\n",
    "`Hint` <br>\n",
    "`Create a list of absences for students with internet service and a list of student absences for students without internet service.`\n",
    "\n",
    "`Fill in the following code:`"
   ]
  },
  {
   "cell_type": "code",
   "execution_count": null,
   "metadata": {},
   "outputs": [],
   "source": [
    "scores_urban = students.G3[students.address == 'U']\n",
    "scores_rural = ___"
   ]
  },
  {
   "cell_type": "code",
   "execution_count": null,
   "metadata": {},
   "outputs": [],
   "source": [
    "import numpy as np\n",
    "import pandas as pd\n",
    "import codecademylib3\n",
    "\n",
    "students = pd.read_csv('students.csv')\n",
    "\n",
    "#print the first five rows of students:\n",
    "print(students.head())\n",
    "\n",
    "#separate out scores for students who live in urban and rural locations:\n",
    "scores_urban = students.G3[students.address == 'U']\n",
    "scores_rural = students.G3[students.address == 'R']"
   ]
  },
  {
   "cell_type": "markdown",
   "metadata": {},
   "source": [
    "Mean and Median Differences\n",
    "Recall that in the last exercise, we began investigating whether or not there is an association between math scores and the school a student attends. We can begin quantifying this association by using two common summary statistics, mean and median differences. To calculate the difference in mean G3 scores for the two schools, we can start by finding the mean math score for students at each school. We can then find the difference between them:"
   ]
  },
  {
   "cell_type": "code",
   "execution_count": null,
   "metadata": {},
   "outputs": [],
   "source": [
    "mean_GP = np.mean(scores_GP)\n",
    "mean_MS = np.mean(scores_MS)\n",
    "print(mean_GP) #output: 10.49\n",
    "print(mean_MS) #output: 9.85\n",
    "print(mean_GP - mean_MS) #Output: 0.64"
   ]
  },
  {
   "cell_type": "markdown",
   "metadata": {},
   "source": [
    "We see that the mean math score for students at GP is 10.49, while the mean score for students at MS is 9.85. The mean difference is 0.64. We can follow a similar process to calculate a median difference:"
   ]
  },
  {
   "cell_type": "code",
   "execution_count": null,
   "metadata": {},
   "outputs": [],
   "source": [
    "median_GP = np.median(scores_GP)\n",
    "median_MS = np.median(scores_MS)\n",
    "print(median_GP) #Output: 11.0\n",
    "print(median_MS) #Output: 10.0\n",
    "print(median_GP-median_MS) #Output: 1.0"
   ]
  },
  {
   "cell_type": "markdown",
   "metadata": {},
   "source": [
    "GP students also have a higher median score, by one point. Highly associated variables tend to have a large mean or median difference. Since “large” could have different meanings depending on the variable, we will go into more detail in the next exercise."
   ]
  },
  {
   "cell_type": "markdown",
   "metadata": {},
   "source": [
    "## Instructions\n",
    "##### 1. Your lists from the previous exercise (scores_urban and scores_rural) have been created for you in script.py. Use these lists to calculate the mean score for both groups. Store the results as scores_urban_mean and scores_rural_mean, respectively.\n",
    "\n",
    "`Hint` <br>\n",
    "`Use the np.mean() function to calculate the mean score for each group. For example, we can calculate the mean score for students living in an urban location as follows:`"
   ]
  },
  {
   "cell_type": "code",
   "execution_count": null,
   "metadata": {},
   "outputs": [],
   "source": [
    "scores_urban_mean = np.mean(scores_urban)"
   ]
  },
  {
   "cell_type": "markdown",
   "metadata": {},
   "source": [
    "##### 2. Calculate the mean difference between the two groups and save the result as mean_diff. Based on this number, do you think the variables are associated? Why or why not?\n",
    "\n",
    "\n",
    "`Hint`\n",
    "`Subtract one mean from the other and save the results as mean_diff. It doesn’t matter what order you subtract in, but if you subtract a the larger mean from the smaller mean, note that you’ll see a negative number. When investigating an association, we only care about the magnitude of this difference (how big the number is in absolute value), rather than the sign (eg., a mean difference of -4 is a bigger difference than -3).`\n",
    "\n",
    "##### 3. Use the lists to calculate the median score for both groups. Store the results as scores_urban_median, scores_rural_median, respectively. Print out the result of each variable.\n",
    "\n",
    "\n",
    "`Hint` <br>\n",
    "`Use the np.median() function to calculate the median.`\n",
    "\n",
    "##### 4. Calculate the median difference between the two groups, save the result as median_diff. Based on this value, do you think the variables are associated? Why or why not?"
   ]
  },
  {
   "cell_type": "code",
   "execution_count": null,
   "metadata": {},
   "outputs": [],
   "source": [
    "import numpy as np\n",
    "import pandas as pd\n",
    "students = pd.read_csv('students.csv')\n",
    "\n",
    "scores_urban = students.G3[students.address == 'U']\n",
    "scores_rural = students.G3[students.address == 'R']\n",
    "\n",
    "#calculate means for each group:\n",
    "scores_urban_mean = np.mean(scores_urban)\n",
    "scores_rural_mean = np.mean(scores_rural)\n",
    "\n",
    "#print mean scores:\n",
    "print('Mean score - students w/ urban address:')\n",
    "print(scores_urban_mean)\n",
    "print('Mean score - students w/ rural address:')\n",
    "print(scores_rural_mean)\n",
    "\n",
    "#calculate mean difference:\n",
    "mean_diff = scores_urban_mean - scores_rural_mean\n",
    "\n",
    "#print mean difference\n",
    "print('Mean difference:')\n",
    "print(mean_diff)\n",
    "\n",
    "#calculate medians for each group:\n",
    "scores_urban_median = np.median(scores_urban)\n",
    "scores_rural_median = np.median(scores_rural)\n",
    "\n",
    "#print median scores\n",
    "print('Median score - students w/ urban address:')\n",
    "print(scores_urban_median)\n",
    "print('Median score - students w/ rural address:')\n",
    "print(scores_rural_median)\n",
    "\n",
    "#calculate median difference\n",
    "median_diff = scores_urban_median - scores_rural_median\n",
    "\n",
    "#print median difference\n",
    "print('Median difference:')\n",
    "print(median_diff)\n"
   ]
  },
  {
   "cell_type": "markdown",
   "metadata": {},
   "source": [
    "# Side-by-Side Box Plots\n",
    "The difference in mean math scores for students at GP and MS was 0.64. How do we know whether this difference is considered small or large? To answer this question, we need to know something about the spread of the data.\n",
    "\n",
    "One way to get a better sense of spread is by looking at a visual representation of the data. Side-by-side box plots are useful in visualizing mean and median differences because they allow us to visually estimate the variation in the data. This can help us determine if mean or median differences are “large” or “small”.\n",
    "\n",
    "Let’s take a look at side by side boxplots of math scores at each school:"
   ]
  },
  {
   "cell_type": "code",
   "execution_count": null,
   "metadata": {},
   "outputs": [],
   "source": [
    "sns.boxplot(data = df, x = 'school', y = 'G3')\n",
    "plt.show()"
   ]
  },
  {
   "cell_type": "markdown",
   "metadata": {},
   "source": [
    "![](https://static-assets.codecademy.com/Courses/Hypothesis-Testing/school_boxplots.svg)"
   ]
  },
  {
   "cell_type": "markdown",
   "metadata": {},
   "source": [
    "Looking at the plot, we can clearly see that there is a lot of overlap between the boxes (i.e. the middle 50% of the data). Therefore, we can be more confident that there is not much difference between the math scores of the two groups.\n",
    "\n",
    "In contrast, suppose we saw the following plot:"
   ]
  },
  {
   "cell_type": "markdown",
   "metadata": {},
   "source": [
    "![](https://static-assets.codecademy.com/Courses/Hypothesis-Testing/fake_school_boxplots.svg)"
   ]
  },
  {
   "cell_type": "markdown",
   "metadata": {},
   "source": [
    "In this version, the boxes barely overlap, demonstrating that the middle 50% of scores are different for the two schools. This would be evidence of a stronger association between school and math score.\n",
    "\n",
    "## Instructions\n",
    "##### 1. Generate side-by-side boxplots for student scores (G3) by address. Is there any overlap between the boxes? Do you think the variables are associated?\n",
    "\n",
    "\n",
    "`Hint` <br>\n",
    "`Use the boxplot function from Seaborn (sns) to generate the side-by-side box plots. Set data equal to the name of the dataset (students), x equal to the column name of your categorical variable (address), and y equal to your quantitative variable (G3).`"
   ]
  },
  {
   "cell_type": "code",
   "execution_count": null,
   "metadata": {},
   "outputs": [],
   "source": [
    "import pandas as pd\n",
    "import codecademylib3\n",
    "import matplotlib.pyplot as plt \n",
    "import seaborn as sns\n",
    "\n",
    "students = pd.read_csv('students.csv')\n",
    "\n",
    "#create the boxplot here:\n",
    "sns.boxplot(data = students, x = 'address', y = 'G3')\n",
    "plt.show()"
   ]
  },
  {
   "cell_type": "markdown",
   "metadata": {},
   "source": [
    "# Inspecting Overlapping Histograms\n",
    "Another way to explore the relationship between a quantitative and categorical variable in more detail is by inspecting overlapping histograms. In the code below, setting alpha = .5 ensures that the histograms are see-through enough that we can see both of them at once. We have also used normed=True make sure that the y-axis is a density rather than a frequency (note: the newest version of matplotlib renamed this parameter density instead of normed):"
   ]
  },
  {
   "cell_type": "code",
   "execution_count": null,
   "metadata": {},
   "outputs": [],
   "source": [
    "plt.hist(scores_GP , color=\"blue\", label=\"GP\", normed=True, alpha=0.5)\n",
    "plt.hist(scores_MS , color=\"red\", label=\"MS\", normed=True, alpha=0.5)\n",
    "plt.legend()\n",
    "plt.show()"
   ]
  },
  {
   "cell_type": "markdown",
   "metadata": {},
   "source": [
    "![](https://static-assets.codecademy.com/Courses/Hypothesis-Testing/overlapping_dens.svg)"
   ]
  },
  {
   "cell_type": "markdown",
   "metadata": {},
   "source": [
    "By inspecting this histogram, we can clearly see that the entire distribution of scores at GP (not just the mean or median) appears slightly shifted to the right (higher) compared to the scores at MS. However, there is also still a lot of overlap between the scores, suggesting that the association is relatively weak.\n",
    "\n",
    "Note that there are only 46 students at MS, but there are 349 students at GP. If we hadn’t used normed = True, our histogram would have looked like this, making it impossible to compare the distributions fairly:"
   ]
  },
  {
   "cell_type": "markdown",
   "metadata": {},
   "source": [
    "![](https://static-assets.codecademy.com/Courses/Hypothesis-Testing/overlapping_freq.svg)"
   ]
  },
  {
   "cell_type": "markdown",
   "metadata": {},
   "source": [
    "While overlapping histograms and side by side boxplots can convey similar information, histograms give us more detail and can be useful in spotting patterns that were not visible in a box plot (eg., a bimodal distribution). For example, the following set of box plots and overlapping histograms illustrate the same hypothetical data:"
   ]
  },
  {
   "cell_type": "markdown",
   "metadata": {},
   "source": [
    "![](https://static-assets.codecademy.com/Courses/Hypothesis-Testing/fake_school_boxplots_and_hist.svg)"
   ]
  },
  {
   "cell_type": "markdown",
   "metadata": {},
   "source": [
    "While the box plots and means/medians appear similar, the overlapping histograms illuminate the differences between these two distributions of scores.\n",
    "\n",
    "## Instructions\n",
    "##### 1. Your lists from the previous exercise (scores_urban and scores_rural) have been created for you in script.py. Use them to create an overlaid histogram of scores for students who live in urban and rural locations.\n",
    "\n",
    "Remember to use different colors for each histogram, set normed = True, alpha = 0.5, and use the labels 'Urban' and 'Rural', respectively.\n",
    "\n",
    "Based on the overlaid histogram, do you think there is an association between these two variables?\n",
    "\n",
    "\n",
    "`Hint` <br>\n",
    "`Use the matplotlib.pyplot function hist to create each histogram.`\n",
    "\n",
    "`Fill in the following code:`"
   ]
  },
  {
   "cell_type": "code",
   "execution_count": null,
   "metadata": {},
   "outputs": [],
   "source": [
    "plt.hist(scores_urban, color=\"blue\", label=\"Urban\", normed=___, alpha=0.5)\n",
    "plt.hist(___, color=\"red\", label=\"Rural\", normed=True, alpha=___)\n",
    "plt.legend()\n",
    "plt.show()"
   ]
  },
  {
   "cell_type": "code",
   "execution_count": null,
   "metadata": {},
   "outputs": [],
   "source": [
    "import numpy as np\n",
    "import pandas as pd\n",
    "import codecademylib3\n",
    "import matplotlib.pyplot as plt \n",
    "students = pd.read_csv('students.csv')\n",
    "\n",
    "scores_urban = students.G3[students.address == 'U']\n",
    "scores_rural = students.G3[students.address == 'R']\n",
    "\n",
    "#create the overlapping histograms here:\n",
    "plt.hist(scores_urban, color = 'blue', label = 'Urban', normed = True, alpha = 0.5)\n",
    "plt.hist(scores_rural, color = 'red', label = 'Rural', normed = True, alpha = 0.5)\n",
    "plt.legend()\n",
    "plt.show()"
   ]
  },
  {
   "cell_type": "markdown",
   "metadata": {},
   "source": [
    "Exploring Non-Binary Categorical Variables\n",
    "In each of the previous exercises, we assessed whether there was an association between a quantitative variable (math scores) and a BINARY categorical variable (school). The categorical variable is considered binary because there are only two available options, either MS or GP. However, sometimes we are interested in an association between a quantitative variable and non-binary categorical variable. Non-binary categorical variables have more than two categories.\n",
    "\n",
    "When looking at an association between a quantitative variable and a non-binary categorical variable, we must examine all pair-wise differences. For example, suppose we want to know whether or not an association exists between math scores (G3) and (Mjob), a categorical variable representing the mother’s job. This variable has five possible categories: at_home, health, services, teacher, or other. There are actually 10 different comparisons that we can make. For example, we can compare scores for students whose mothers work at_home or in health; at_home or other; at home or `services; etc.. The easiest way to quickly visualize these comparisons is with side-by-side box plots:"
   ]
  },
  {
   "cell_type": "code",
   "execution_count": null,
   "metadata": {},
   "outputs": [],
   "source": [
    "sns.boxplot(data = df, x = 'Mjob', y = 'G3')\n",
    "plt.show()"
   ]
  },
  {
   "cell_type": "markdown",
   "metadata": {},
   "source": [
    "![](https://static-assets.codecademy.com/Courses/Hypothesis-Testing/mjob_box_plots.svg)"
   ]
  },
  {
   "cell_type": "markdown",
   "metadata": {},
   "source": [
    "Visually, we need to compare each box to every other box. While most of these boxes overlap with each other, there are some pairs for which there are some apparent differences. For example, scores appear to be higher among students with mothers working in health than among students with mothers working at home or in an “other” job. If there are ANY pairwise differences, we can say that the variables are associated; however, it is more useful to specifically report which groups are different.\n",
    "\n",
    "## Instructions\n",
    "##### 1. Create a side-by-side boxplot to assess whether there is an association between students’ math score (G3) and their fathers’ job (Fjob). Do you think there is an association between these variables? For which pairs of groups do you see differences?\n",
    "\n",
    "\n",
    "`Hint` <br>\n",
    "`Use the boxplot function in Seaborn (sns) to create the side-by-side boxplot. Set data equal to the name of the dataset (students), x equal to the categorical variable ('Fjob'), and y equal to the quantitative variable ('G3').`"
   ]
  },
  {
   "cell_type": "code",
   "execution_count": null,
   "metadata": {},
   "outputs": [],
   "source": [
    "import pandas as pd\n",
    "import matplotlib.pyplot as plt \n",
    "import seaborn as sns\n",
    "import codecademylib3\n",
    "\n",
    "students = pd.read_csv('students.csv')\n",
    "\n",
    "#create the box-plot here:\n",
    "sns.boxplot(data = students, x = 'Fjob', y = 'G3')\n",
    "plt.show()\n",
    "\n",
    "\n"
   ]
  },
  {
   "cell_type": "markdown",
   "metadata": {},
   "source": [
    "# Review\n",
    "In this lesson, we used summary statistics and data visualization tools to examine an association between a quantitative and categorical variable. More specifically, we:\n",
    "\n",
    "- evaluated mean and median differences\n",
    "- inspected side-by-side box plots\n",
    "- examined overlapping histograms\n",
    "- looked at pair-wise comparisons for a quantitative and a non-binary categorical variable\n",
    "\n",
    "\n",
    "After calculating a mean or median difference and visually comparing distributions, the next step might be to run a hypothesis test to look for evidence of population-level differences (will a similar difference in scores be observed for ALL students who ever attend these schools?). Now that you know how to investigate whether variables are associated, you can use these techniques to explore associations on more datasets.\n",
    "\n",
    "Note that data in this lesson was downloaded from the UCI Machine Learning repository:\n",
    "\n",
    "Dua, D. and Graff, C. (2019). UCI Machine Learning Repository [archive.ics.uci.edu/ml/index.php]. Irvine, CA: University of California, School of Information and Computer Science.\n",
    "\n",
    "The data was originally collected by:\n",
    "\n",
    "P. Cortez and A. Silva. Using Data Mining to Predict Secondary School Student Performance. In A. Brito and J. Teixeira Eds., Proceedings of 5th FUture BUsiness TEChnology Conference (FUBUTEC 2008) pp. 5-12, Porto, Portugal, April, 2008, EUROSIS, ISBN 978-9077381-39-7.\n",
    "\n",
    "\n",
    "## Instructions\n",
    "A new dataset named titanic has been uploaded for you in script.py. This data contains information about passengers on the Titanic, including the amount they paid for their fare and whether or not they survived (note: this is a subset of the full data available). To practice the skills learned in this lesson, let’s investigate whether there is an association between the fare that a passenger paid (Fare) and whether or not they survived (Survived, which is equal to 0 if the passenger died and 1 if they survived):\n",
    "\n",
    "- Calculate the difference in mean fare paid by those who survived and those who died. Which group paid a higher average fare?\n",
    "\n",
    "- Calculate the difference in median fare for those who survived and those who died.\n",
    "\n",
    "- Create side-by-side box plots of fares by survival. Now that you can see the spread of the data, do the mean/median differences seem relatively small or large?\n",
    "\n",
    "- Create overlapping histograms of fares by survival (you’ll have to delete or comment out your box plot code before you try to make a histogram). Does this provide any additional information?\n",
    "Solution code is provided for you in solution.py if you need assistance."
   ]
  },
  {
   "cell_type": "code",
   "execution_count": null,
   "metadata": {},
   "outputs": [],
   "source": [
    "import numpy as np\n",
    "import pandas as pd\n",
    "import matplotlib.pyplot as plt \n",
    "import seaborn as sns\n",
    "import codecademylib3\n",
    "\n",
    "titanic = pd.read_csv('titanic.csv')\n",
    "\n",
    "#print head rows\n",
    "print(titanic.head())\n",
    "\n",
    "#separate out fares by survival\n",
    "fare_deaths = titanic.Fare[titanic.Survived == 0]\n",
    "fare_survived = titanic.Fare[titanic.Survived == 1]\n",
    "\n",
    "#mean difference\n",
    "mean_deaths = np.mean(fare_deaths)\n",
    "mean_survived = np.mean(fare_survived)\n",
    "print('Mean score - Deaths:')\n",
    "print(mean_deaths)\n",
    "print('Mean score - Survived:')\n",
    "print(mean_survived)\n",
    "mean_diff = mean_survived - mean_deaths\n",
    "print('Mean difference:')\n",
    "print(mean_diff)\n",
    "\n",
    "#median difference\n",
    "median_deaths = np.median(fare_deaths)\n",
    "median_survived = np.median(fare_survived)\n",
    "print('Median score - Deaths:')\n",
    "print(median_deaths)\n",
    "print('Median score - Survived:')\n",
    "print(median_survived)\n",
    "\n",
    "median_difference = median_survived - median_deaths\n",
    "print('Median Difference:')\n",
    "print(median_difference)\n",
    "\n",
    "#create subplots (scroll to see plots)\n",
    "fig = plt.figure(figsize = (10, 20))\n",
    "\n",
    "#create the boxplot:\n",
    "ax = fig.add_subplot(2, 1, 1)\n",
    "ax = sns.boxplot(data = titanic, x = 'Survived', y = 'Fare' )\n",
    "\n",
    "#create the histograms:\n",
    "ax = fig.add_subplot(2,1,2)\n",
    "plt.hist(fare_deaths, color = 'red', label = 'Deaths', normed = True, alpha = 0.5)\n",
    "plt.hist(fare_survived, color = 'green', label = 'survived', normed = True, alpha = 0.5 )\n",
    "plt.legend()\n",
    "plt.show()"
   ]
  }
 ],
 "metadata": {
  "interpreter": {
   "hash": "126de395fc5ab05c9b404d5156ac230f2dc2d73638f7037ba66d30fa539ce6ef"
  },
  "kernelspec": {
   "display_name": "Python 3.10.1 64-bit",
   "language": "python",
   "name": "python3"
  },
  "language_info": {
   "name": "python",
   "version": "3.10.1"
  },
  "orig_nbformat": 4
 },
 "nbformat": 4,
 "nbformat_minor": 2
}
