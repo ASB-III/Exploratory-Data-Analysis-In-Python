{
 "cells": [
  {
   "cell_type": "markdown",
   "metadata": {},
   "source": [
    "# NBA Trends\n",
    "In this project, you’ll analyze data from the NBA (National Basketball Association) and explore possible associations.\n",
    "\n",
    "This data was originally sourced from 538’s Analysis of the Complete History Of The NBA and contains the original, unmodified data from Basketball Reference as well as several additional variables 538 added to perform their own analysis.\n",
    "\n",
    "You can read more about the data and how it’s being used by 538 here. For this project we’ve limited the data to just 5 teams and 10 columns (plus one constructed column, point_diff, the difference between pts and opp_pts).\n",
    "\n",
    "You will create several charts and tables in this project, so you’ll need to use plt.clf() between plots in your code so that the plots don’t layer on top of one another."
   ]
  },
  {
   "cell_type": "markdown",
   "metadata": {},
   "source": [
    "## Tasks\n",
    "\n",
    "\n",
    "Mark the tasks as complete by checking them off\n",
    "Analyzing relationships between Quant and Categorical\n",
    "##### 1. In script.py, the data has been subsetted for you into two smaller datasets: games from 2010 (named nba_2010) and games from 2014 (named nba_2014). To start, let’s focus on the 2010 data.\n",
    "\n",
    "Suppose you want to compare the knicks to the nets with respect to points earned per game. Using the pts column from the nba_2010 DataFrame, create two series named knicks_pts (fran_id = \"Knicks\") and nets_pts(fran_id = \"Nets\") that represent the points each team has scored in their games.\n",
    "\n",
    "\n",
    "`Hint` <br>\n",
    "`You can filter the values in the DataFrame using the team names and selecting only the pts column.`"
   ]
  },
  {
   "cell_type": "code",
   "execution_count": null,
   "metadata": {},
   "outputs": [],
   "source": [
    "knicks_pts = nba_2010.pts[nba.fran_id=='____']\n",
    "nets_pts = nba_2010.pts[nba.fran_id=='___']"
   ]
  },
  {
   "cell_type": "markdown",
   "metadata": {},
   "source": [
    "##### 2. Calculate the difference between the two teams’ average points scored and save the result as diff_means_2010. Based on this value, do you think fran_id and pts are associated? Why or why not?\n",
    "\n",
    "\n",
    "`Hint` <br>\n",
    "`Use the np.mean() function to calculate the mean points scored for each team. You can then take the difference of the two values.`"
   ]
  },
  {
   "cell_type": "code",
   "execution_count": null,
   "metadata": {},
   "outputs": [],
   "source": [
    "knicks_mean_score = np.mean(____) # Mean of Knicks Scores\n",
    "nets_mean_score = np.mean(____) # Mean of Nets Scores\n",
    "diff_means = knicks_mean_score - nets_mean_score"
   ]
  },
  {
   "cell_type": "markdown",
   "metadata": {},
   "source": [
    "##### 3. Rather than comparing means, it’s useful look at the full distribution of values to understand whether a difference in means is meaningful. Create a set of overlapping histograms that can be used to compare the points scored for the Knicks compared to the Nets. Use the series you created in the previous step (1) and the code below to create the plot. Do the distributions appear to be the same?\n",
    "\n",
    "\n",
    "`Hint` <br>\n",
    "`Fill in the code below:`"
   ]
  },
  {
   "cell_type": "code",
   "execution_count": null,
   "metadata": {},
   "outputs": [],
   "source": [
    "plt.hist(____, alpha=0.8, normed = True, label='knicks')\n",
    "plt.hist(____, alpha=0.8, normed = True, label='nets')\n",
    "plt.legend()\n",
    "plt.show()"
   ]
  },
  {
   "cell_type": "markdown",
   "metadata": {},
   "source": [
    "##### 4. Now, let’s compare the 2010 games to 2014. Replicate the steps from the previous three exercises using nba_2014. First, calculate the mean difference between the two teams points scored. Save and print the value as diff_means_2014. Did the difference in points get larger or smaller in 2014? Then, plot the overlapping histograms. Does the mean difference you calculated make sense?\n",
    "\n",
    "\n",
    "`Hint` <br>\n",
    "`Replicate the steps from Exercises 1-3 using nba_2014.`\n",
    "\n",
    "##### 5. For the remainder of this project, we’ll focus on data from 2010. Let’s now include all teams in the dataset and investigate the relationship between franchise and points scored per game.\n",
    "\n",
    "Using nba_2010, generate side-by-side boxplots with points scored (pts) on the y-axis and team (fran_id) on the x-axis. Is there any overlap between the boxes? Does this chart suggest that fran_id and pts are associated? Which pairs of teams, if any, earn different average scores per game?\n",
    "\n",
    "\n",
    "`Hint` <br>\n",
    "`You can use the boxplot function from Seaborn (commonly imported as sns) to generate the side-by-side boxplots. Modify the code below to create your boxplots.`"
   ]
  },
  {
   "cell_type": "code",
   "execution_count": null,
   "metadata": {},
   "outputs": [],
   "source": [
    "plt.clf() #to clear the previous plot\n",
    "sns.boxplot(data = df, x = 'x_variable', y = 'y_variable')\n",
    "plt.show()"
   ]
  },
  {
   "cell_type": "markdown",
   "metadata": {},
   "source": [
    "### Analyzing relationships between Categorical variables\n",
    "##### 6. The variable game_result indicates whether a team won a particular game ('W' stands for “win” and 'L' stands for “loss”). The variable game_location indicates whether a team was playing at home or away ('H' stands for “home” and 'A' stands for “away”). Do teams tend to win more games at home compared to away?\n",
    "\n",
    "Data scientists will often calculate a contingency table of frequencies to help them determine if categorical variables are associated. Calculate a table of frequencies that shows the counts of game_result and game_location.\n",
    "\n",
    "Save your result as location_result_freq and print your result. Based on this table, do you think the variables are associated?\n",
    "\n",
    "\n",
    "`Hint` <br>\n",
    "`You can use the crosstab function from pandas to create a contingency table. Fill in the code below with the correct variables.`"
   ]
  },
  {
   "cell_type": "code",
   "execution_count": null,
   "metadata": {},
   "outputs": [],
   "source": [
    "location_result_freq = pd.crosstab(nba_2010.____, nba_2010.____)\n",
    "print(location_result_freq)"
   ]
  },
  {
   "cell_type": "markdown",
   "metadata": {},
   "source": [
    "##### 7. Convert this table of frequencies to a table of proportions and save the result as location_result_proportions. Print your result.\n",
    "\n",
    "\n",
    "`Hint` <br>\n",
    "`You can convert your table of frequencies to a table of proportions by dividing the values in location_result_freq by the total observations.`"
   ]
  },
  {
   "cell_type": "code",
   "execution_count": null,
   "metadata": {},
   "outputs": [],
   "source": [
    "location_result_proportions = location_result_freq/len(____)\n",
    "print(location_result_proportions)"
   ]
  },
  {
   "cell_type": "markdown",
   "metadata": {},
   "source": [
    "##### 8. Using the contingency table created in the previous exercise (Ex. 7), calculate the expected contingency table (if there were no association) and the Chi-Square statistic and print your results. Does the actual contingency table look similar to the expected table — or different? Based on this output, do you think there is an association between these variables?\n",
    "\n",
    "\n",
    "`Hint` <br>\n",
    "`Use the chi2_contingency() function to see the expected table and Chi-Square statistic. The input to chi2_contingency is a contingency table like the one you created earlier (step 7).`"
   ]
  },
  {
   "cell_type": "code",
   "execution_count": null,
   "metadata": {},
   "outputs": [],
   "source": [
    "chi2, pval, dof, expected = chi2_contingency(____)\n",
    "print(expected)\n",
    "print(chi2)"
   ]
  },
  {
   "cell_type": "markdown",
   "metadata": {},
   "source": [
    "### Analyzing Relationships Between Quantitative Variables\n",
    "##### 9. For each game, 538 has calculated the probability that each team will win the game. In the data, this is saved as forecast. The point_diff column gives the margin of victory/defeat for each team (positive values mean that the team won; negative values mean that they lost). Did teams with a higher probability of winning (according to 538) also tend to win games by more points?\n",
    "\n",
    "Using nba_2010, calculate the covariance between forecast (538’s projected win probability) and point_diff (the margin of victory/defeat) in the dataset. Save and print your result. Looking at the matrix, what is the covariance between these two variables?\n",
    "\n",
    "\n",
    "`Hint` <br>\n",
    "`Use the np.cov() function to calculate the covariance. Pass the dataframe columns, forecast and point_diff as arguments to np.cov(). You can identify the covariance between two by finding the number that is represented twice in the matrix.`\n",
    "\n",
    "##### 10. Using nba_2010, calculate the correlation between forecast and point_diff. Save and print your result. Does this value suggest an association between the two variables?\n",
    "\n",
    "\n",
    "`Hint` <br>\n",
    "`Use pearsonr from the scipy.stats package to calculate correlation. Fill in the code below to calculate the association between these two variables.`"
   ]
  },
  {
   "cell_type": "code",
   "execution_count": null,
   "metadata": {},
   "outputs": [],
   "source": [
    "point_diff_forecast_corr = pearsonr(nba._____, nba._____)\n",
    "print(point_diff_forecast_corr)"
   ]
  },
  {
   "cell_type": "markdown",
   "metadata": {},
   "source": [
    "##### 11. Generate a scatter plot of forecast (on the x-axis) and point_diff (on the y-axis). Does the correlation value make sense?\n",
    "\n",
    "\n",
    "`Hint` <br>\n",
    "`Use the plt.scatter() function and fill the correct variable names in below to generate a scatterplot.`"
   ]
  },
  {
   "cell_type": "code",
   "execution_count": null,
   "metadata": {},
   "outputs": [],
   "source": [
    "plt.clf() #to clear the previous plot\n",
    "plt.scatter('____', '____', data=nba)\n",
    "plt.xlabel('Forecasted Win Prob.')\n",
    "plt.ylabel('Point Differential')\n",
    "plt.show()"
   ]
  },
  {
   "cell_type": "code",
   "execution_count": null,
   "metadata": {},
   "outputs": [],
   "source": [
    "import numpy as np\n",
    "import pandas as pd\n",
    "from scipy.stats import pearsonr, chi2_contingency\n",
    "import matplotlib.pyplot as plt\n",
    "import seaborn as sns\n",
    "\n",
    "import codecademylib3\n",
    "np.set_printoptions(suppress=True, precision = 2)\n",
    "\n",
    "nba = pd.read_csv('./nba_games.csv')\n",
    "\n",
    "# Subset Data to 2010 Season, 2014 Season\n",
    "nba_2010 = nba[nba.year_id == 2010]\n",
    "nba_2014 = nba[nba.year_id == 2014]\n",
    "\n",
    "print(nba_2010.head())\n",
    "print(nba_2014.head())\n",
    "\n",
    "# 2010\n",
    "# Task 1 \n",
    "# Compare the knicks to the nets with respect to points earned per game.\n",
    "knicks_pts_2010 = nba_2010.pts[nba.fran_id=='Knicks']\n",
    "nets_pts_2010 = nba_2010.pts[nba.fran_id=='Nets']\n",
    "\n",
    "print(knicks_pts_2010)\n",
    "print(nets_pts_2010)\n",
    "\n",
    "# Task 2 \n",
    "# Difference between the two teams’ average points scored\n",
    "knicks_mean_score_2010 = np.mean(knicks_pts_2010)\n",
    "nets_mean_score_2010 = np.mean(nets_pts_2010)\n",
    "diff_means_2010 = knicks_mean_score_2010 - nets_mean_score_2010\n",
    "print(knicks_mean_score_2010)\n",
    "print(nets_mean_score_2010)\n",
    "print(diff_means_2010)\n",
    "\n",
    "# Task 3 \n",
    "# Create a set of overlapping histograms that can be used to compare the points scored\n",
    "plt.hist(knicks_pts_2010, alpha=0.8, normed = True, label='knicks')\n",
    "plt.hist(nets_pts_2010, alpha=0.8, normed = True, label='nets')\n",
    "plt.legend()\n",
    "plt.show()\n",
    "plt.clf()\n",
    "\n",
    "# Task 4 Compare 2014\n",
    "# Compare the knicks to the nets with respect to points earned per game.\n",
    "knicks_pts_2014 = nba_2014.pts[nba.fran_id=='Knicks']\n",
    "nets_pts_2014 = nba_2014.pts[nba.fran_id=='Nets']\n",
    "\n",
    "print(knicks_pts_2014)\n",
    "print(nets_pts_2014)\n",
    "\n",
    "# Difference between the two teams’ average points scored\n",
    "knicks_mean_score_2014 = np.mean(knicks_pts_2014)\n",
    "nets_mean_score_2014 = np.mean(nets_pts_2014)\n",
    "diff_means_2014 = knicks_mean_score_2014 - nets_mean_score_2014\n",
    "print(knicks_mean_score_2014)\n",
    "print(nets_mean_score_2014)\n",
    "print(diff_means_2014)\n",
    "\n",
    "# Create a set of overlapping histograms that can be used to compare the points scored\n",
    "plt.hist(knicks_pts_2014, alpha=0.8, normed = True, label='knicks')\n",
    "plt.hist(nets_pts_2014, alpha=0.8, normed = True, label='nets')\n",
    "plt.legend()\n",
    "plt.show()\n",
    "plt.clf()\n",
    "\n",
    "# Task 5\n",
    "# Investigate the relationship between franchise and points scored per game\n",
    "sns.boxplot(data = nba, x = 'pts', y = 'fran_id')\n",
    "plt.show()\n",
    "plt.clf()\n",
    "\n",
    "# Task 6\n",
    "# Investigate whether teams tend to win more games at home compared to away?\n",
    "location_result_freq = pd.crosstab(nba_2010.game_result, nba_2010.game_location)\n",
    "print(location_result_freq)\n",
    "\n",
    "# Task 7 \n",
    "# Convert this table of frequencies to a table of proportions\n",
    "location_result_proportions = location_result_freq/len(nba_2010)\n",
    "print(location_result_proportions)\n",
    "\n",
    "# Task 8 \n",
    "# Calculate the expected contingency table if there were no association) and the Chi-Square statistic and print your results\n",
    "chi2, pval, dof, expected = chi2_contingency(location_result_proportions)\n",
    "print(expected)\n",
    "print(chi2)\n",
    "\n",
    "# Task 9\n",
    "# Using nba_2010, calculate the covariance between forecast (538’s projected win probability) and point_diff (the margin of victory/defeat) in the dataset.\n",
    "covariance_forecast_point_diff = np.cov(nba_2010.forecast, nba_2010.point_diff)\n",
    "print(\"covariance matrix: \")\n",
    "print(covariance_forecast_point_diff)\n",
    "\n",
    "# Task 10\n",
    "# Using nba_2010, calculate the correlation between forecast and point_diff. Save and print your result.\n",
    "correlation_forecast_point_diff = pearsonr(nba_2010.forecast, nba_2010.point_diff)\n",
    "print(correlation_forecast_point_diff)\n",
    "\n",
    "# Task 11\n",
    "# Generate a scatter plot of forecast (on the x-axis) and point_diff (on the y-axis). Does the correlation value make sense?\n",
    "\n",
    "plt.clf()\n",
    "plt.scatter('forecast', 'point_diff', data=nba_2010)\n",
    "plt.xlabel('Forecasted Win Prob.')\n",
    "plt.ylabel('Point Differential')\n",
    "plt.show()"
   ]
  }
 ],
 "metadata": {
  "interpreter": {
   "hash": "126de395fc5ab05c9b404d5156ac230f2dc2d73638f7037ba66d30fa539ce6ef"
  },
  "kernelspec": {
   "display_name": "Python 3.10.1 64-bit",
   "language": "python",
   "name": "python3"
  },
  "language_info": {
   "name": "python",
   "version": "3.10.1"
  },
  "orig_nbformat": 4
 },
 "nbformat": 4,
 "nbformat_minor": 2
}
